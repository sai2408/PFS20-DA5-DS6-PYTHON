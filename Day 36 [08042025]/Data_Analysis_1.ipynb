{
  "cells": [
    {
      "cell_type": "markdown",
      "source": [
        "#Installation of Numpy"
      ],
      "metadata": {
        "id": "tsVkbPv1que-"
      },
      "id": "tsVkbPv1que-"
    },
    {
      "cell_type": "code",
      "execution_count": null,
      "id": "e9d0f03a",
      "metadata": {
        "id": "e9d0f03a",
        "colab": {
          "base_uri": "https://localhost:8080/"
        },
        "outputId": "730bf86b-e69e-4652-d69e-32a21017f181"
      },
      "outputs": [
        {
          "output_type": "stream",
          "name": "stdout",
          "text": [
            "Requirement already satisfied: numpy in /usr/local/lib/python3.11/dist-packages (2.0.2)\n"
          ]
        }
      ],
      "source": [
        "pip install numpy"
      ]
    },
    {
      "cell_type": "code",
      "execution_count": null,
      "id": "c614d7cc",
      "metadata": {
        "id": "c614d7cc",
        "colab": {
          "base_uri": "https://localhost:8080/"
        },
        "outputId": "c43c25e9-53b5-4a9d-f16c-0cc39f8a41fe"
      },
      "outputs": [
        {
          "output_type": "stream",
          "name": "stdout",
          "text": [
            "2.0.2\n"
          ]
        }
      ],
      "source": [
        "import numpy\n",
        "print(numpy.__version__)"
      ]
    },
    {
      "cell_type": "code",
      "execution_count": null,
      "id": "b2ea66f5",
      "metadata": {
        "id": "b2ea66f5"
      },
      "outputs": [],
      "source": [
        "import numpy as np"
      ]
    },
    {
      "cell_type": "markdown",
      "source": [
        "#Creation of Numpy Elements"
      ],
      "metadata": {
        "id": "sCZ-2IHQqyov"
      },
      "id": "sCZ-2IHQqyov"
    },
    {
      "cell_type": "code",
      "execution_count": null,
      "id": "3ebb6bc2",
      "metadata": {
        "id": "3ebb6bc2",
        "colab": {
          "base_uri": "https://localhost:8080/"
        },
        "outputId": "14cc8746-3699-43a4-aad6-14fded651ab9"
      },
      "outputs": [
        {
          "output_type": "stream",
          "name": "stdout",
          "text": [
            "<built-in function array>\n"
          ]
        }
      ],
      "source": [
        "a = np.array\n",
        "print(a)"
      ]
    },
    {
      "cell_type": "code",
      "source": [
        "a = np.array([1,2,3])\n",
        "print(a)"
      ],
      "metadata": {
        "id": "TyNLJgkis5de",
        "colab": {
          "base_uri": "https://localhost:8080/"
        },
        "outputId": "d7635323-839e-43bd-b739-9ece20514980"
      },
      "id": "TyNLJgkis5de",
      "execution_count": null,
      "outputs": [
        {
          "output_type": "stream",
          "name": "stdout",
          "text": [
            "[1 2 3]\n"
          ]
        }
      ]
    },
    {
      "cell_type": "markdown",
      "source": [
        "#Type functions in Numpy"
      ],
      "metadata": {
        "id": "rZ5bvnorq2YF"
      },
      "id": "rZ5bvnorq2YF"
    },
    {
      "cell_type": "code",
      "execution_count": null,
      "id": "3235336b",
      "metadata": {
        "id": "3235336b",
        "colab": {
          "base_uri": "https://localhost:8080/"
        },
        "outputId": "c2686934-961d-4771-c88b-e22eba113e8d"
      },
      "outputs": [
        {
          "output_type": "stream",
          "name": "stdout",
          "text": [
            "['hello' '1' 'mno']\n",
            "<class 'numpy.ndarray'>\n",
            "<U21\n",
            "1\n"
          ]
        }
      ],
      "source": [
        "a = np.array([1,2,3])\n",
        "print(a)\n",
        "#Returns type of an array\n",
        "print(type(a))\n",
        "#Returns data types of elements inside the array\n",
        "print(a.dtype)\n",
        "#Returns dimensions of numpy array\n",
        "print(a.ndim)"
      ]
    },
    {
      "cell_type": "code",
      "execution_count": null,
      "id": "94363587",
      "metadata": {
        "id": "94363587",
        "colab": {
          "base_uri": "https://localhost:8080/"
        },
        "outputId": "b0419297-0e7c-4695-9a5c-5c20ec1fe7a7"
      },
      "outputs": [
        {
          "output_type": "stream",
          "name": "stdout",
          "text": [
            "[['sai' '2' '3']\n",
            " ['4' '5' '6']\n",
            " ['6' '7' '8']\n",
            " ['9' '10' '11']]\n",
            "<class 'numpy.ndarray'>\n",
            "<U21\n",
            "2\n"
          ]
        }
      ],
      "source": [
        "a = np.array([[1,2,3],[4,5,6],[6,7,8],[9,10,11]])\n",
        "print(a)\n",
        "print(type(a))\n",
        "print(a.dtype)\n",
        "print(a.ndim)"
      ]
    },
    {
      "cell_type": "code",
      "execution_count": null,
      "id": "ffe8a76a",
      "metadata": {
        "id": "ffe8a76a",
        "colab": {
          "base_uri": "https://localhost:8080/"
        },
        "outputId": "85404023-ccb8-4949-ab50-fc1501b2c9f1"
      },
      "outputs": [
        {
          "output_type": "stream",
          "name": "stdout",
          "text": [
            "[1.+0.j 2.+0.j 3.+0.j]\n",
            "<class 'numpy.ndarray'>\n",
            "complex128\n",
            "1\n"
          ]
        }
      ],
      "source": [
        "a = np.array([1,2,3], complex)\n",
        "print(a)\n",
        "print(type(a))\n",
        "print(a.dtype)\n",
        "print(a.ndim)"
      ]
    },
    {
      "cell_type": "markdown",
      "source": [
        "#Sizes and shapes of Numpy"
      ],
      "metadata": {
        "id": "ZVarTp0fq6kl"
      },
      "id": "ZVarTp0fq6kl"
    },
    {
      "cell_type": "code",
      "execution_count": null,
      "id": "9c2ce6c5",
      "metadata": {
        "id": "9c2ce6c5",
        "colab": {
          "base_uri": "https://localhost:8080/"
        },
        "outputId": "79924d9b-ab88-4a9d-ff60-bedb22e96f7c"
      },
      "outputs": [
        {
          "output_type": "stream",
          "name": "stdout",
          "text": [
            "6\n",
            "(1, 6)\n"
          ]
        }
      ],
      "source": [
        "a = np.array([[1,2,3,4,5,6]])\n",
        "print(a.size) # no.of elements\n",
        "print(a.shape) #(rows,columns)"
      ]
    },
    {
      "cell_type": "code",
      "execution_count": null,
      "id": "a9913468",
      "metadata": {
        "id": "a9913468",
        "colab": {
          "base_uri": "https://localhost:8080/"
        },
        "outputId": "d10601e9-ad62-4bf6-b133-94af402d90ff"
      },
      "outputs": [
        {
          "output_type": "stream",
          "name": "stdout",
          "text": [
            "[[ 1  2  3  4]\n",
            " [ 5  6  7  8]\n",
            " [ 9 10 11 12]]\n",
            "12\n",
            "(3, 4)\n"
          ]
        }
      ],
      "source": [
        "arr = np.array([[1,2,3,4],[5,6,7,8],[9,10,11,12]])\n",
        "print(arr)\n",
        "print(arr.size)\n",
        "print(arr.shape)"
      ]
    },
    {
      "cell_type": "code",
      "execution_count": null,
      "id": "7a992f30",
      "metadata": {
        "id": "7a992f30",
        "colab": {
          "base_uri": "https://localhost:8080/"
        },
        "outputId": "1f157655-538a-4175-900f-047f022ffdd1"
      },
      "outputs": [
        {
          "output_type": "stream",
          "name": "stdout",
          "text": [
            "Original array\n",
            "[[1 2]\n",
            " [3 4]\n",
            " [5 6]]\n",
            "Reshaped array\n",
            "[[1 2 3]\n",
            " [4 5 6]]\n"
          ]
        }
      ],
      "source": [
        "a = np.array([[1,2],[3,4],[5,6]])\n",
        "print('Original array')\n",
        "print(a)\n",
        "\n",
        "a = a.reshape(2,3)\n",
        "print('Reshaped array')\n",
        "print(a)"
      ]
    },
    {
      "cell_type": "markdown",
      "source": [
        "#Accessing of elements in Numpy"
      ],
      "metadata": {
        "id": "ARpKgzibrAON"
      },
      "id": "ARpKgzibrAON"
    },
    {
      "cell_type": "code",
      "execution_count": null,
      "id": "0e419e26",
      "metadata": {
        "id": "0e419e26",
        "colab": {
          "base_uri": "https://localhost:8080/"
        },
        "outputId": "29d206aa-3760-40a9-bbfe-e3ed5d50daed"
      },
      "outputs": [
        {
          "output_type": "stream",
          "name": "stdout",
          "text": [
            "[[1 2]\n",
            " [3 4]\n",
            " [5 6]]\n",
            "2\n",
            "6\n",
            "4\n",
            "3\n"
          ]
        }
      ],
      "source": [
        "a = np.array([[1,2],[3,4],[5,6]])\n",
        "print(a)\n",
        "print(a[0,1])\n",
        "print(a[2,1])\n",
        "print(a[1,1])\n",
        "print(a[1,0])"
      ]
    },
    {
      "cell_type": "markdown",
      "source": [
        "#Functions in Numpy"
      ],
      "metadata": {
        "id": "PnqU89FaqsXU"
      },
      "id": "PnqU89FaqsXU"
    },
    {
      "cell_type": "code",
      "execution_count": null,
      "id": "09400533",
      "metadata": {
        "id": "09400533",
        "colab": {
          "base_uri": "https://localhost:8080/"
        },
        "outputId": "1973d91a-9eb6-4aa6-ca98-dc057034a078"
      },
      "outputs": [
        {
          "output_type": "stream",
          "name": "stdout",
          "text": [
            "[ 1  2  3 50  4 45  4]\n",
            "50\n",
            "1\n",
            "109\n"
          ]
        }
      ],
      "source": [
        "a = np.array([1,2,3,50,4,45,4])\n",
        "print(a)\n",
        "print(a.max())\n",
        "print(a.min())\n",
        "print(a.sum())"
      ]
    },
    {
      "cell_type": "code",
      "execution_count": null,
      "id": "a759941e",
      "metadata": {
        "id": "a759941e",
        "colab": {
          "base_uri": "https://localhost:8080/"
        },
        "outputId": "1cfdd53b-4165-4642-b58c-785812464c42"
      },
      "outputs": [
        {
          "output_type": "stream",
          "name": "stdout",
          "text": [
            "[[ 0.41660171 -0.89733797  2.1715752  -0.42826289]\n",
            " [-2.05119079  2.26213458 -0.49045792 -0.84744799]]\n"
          ]
        }
      ],
      "source": [
        "# randn --> generates random number between (-1,0,1)\n",
        "\n",
        "a = np.random.randn(2,4)\n",
        "print(a)"
      ]
    },
    {
      "cell_type": "code",
      "execution_count": null,
      "id": "f98eba26",
      "metadata": {
        "id": "f98eba26",
        "colab": {
          "base_uri": "https://localhost:8080/"
        },
        "outputId": "a7e32382-bf59-4927-a59b-8ed36a35d0b0"
      },
      "outputs": [
        {
          "output_type": "stream",
          "name": "stdout",
          "text": [
            "[ 0  1  2  3  4  5  6  7  8  9 10 11]\n"
          ]
        }
      ],
      "source": [
        "# Ranging function in numpy --> arange()\n",
        "\n",
        "print(np.arange(12))"
      ]
    },
    {
      "cell_type": "code",
      "execution_count": null,
      "id": "59451f9c",
      "metadata": {
        "id": "59451f9c",
        "colab": {
          "base_uri": "https://localhost:8080/"
        },
        "outputId": "6e3511b5-fdc8-4758-f326-824c901c0f5d"
      },
      "outputs": [
        {
          "output_type": "stream",
          "name": "stdout",
          "text": [
            "[[ 0  1  2  3]\n",
            " [ 4  5  6  7]\n",
            " [ 8  9 10 11]]\n"
          ]
        }
      ],
      "source": [
        "print(np.arange(12).reshape(3,4))"
      ]
    },
    {
      "cell_type": "code",
      "execution_count": null,
      "id": "1e635cfb",
      "metadata": {
        "id": "1e635cfb",
        "colab": {
          "base_uri": "https://localhost:8080/"
        },
        "outputId": "3ac3e0e4-1fc4-4e3d-acbb-0ab7c693e5d8"
      },
      "outputs": [
        {
          "output_type": "stream",
          "name": "stdout",
          "text": [
            "[[[ 0  1  2]\n",
            "  [ 3  4  5]]\n",
            "\n",
            " [[ 6  7  8]\n",
            "  [ 9 10 11]]]\n",
            "*********************************\n",
            "[[0 1 2]\n",
            " [3 4 5]]\n",
            "*********************************\n",
            "[[ 6  7  8]\n",
            " [ 9 10 11]]\n",
            "*********************************\n",
            "[3 4 5]\n",
            "*********************************\n",
            "5\n"
          ]
        }
      ],
      "source": [
        "arr = np.arange(12).reshape(2,2,3) # --> 2*3, 2*3 (generates 2 matrices)\n",
        "print(arr)\n",
        "print('*********************************')\n",
        "print(arr[0])\n",
        "print('*********************************')\n",
        "print(arr[1])\n",
        "print('*********************************')\n",
        "print(arr[0][1])\n",
        "print('*********************************')\n",
        "print(arr[0][1][2])"
      ]
    },
    {
      "cell_type": "code",
      "execution_count": null,
      "id": "4d05bf6c",
      "metadata": {
        "id": "4d05bf6c",
        "colab": {
          "base_uri": "https://localhost:8080/"
        },
        "outputId": "a86aa085-cedd-485e-8605-a756284e673e"
      },
      "outputs": [
        {
          "output_type": "stream",
          "name": "stdout",
          "text": [
            "[12.2     90.12    12.54789 52.85   ]\n",
            "Rounding function:  [12. 90. 13. 53.]\n",
            "*********************************\n",
            "With decimal: [12.2  90.12 12.55 52.85]\n"
          ]
        }
      ],
      "source": [
        "# Round function ---> around()\n",
        "\n",
        "arr = np.array([12.2, 90.12, 12.54789, 52.85])\n",
        "print(arr)\n",
        "print(\"Rounding function: \", np.around(arr))\n",
        "print('*********************************')\n",
        "print(\"With decimal:\",np.around(arr, 2) )"
      ]
    },
    {
      "cell_type": "code",
      "execution_count": null,
      "id": "1485b305",
      "metadata": {
        "id": "1485b305"
      },
      "outputs": [],
      "source": [
        "# Numpy Broadcasting"
      ]
    },
    {
      "cell_type": "code",
      "execution_count": null,
      "id": "bbf1edd3",
      "metadata": {
        "id": "bbf1edd3",
        "colab": {
          "base_uri": "https://localhost:8080/"
        },
        "outputId": "d26de32b-14a4-468b-d474-0b940e2e706e"
      },
      "outputs": [
        {
          "output_type": "stream",
          "name": "stdout",
          "text": [
            "[ 3  6  9 12 15 18 21]\n"
          ]
        }
      ],
      "source": [
        "a = np.array([1,2,3,4,5,6,7])\n",
        "b = np.array([2,4,6,8,10,12,14])\n",
        "c = a+b\n",
        "print(c)"
      ]
    },
    {
      "cell_type": "code",
      "source": [
        "a = np.array([1,2,3,4,5,6,7])\n",
        "b = np.array([2,4,6,8,10,12,14])\n",
        "c = a-b\n",
        "print(c)"
      ],
      "metadata": {
        "id": "SiuWv-Vv2Hq2",
        "colab": {
          "base_uri": "https://localhost:8080/"
        },
        "outputId": "72e978e7-2e79-45ea-e861-c50775165cf4"
      },
      "id": "SiuWv-Vv2Hq2",
      "execution_count": null,
      "outputs": [
        {
          "output_type": "stream",
          "name": "stdout",
          "text": [
            "[-1 -2 -3 -4 -5 -6 -7]\n"
          ]
        }
      ]
    },
    {
      "cell_type": "code",
      "source": [
        "a = np.array([1,2,3,4,5,6,7])\n",
        "b = np.array([2,4,6,8,10,12,14])\n",
        "c = a*b\n",
        "print(c)"
      ],
      "metadata": {
        "id": "h-K3ropO2K2h",
        "colab": {
          "base_uri": "https://localhost:8080/"
        },
        "outputId": "496bbe92-207a-4d86-f5ed-996f3405dff9"
      },
      "id": "h-K3ropO2K2h",
      "execution_count": null,
      "outputs": [
        {
          "output_type": "stream",
          "name": "stdout",
          "text": [
            "[ 2  8 18 32 50 72 98]\n"
          ]
        }
      ]
    },
    {
      "cell_type": "code",
      "execution_count": null,
      "id": "562f1a80",
      "metadata": {
        "id": "562f1a80"
      },
      "outputs": [],
      "source": [
        "a = np.array([[1,2,3,4],[5,6,7,8],[9,10,11,12]])\n",
        "b = np.array([2,4,6,8])\n",
        "print(a)\n",
        "print('*********************************')\n",
        "print(b)\n",
        "print('*********************************')\n",
        "print(a+b)\n",
        "print('*********************************')\n",
        "print(a-b)\n",
        "print('*********************************')\n",
        "print(a*b)"
      ]
    },
    {
      "cell_type": "code",
      "execution_count": null,
      "id": "8a8bd575",
      "metadata": {
        "id": "8a8bd575",
        "colab": {
          "base_uri": "https://localhost:8080/"
        },
        "outputId": "ace85156-70c7-4908-b46d-b4f15ec85183"
      },
      "outputs": [
        {
          "output_type": "stream",
          "name": "stdout",
          "text": [
            "[[ 0  1  2]\n",
            " [ 3  4  5]\n",
            " [ 6  7  8]\n",
            " [ 9 10 11]\n",
            " [12 13 14]]\n",
            "*********************************\n",
            "[[0]\n",
            " [1]\n",
            " [2]\n",
            " [3]\n",
            " [4]]\n",
            "*********************************\n",
            "[[ 0  1  2]\n",
            " [ 4  5  6]\n",
            " [ 8  9 10]\n",
            " [12 13 14]\n",
            " [16 17 18]]\n"
          ]
        }
      ],
      "source": [
        "arr1 = np.arange(15).reshape(5,3)\n",
        "print(arr1)\n",
        "print('*********************************')\n",
        "arr2 = np.arange(5).reshape(5,1)\n",
        "print(arr2)\n",
        "print('*********************************')\n",
        "print(arr1 + arr2)"
      ]
    },
    {
      "cell_type": "code",
      "execution_count": null,
      "id": "55ebd35e",
      "metadata": {
        "id": "55ebd35e",
        "colab": {
          "base_uri": "https://localhost:8080/"
        },
        "outputId": "b3f02d75-ad67-406f-87ea-0f0ffdf62f60"
      },
      "outputs": [
        {
          "output_type": "stream",
          "name": "stdout",
          "text": [
            "[[1 2 3]\n",
            " [4 5 6]\n",
            " [7 8 9]]\n",
            "*********************************\n",
            "[[1 4 7]\n",
            " [2 5 8]\n",
            " [3 6 9]]\n"
          ]
        }
      ],
      "source": [
        "a = np.array([[1,2,3],[4,5,6],[7,8,9]])\n",
        "print(a)\n",
        "print('*********************************')\n",
        "at = a.T # Transpose --> rows changes to columns, columns changes to rows\n",
        "print(at)"
      ]
    },
    {
      "cell_type": "markdown",
      "source": [
        "#Pandas"
      ],
      "metadata": {
        "id": "Eb080vYN2mpo"
      },
      "id": "Eb080vYN2mpo"
    },
    {
      "cell_type": "markdown",
      "source": [
        "#Installation of Pandas"
      ],
      "metadata": {
        "id": "_u51ZYRg2oeM"
      },
      "id": "_u51ZYRg2oeM"
    },
    {
      "cell_type": "code",
      "source": [
        "pip install pandas"
      ],
      "metadata": {
        "id": "KKElCqaI2n2b",
        "colab": {
          "base_uri": "https://localhost:8080/"
        },
        "outputId": "2ebad0c5-62d3-43e7-ff3e-52190fa700a8"
      },
      "id": "KKElCqaI2n2b",
      "execution_count": null,
      "outputs": [
        {
          "output_type": "stream",
          "name": "stdout",
          "text": [
            "Requirement already satisfied: pandas in /usr/local/lib/python3.11/dist-packages (2.2.2)\n",
            "Requirement already satisfied: numpy>=1.23.2 in /usr/local/lib/python3.11/dist-packages (from pandas) (2.0.2)\n",
            "Requirement already satisfied: python-dateutil>=2.8.2 in /usr/local/lib/python3.11/dist-packages (from pandas) (2.8.2)\n",
            "Requirement already satisfied: pytz>=2020.1 in /usr/local/lib/python3.11/dist-packages (from pandas) (2025.2)\n",
            "Requirement already satisfied: tzdata>=2022.7 in /usr/local/lib/python3.11/dist-packages (from pandas) (2025.2)\n",
            "Requirement already satisfied: six>=1.5 in /usr/local/lib/python3.11/dist-packages (from python-dateutil>=2.8.2->pandas) (1.17.0)\n"
          ]
        }
      ]
    },
    {
      "cell_type": "code",
      "source": [
        "import pandas as pd"
      ],
      "metadata": {
        "id": "PKO7bzJwysT8"
      },
      "id": "PKO7bzJwysT8",
      "execution_count": null,
      "outputs": []
    },
    {
      "cell_type": "markdown",
      "source": [
        "#Pandas Series"
      ],
      "metadata": {
        "id": "-JrWdnu-22VC"
      },
      "id": "-JrWdnu-22VC"
    },
    {
      "cell_type": "code",
      "source": [
        "info = np.array(['A','B','C','D','E','F'])\n",
        "print(info)\n",
        "a = pd.Series(info)\n",
        "print(a)"
      ],
      "metadata": {
        "id": "4MqR5Uby23T6",
        "colab": {
          "base_uri": "https://localhost:8080/"
        },
        "outputId": "38c7da8b-04df-4553-c253-3ae069c6c22e"
      },
      "id": "4MqR5Uby23T6",
      "execution_count": null,
      "outputs": [
        {
          "output_type": "stream",
          "name": "stdout",
          "text": [
            "['A' 'B' 'C' 'D' 'E' 'F']\n",
            "0    A\n",
            "1    B\n",
            "2    C\n",
            "3    D\n",
            "4    E\n",
            "5    F\n",
            "dtype: object\n"
          ]
        }
      ]
    },
    {
      "cell_type": "code",
      "source": [
        "info = {'x':100,'y':200,'z':300}\n",
        "a = pd.Series(info)\n",
        "print(a)"
      ],
      "metadata": {
        "id": "PtOg6ldl26oh",
        "colab": {
          "base_uri": "https://localhost:8080/"
        },
        "outputId": "c909dba2-1eb9-40c1-90e5-3b178600ec5b"
      },
      "id": "PtOg6ldl26oh",
      "execution_count": null,
      "outputs": [
        {
          "output_type": "stream",
          "name": "stdout",
          "text": [
            "x    100\n",
            "y    200\n",
            "z    300\n",
            "dtype: int64\n"
          ]
        }
      ]
    },
    {
      "cell_type": "code",
      "source": [
        "arr = [1,2,3,4]\n",
        "index = ['a','b','c','d']\n",
        "x = pd.Series(arr,index)\n",
        "print(x)"
      ],
      "metadata": {
        "id": "EnwaO82z281B",
        "colab": {
          "base_uri": "https://localhost:8080/"
        },
        "outputId": "49783b78-8a7f-416f-eeef-962f31587236"
      },
      "id": "EnwaO82z281B",
      "execution_count": null,
      "outputs": [
        {
          "output_type": "stream",
          "name": "stdout",
          "text": [
            "a    1\n",
            "b    2\n",
            "c    3\n",
            "d    4\n",
            "dtype: int64\n"
          ]
        }
      ]
    },
    {
      "cell_type": "code",
      "source": [
        "print(x[3])\n",
        "print(x.index)\n",
        "print(x.values)\n",
        "print(x.dtype)\n",
        "print(x.size)\n",
        "print(x.shape)\n",
        "print(len(x))"
      ],
      "metadata": {
        "id": "v35EJLmz2_kN",
        "colab": {
          "base_uri": "https://localhost:8080/"
        },
        "outputId": "22571c8f-1db9-47c8-8907-32d05eed515c"
      },
      "id": "v35EJLmz2_kN",
      "execution_count": null,
      "outputs": [
        {
          "output_type": "stream",
          "name": "stdout",
          "text": [
            "4\n",
            "Index(['a', 'b', 'c', 'd'], dtype='object')\n",
            "[1 2 3 4]\n",
            "int64\n",
            "4\n",
            "(4,)\n",
            "4\n"
          ]
        },
        {
          "output_type": "stream",
          "name": "stderr",
          "text": [
            "<ipython-input-46-73b66bb5e031>:1: FutureWarning: Series.__getitem__ treating keys as positions is deprecated. In a future version, integer keys will always be treated as labels (consistent with DataFrame behavior). To access a value by position, use `ser.iloc[pos]`\n",
            "  print(x[3])\n"
          ]
        }
      ]
    },
    {
      "cell_type": "code",
      "source": [
        "a = pd.Series(data = [1,2,3,np.nan], index = [0,1,2,3])\n",
        "print(a)\n",
        "print(a.hasnans)"
      ],
      "metadata": {
        "id": "Qz2o2euX3CI9",
        "colab": {
          "base_uri": "https://localhost:8080/"
        },
        "outputId": "d07e74ad-871a-407d-b5ac-7e039faf4012"
      },
      "id": "Qz2o2euX3CI9",
      "execution_count": null,
      "outputs": [
        {
          "output_type": "stream",
          "name": "stdout",
          "text": [
            "0      1\n",
            "1      2\n",
            "2      3\n",
            "3    100\n",
            "dtype: int64\n",
            "False\n"
          ]
        }
      ]
    },
    {
      "cell_type": "markdown",
      "source": [
        "#DataFrame"
      ],
      "metadata": {
        "id": "tvQUXHOS3EPM"
      },
      "id": "tvQUXHOS3EPM"
    },
    {
      "cell_type": "code",
      "source": [
        "df = pd.DataFrame()\n",
        "print(df)"
      ],
      "metadata": {
        "id": "CaZNulcx3FJo"
      },
      "id": "CaZNulcx3FJo",
      "execution_count": null,
      "outputs": []
    },
    {
      "cell_type": "code",
      "source": [
        "x = ['Python','Pandas']\n",
        "\n",
        "df = pd.DataFrame(x)\n",
        "df"
      ],
      "metadata": {
        "id": "PHpb4L3v3H-A"
      },
      "id": "PHpb4L3v3H-A",
      "execution_count": null,
      "outputs": []
    },
    {
      "cell_type": "code",
      "source": [
        "info = {'ID':[101,102,103,104,105],'Department':['MEC','CEC','MPC','BIPC','HEC']}\n",
        "\n",
        "df = pd.DataFrame(info)\n",
        "df"
      ],
      "metadata": {
        "id": "4p8qENmi3JYj"
      },
      "id": "4p8qENmi3JYj",
      "execution_count": null,
      "outputs": []
    },
    {
      "cell_type": "code",
      "source": [
        "emp = ['Parker','John','Smith','William']\n",
        "id = [102,107,109,111]\n",
        "\n",
        "emp_series = pd.Series(emp)\n",
        "id_series = pd.Series(id)\n",
        "\n",
        "a = {'Emp':emp_series, 'ID':id_series}\n",
        "df = pd.DataFrame(a)\n",
        "df\n"
      ],
      "metadata": {
        "id": "HsC7AzYo3LCF"
      },
      "id": "HsC7AzYo3LCF",
      "execution_count": null,
      "outputs": []
    },
    {
      "cell_type": "code",
      "source": [
        "info = {'One':pd.Series([1,2,3,4,5,6,7], index=['a','b','c','d','e','f','g']),\n",
        "       'Two': pd.Series([1,2,3,4,5,6,7,8],index = ['a','b','c','d','e','f','g','h'])}\n",
        "\n",
        "df = pd.DataFrame(info)\n",
        "df"
      ],
      "metadata": {
        "id": "sW0POTNc3MzO"
      },
      "id": "sW0POTNc3MzO",
      "execution_count": null,
      "outputs": []
    },
    {
      "cell_type": "code",
      "source": [
        "df['Two']"
      ],
      "metadata": {
        "id": "BhQu30vn3MrY"
      },
      "id": "BhQu30vn3MrY",
      "execution_count": null,
      "outputs": []
    },
    {
      "cell_type": "code",
      "source": [
        "df['Three'] = df['One'] + df['Two']\n",
        "df"
      ],
      "metadata": {
        "id": "QzBuI41p3QIN"
      },
      "id": "QzBuI41p3QIN",
      "execution_count": null,
      "outputs": []
    },
    {
      "cell_type": "code",
      "source": [
        "del df['One']\n",
        "df"
      ],
      "metadata": {
        "id": "jPrIrerF3Rlf"
      },
      "id": "jPrIrerF3Rlf",
      "execution_count": null,
      "outputs": []
    },
    {
      "cell_type": "markdown",
      "source": [
        "#loc and iloc"
      ],
      "metadata": {
        "id": "D3YVUVPo3TnO"
      },
      "id": "D3YVUVPo3TnO"
    },
    {
      "cell_type": "code",
      "source": [
        "data = pd.Series(['a','b','c','d'], index = [1,3,5,7])\n",
        "print(data)\n",
        "print(data.loc[1])\n",
        "print(data.iloc[1])"
      ],
      "metadata": {
        "id": "ScYoZEhg3UiS"
      },
      "id": "ScYoZEhg3UiS",
      "execution_count": null,
      "outputs": []
    },
    {
      "cell_type": "markdown",
      "source": [
        "#Additonal Functions\n"
      ],
      "metadata": {
        "id": "bzWnWTPi3ccZ"
      },
      "id": "bzWnWTPi3ccZ"
    },
    {
      "cell_type": "code",
      "source": [
        "data = {\"Name\":['A','B','C','D'],'Age':['25','21','62','41']}\n",
        "df = pd.DataFrame(data)\n",
        "print(df.dtypes)\n",
        "df"
      ],
      "metadata": {
        "id": "yIR8hMj03d-B"
      },
      "id": "yIR8hMj03d-B",
      "execution_count": null,
      "outputs": []
    },
    {
      "cell_type": "code",
      "source": [
        "#astype --> convert one datatype into another datatype\n",
        "\n",
        "df['Age'] = df['Age'].astype(int)\n",
        "print(df.dtypes)\n",
        "df"
      ],
      "metadata": {
        "id": "7hDvVkNh3gKf"
      },
      "id": "7hDvVkNh3gKf",
      "execution_count": null,
      "outputs": []
    },
    {
      "cell_type": "code",
      "source": [
        "df.describe()"
      ],
      "metadata": {
        "id": "ji3TZvaE3imH"
      },
      "id": "ji3TZvaE3imH",
      "execution_count": null,
      "outputs": []
    },
    {
      "cell_type": "code",
      "source": [
        "data = {'Name':['A','B',np.nan,'D'], 'Age':[25,np.nan,62,41]}\n",
        "df = pd.DataFrame(data)\n",
        "df"
      ],
      "metadata": {
        "id": "bKLl3oh53lrc"
      },
      "id": "bKLl3oh53lrc",
      "execution_count": null,
      "outputs": []
    },
    {
      "cell_type": "code",
      "source": [
        "df1 = df.dropna()\n",
        "df1\n"
      ],
      "metadata": {
        "id": "sqjKW_wI3nMf"
      },
      "id": "sqjKW_wI3nMf",
      "execution_count": null,
      "outputs": []
    },
    {
      "cell_type": "code",
      "source": [
        "df1 = df.fillna(0)\n",
        "df1"
      ],
      "metadata": {
        "id": "v6fvUur03oqx"
      },
      "id": "v6fvUur03oqx",
      "execution_count": null,
      "outputs": []
    },
    {
      "cell_type": "code",
      "source": [
        "data = {\"Name\":['A','B','C','D'],'Age':[25,21,62,41]}\n",
        "df = pd.DataFrame(data)\n",
        "\n",
        "df['Age'].replace(25,30, inplace=True)\n",
        "df"
      ],
      "metadata": {
        "id": "yV181hjS3sU3"
      },
      "id": "yV181hjS3sU3",
      "execution_count": null,
      "outputs": []
    },
    {
      "cell_type": "markdown",
      "source": [
        "#   Wroking with CSV files\n",
        "    #open empty Excel file\n",
        "    #Click on file -> Save as -> (Choose the location of the current .py file)\n",
        "    #Create a file name & choose the type as CSV (comma delimited)\n",
        "    #Enter some values in the file"
      ],
      "metadata": {
        "id": "LJODAA383u7S"
      },
      "id": "LJODAA383u7S"
    },
    {
      "cell_type": "code",
      "source": [
        "df = pd.read_csv('Book1.csv')\n",
        "df"
      ],
      "metadata": {
        "id": "XAnpUrS033NE"
      },
      "id": "XAnpUrS033NE",
      "execution_count": null,
      "outputs": []
    },
    {
      "cell_type": "code",
      "source": [
        "df.head() #generates first 5 rows"
      ],
      "metadata": {
        "id": "YgYN_7U235SH"
      },
      "id": "YgYN_7U235SH",
      "execution_count": null,
      "outputs": []
    },
    {
      "cell_type": "code",
      "source": [
        "df.tail() #generates lsat five rows"
      ],
      "metadata": {
        "id": "2fgBL0xT36qf"
      },
      "id": "2fgBL0xT36qf",
      "execution_count": null,
      "outputs": []
    },
    {
      "cell_type": "code",
      "source": [
        "df"
      ],
      "metadata": {
        "id": "Q_cPAygN38JR"
      },
      "id": "Q_cPAygN38JR",
      "execution_count": null,
      "outputs": []
    },
    {
      "cell_type": "code",
      "source": [
        "df.apply(np.max)"
      ],
      "metadata": {
        "id": "ApDigRhv4AD1"
      },
      "id": "ApDigRhv4AD1",
      "execution_count": null,
      "outputs": []
    },
    {
      "cell_type": "code",
      "source": [
        "df.apply(np.min)"
      ],
      "metadata": {
        "id": "IA1i2LRo4BVi"
      },
      "id": "IA1i2LRo4BVi",
      "execution_count": null,
      "outputs": []
    },
    {
      "cell_type": "code",
      "source": [
        "df.sort_values(by = 'AGE')"
      ],
      "metadata": {
        "id": "ooLdA5FA4D4k"
      },
      "id": "ooLdA5FA4D4k",
      "execution_count": null,
      "outputs": []
    },
    {
      "cell_type": "code",
      "source": [
        "df.loc[df.SALARY == 10000]"
      ],
      "metadata": {
        "id": "Mhm-LSaw4GhW"
      },
      "id": "Mhm-LSaw4GhW",
      "execution_count": null,
      "outputs": []
    },
    {
      "cell_type": "code",
      "source": [
        "df.loc[(df.AGE > 21) & (df.SALARY > 10000),[\"NAME\",\"AGE\"]]"
      ],
      "metadata": {
        "id": "kAeWqj2Y4Ir3"
      },
      "id": "kAeWqj2Y4Ir3",
      "execution_count": null,
      "outputs": []
    }
  ],
  "metadata": {
    "kernelspec": {
      "display_name": "Python 3 (ipykernel)",
      "language": "python",
      "name": "python3"
    },
    "language_info": {
      "codemirror_mode": {
        "name": "ipython",
        "version": 3
      },
      "file_extension": ".py",
      "mimetype": "text/x-python",
      "name": "python",
      "nbconvert_exporter": "python",
      "pygments_lexer": "ipython3",
      "version": "3.9.7"
    },
    "colab": {
      "provenance": [],
      "collapsed_sections": [
        "tvQUXHOS3EPM",
        "D3YVUVPo3TnO",
        "bzWnWTPi3ccZ",
        "LJODAA383u7S"
      ]
    }
  },
  "nbformat": 4,
  "nbformat_minor": 5
}