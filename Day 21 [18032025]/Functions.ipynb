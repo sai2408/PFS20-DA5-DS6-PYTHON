{
  "nbformat": 4,
  "nbformat_minor": 0,
  "metadata": {
    "colab": {
      "provenance": []
    },
    "kernelspec": {
      "name": "python3",
      "display_name": "Python 3"
    },
    "language_info": {
      "name": "python"
    }
  },
  "cells": [
    {
      "cell_type": "markdown",
      "source": [
        "#**Functions**\n",
        "    A function in Python is a block of reusable code that performs a specific task.\n",
        "    Functions help improve code reusability.\n",
        "\n",
        "#**Types of Functions**\n",
        "    1. Builtin Functions\n",
        "    2. User Defined Functions\n",
        "    3. Lambda Functions"
      ],
      "metadata": {
        "id": "xb7zWUjI0B1b"
      }
    },
    {
      "cell_type": "markdown",
      "source": [
        "#**Builtin functions**\n",
        "    1. abs()\n",
        "    2. chr()\n",
        "    3. ord()\n",
        "    4. eval()\n",
        "    5. bin()\n",
        "    6. hex()\n",
        "    7. oct()\n"
      ],
      "metadata": {
        "id": "DzExNQrM0kWg"
      }
    },
    {
      "cell_type": "code",
      "execution_count": null,
      "metadata": {
        "id": "MDwq0OFcz8lo",
        "colab": {
          "base_uri": "https://localhost:8080/"
        },
        "outputId": "325c75e9-6b77-4dc2-a08b-f4c1ca4495f3"
      },
      "outputs": [
        {
          "output_type": "stream",
          "name": "stdout",
          "text": [
            "0b1010\n",
            "0b10100\n",
            "0b10000\n",
            "0x10\n",
            "0o20\n"
          ]
        }
      ],
      "source": [
        "'''\n",
        "x = -10\n",
        "y = abs(x)\n",
        "print(x)\n",
        "print(y)\n",
        "a = 10\n",
        "print(a)\n",
        "b = abs(a)\n",
        "print(b)\n",
        "'''\n",
        "'''\n",
        "print(chr(77))\n",
        "print(chr(65))\n",
        "print(chr(66))\n",
        "print(chr(51))\n",
        "print(chr(97))\n",
        "print(chr(98))\n",
        "'''\n",
        "'''\n",
        "print(ord(\"A\"))\n",
        "print(ord(\"a\"))\n",
        "print(ord(\"1\"))\n",
        "print(ord(\",\"))\n",
        "'''\n",
        "'''\n",
        "x = \"10+20-10\"\n",
        "print(x)\n",
        "print(eval(x))\n",
        "x1 = \"10*(5+2)\"\n",
        "print(eval(x1))\n",
        "'''\n",
        "'''\n",
        "x = 10\n",
        "print(bin(x))\n",
        "print(bin(20))\n",
        "print(bin(16))\n",
        "print(hex(16))\n",
        "print(oct(16))\n",
        "'''"
      ]
    },
    {
      "cell_type": "markdown",
      "source": [
        "#**User Defined Functions**\n",
        "    1. With Parameters With Return Types\n",
        "    2. With Parameters Without Return Types\n",
        "    3. Without Parameters With Return Types\n",
        "    4. Without Parameters Without Return Types\n",
        "    5. Recursive Functions"
      ],
      "metadata": {
        "id": "mEPlnVC01qeH"
      }
    },
    {
      "cell_type": "code",
      "source": [
        "'''\n",
        "a = int(input())\n",
        "b = int(input())\n",
        "print(a+b)\n",
        "'''\n",
        "#WPWR\n",
        "'''\n",
        "def abc(a,b):\n",
        "  c = a+b\n",
        "  return c\n",
        "x = int(input())\n",
        "y = int(input())\n",
        "x1 = abc(x,y)\n",
        "print(x1)\n",
        "'''\n",
        "#WPWOR\n",
        "'''\n",
        "def abc(a,b):\n",
        "  c = a + b\n",
        "  print(c)\n",
        "x = int(input())\n",
        "y = int(input())\n",
        "x1 = abc(x,y)\n",
        "print(x1)\n",
        "'''\n",
        "#WOPWR\n",
        "'''\n",
        "def abc():\n",
        "  a = int(input())\n",
        "  b = int(input())\n",
        "  c = a + b\n",
        "  return c\n",
        "x1 = abc()\n",
        "print(x1)\n",
        "'''\n",
        "#WOPWOR\n",
        "'''\n",
        "def abc():\n",
        "  a = int(input())\n",
        "  b = int(input())\n",
        "  c = a + b\n",
        "  print(c)\n",
        "abc()\n",
        "'''\n",
        "#Problem - 1 [WPWR]\n",
        "'''\n",
        "def hello(v1,v2,v3):\n",
        "  c1 = v1 + v2\n",
        "  c2 = v1 + v3\n",
        "  return c1,c2\n",
        "x1 = int(input())\n",
        "x2 = int(input())\n",
        "x3 = int(input())\n",
        "res1,res2 = hello(x1,x2,x3)\n",
        "print(res1)\n",
        "print(res2)\n",
        "'''\n",
        "#Problem - 2\n",
        "'''\n",
        "t = int(input())\n",
        "for _ in range(t):\n",
        "    n = int(input())\n",
        "    if n > 98:\n",
        "        print(\"Yes\")\n",
        "    else:\n",
        "        print(\"No\")\n",
        "'''\n",
        "#WPWR\n",
        "'''\n",
        "def hello1(a):\n",
        "    if a > 98:\n",
        "        return \"YES\"\n",
        "    else:\n",
        "        return \"NO\"\n",
        "'''\n",
        "#WPWOR\n",
        "'''\n",
        "def hello2(a):\n",
        "    if a > 98:\n",
        "        print(\"Yes\")\n",
        "    else:\n",
        "        print(\"No\")\n",
        "'''\n",
        "#WOPWR\n",
        "'''\n",
        "def hello3():\n",
        "    n = int(input())\n",
        "    if n > 98:\n",
        "        return \"Yes\"\n",
        "    else:\n",
        "        return \"No\"\n",
        "'''\n",
        "#WOPWOR\n",
        "'''\n",
        "def hello4():\n",
        "    n = int(input())\n",
        "    if n > 98:\n",
        "        print(\"YEs\")\n",
        "    else:\n",
        "        print(\"No\")\n",
        "'''\n",
        "'''\n",
        "t = int(input())\n",
        "for _ in range(t):\n",
        "    hello4()\n",
        "'''"
      ],
      "metadata": {
        "colab": {
          "base_uri": "https://localhost:8080/"
        },
        "id": "6qZVDxT09A4M",
        "outputId": "771d7041-d73e-44c6-e547-5fb2aab1914a"
      },
      "execution_count": null,
      "outputs": [
        {
          "output_type": "stream",
          "name": "stdout",
          "text": [
            "10\n",
            "20\n",
            "30\n",
            "30\n",
            "40\n"
          ]
        }
      ]
    },
    {
      "cell_type": "markdown",
      "source": [
        "#**Pass By Reference**\n",
        "    All parameters (arguments) in python language are passed by reference\n",
        "    It means when we change a parameter within a function the change will reflects in main object\n"
      ],
      "metadata": {
        "id": "a2Hog2Dc193M"
      }
    },
    {
      "cell_type": "code",
      "source": [
        "a = [10,20,30]\n",
        "def hello():\n",
        "  a[1] = 250\n",
        "hello()\n",
        "print(a)"
      ],
      "metadata": {
        "id": "jGSJYROl2hqf",
        "colab": {
          "base_uri": "https://localhost:8080/"
        },
        "outputId": "d2795e06-20c4-49e9-9732-d4322b5181fb"
      },
      "execution_count": null,
      "outputs": [
        {
          "output_type": "stream",
          "name": "stdout",
          "text": [
            "[10, 250, 30]\n"
          ]
        }
      ]
    },
    {
      "cell_type": "markdown",
      "source": [
        "#**Function Arguments**\n",
        "    1. Default Arguments\n",
        "    2. Required Arguments\n",
        "    3. Keyword Arguments\n",
        "    4. Variable number of arguments"
      ],
      "metadata": {
        "id": "cOlc7zJ_2mOw"
      }
    },
    {
      "cell_type": "code",
      "source": [
        "#Required Arguments\n",
        "'''\n",
        "def hello(a,b,c):\n",
        "  print(a+b+c)\n",
        "hello(10,20,30)\n",
        "'''\n",
        "#Default Argument\n",
        "'''\n",
        "def hello(a=0,b=0,c=0,d=0):\n",
        "  print(a+b+c+d)\n",
        "hello(10,20,30)\n",
        "hello(10,20)\n",
        "hello(10)\n",
        "hello()\n",
        "'''\n",
        "#Keyword arguments\n",
        "'''\n",
        "def hello(a=1,b=2,c=3):\n",
        "  print(a+b+c)\n",
        "hello(10,20,30)\n",
        "hello(10,20)\n",
        "hello(10)\n",
        "hello(c=40)\n",
        "'''\n",
        "#Variable number of arguments\n",
        "'''\n",
        "def hello(*a):\n",
        "  res = 0\n",
        "  for i in a:\n",
        "    res = res + i\n",
        "  print(res)\n",
        "hello()\n",
        "hello(10)\n",
        "hello(10,20)\n",
        "hello(10,20,40)\n",
        "'''\n",
        "#Req Arguments\n",
        "'''\n",
        "x = 10\n",
        "y = 20\n",
        "def hello(a,b):\n",
        "  return a*b\n",
        "print(hello(x,y))\n",
        "'''\n",
        "#Default Argument\n",
        "'''\n",
        "def hello(a=1,b=1,c=1):\n",
        "  print(a*b*c)\n",
        "hello()\n",
        "hello(10)\n",
        "hello(10,20)\n",
        "hello(10,20,30)\n",
        "'''\n",
        "#Keyword Arguments\n",
        "'''\n",
        "def hello(a,b):\n",
        "  return a+\" \"+b\n",
        "print(hello(a=\"Hello\",b=\"World\"))\n",
        "print(hello(b=\"World\",a=\"Hello\"))\n",
        "'''\n",
        "#Variable number of arguments\n",
        "'''\n",
        "def hello(*a):\n",
        "  res = 1\n",
        "  for i in a:\n",
        "    res = res * i\n",
        "  print(res)\n",
        "hello(1)\n",
        "hello(1,2,3)\n",
        "hello(1,2,3,4)\n",
        "hello(1,2,3,4,5)\n",
        "'''"
      ],
      "metadata": {
        "id": "5Vqeuvfz25bB",
        "colab": {
          "base_uri": "https://localhost:8080/"
        },
        "outputId": "b9af6c2c-674e-4e23-c5d1-2962bb69884b"
      },
      "execution_count": null,
      "outputs": [
        {
          "output_type": "stream",
          "name": "stdout",
          "text": [
            "1\n",
            "6\n",
            "24\n",
            "120\n"
          ]
        }
      ]
    },
    {
      "cell_type": "markdown",
      "source": [
        "#**Scope of the variables**\n",
        "    1. Local Variable\n",
        "    2. Global Variable"
      ],
      "metadata": {
        "id": "DndZUGab25xy"
      }
    },
    {
      "cell_type": "code",
      "source": [
        "#Problem - 1\n",
        "'''\n",
        "a = 10\n",
        "def hello():\n",
        "  print(a)\n",
        "hello()\n",
        "print(a)\n",
        "'''\n",
        "#Problem - 2\n",
        "'''\n",
        "a = 10\n",
        "def hello():\n",
        "  a = 20\n",
        "  print(a)\n",
        "hello()\n",
        "print(a)\n",
        "'''\n",
        "#Problem - 3\n",
        "'''\n",
        "def hello():\n",
        "  z = 10\n",
        "  print(z)\n",
        "hello()\n",
        "print(z)\n",
        "'''\n",
        "#Problem - 4\n",
        "'''\n",
        "def hello():\n",
        "  global z2\n",
        "  z2 = 100\n",
        "  print(z2)\n",
        "hello()\n",
        "print(z2)\n",
        "'''"
      ],
      "metadata": {
        "id": "rj6JOEen3Bje",
        "colab": {
          "base_uri": "https://localhost:8080/"
        },
        "outputId": "355d8e4f-4467-4610-ae2f-b96c0c27b394"
      },
      "execution_count": null,
      "outputs": [
        {
          "output_type": "stream",
          "name": "stdout",
          "text": [
            "100\n",
            "100\n"
          ]
        }
      ]
    },
    {
      "cell_type": "code",
      "source": [
        "'''\n",
        "def hello():\n",
        "  print(\"Hello Codegnan\")\n",
        "  hello()\n",
        "hello()\n",
        "'''\n",
        "'''\n",
        "while True:\n",
        "  print(\"Hello Codegnan\")\n",
        "'''\n",
        "'''\n",
        "n = int(input())\n",
        "res = 1\n",
        "for i in range(1,n+1):\n",
        "  res = res * i\n",
        "print(res)\n",
        "'''\n",
        "'''\n",
        "def hello(n):\n",
        "  if n == 1:\n",
        "    return 1\n",
        "  else:\n",
        "    return n * hello(n-1)\n",
        "print(hello(5))\n",
        "'''\n",
        "#Problem - 1 [ n -> 1 ]\n",
        "'''\n",
        "n = 5\n",
        "while n > 0:\n",
        "  print(n)\n",
        "  n = n - 1\n",
        "'''\n",
        "'''\n",
        "def hello(a):\n",
        "  if a > 0:\n",
        "    print(a)\n",
        "    hello(a-1)\n",
        "hello(5)\n",
        "'''\n",
        "#Problem - 2\n",
        "'''\n",
        "n = 5\n",
        "temp = 1\n",
        "while temp <= n:\n",
        "  print(temp)\n",
        "  temp = temp + 1\n",
        "'''\n",
        "'''\n",
        "def hello(a,temp=1):\n",
        "  if temp <= a:\n",
        "    print(temp)\n",
        "    hello(a,temp+1)\n",
        "hello(5)\n",
        "'''\n",
        "#Problem - 3 [ Count of digits of a number ]\n",
        "'''\n",
        "n = 111111\n",
        "c = 0\n",
        "while n > 0:\n",
        "  c = c + 1\n",
        "  n = n // 10\n",
        "print(c)\n",
        "'''\n",
        "#Approach - 1\n",
        "'''\n",
        "def hello(a,temp=0):\n",
        "  if a > 0:\n",
        "    temp = temp + 1\n",
        "    hello(a//10,temp)\n",
        "  else:\n",
        "    print(temp)\n",
        "hello(534)\n",
        "'''\n",
        "#Approach - 2\n",
        "'''\n",
        "def hello(a):\n",
        "  if a > 0:\n",
        "    return 1 + hello(a//10)\n",
        "  else:\n",
        "    return 0\n",
        "print(hello(453736))\n",
        "'''\n",
        "#Problem - 4 [ Sum of Digits in an integer input ]\n",
        "'''\n",
        "res = 0\n",
        "n = 123\n",
        "while n > 0:\n",
        "  res = res + (n%10)\n",
        "  n = n // 10\n",
        "print(res)\n",
        "'''\n",
        "#Approach - 1\n",
        "'''\n",
        "def hello(a):\n",
        "  if a > 0:\n",
        "    return (a%10) + hello(a//10)\n",
        "  else:\n",
        "    return 0\n",
        "print(hello(123))\n",
        "'''"
      ],
      "metadata": {
        "colab": {
          "base_uri": "https://localhost:8080/"
        },
        "id": "Do2CB88vSuUn",
        "outputId": "7433576f-755c-4268-b305-005e9a6bf75e"
      },
      "execution_count": null,
      "outputs": [
        {
          "output_type": "stream",
          "name": "stdout",
          "text": [
            "6\n"
          ]
        }
      ]
    },
    {
      "cell_type": "markdown",
      "source": [
        "#**Lambda Functions (Anonymous Functions)**\n",
        "    syntax :\n",
        "        fun_name = lambda parameters : operations"
      ],
      "metadata": {
        "id": "gA1GqLWS3ECL"
      }
    },
    {
      "cell_type": "code",
      "source": [
        "def add(a,b):\n",
        "  return a*b\n",
        "print(add(10,20))\n",
        "\n",
        "add = lambda a,b : a*b\n",
        "print(add(10,20))"
      ],
      "metadata": {
        "id": "ajwF4mCE3Qo9",
        "colab": {
          "base_uri": "https://localhost:8080/"
        },
        "outputId": "1cbe4b16-e162-44c2-ef39-4f5302abea43"
      },
      "execution_count": 3,
      "outputs": [
        {
          "output_type": "stream",
          "name": "stdout",
          "text": [
            "200\n",
            "200\n"
          ]
        }
      ]
    },
    {
      "cell_type": "markdown",
      "source": [
        "#**Lambda With Filter**\n",
        "    1. Filters an iterable based on a function\n",
        "    2. Allows us to create a easy way of filtering elements\n",
        "    Syntax:\n",
        "        fun_name = filter(lambda parameters : operations, iterable)\n",
        "  "
      ],
      "metadata": {
        "id": "c-f3D-Gg3wxc"
      }
    },
    {
      "cell_type": "code",
      "source": [
        "'''\n",
        "a = [1,2,3,4,5]\n",
        "b = []\n",
        "for i in a:\n",
        "  if i%2==0:\n",
        "    b.append(i)\n",
        "print(b)\n",
        "\n",
        "x = list(filter(lambda x : x%2==0,a))\n",
        "y = tuple(filter(lambda x : x%2==0,a))\n",
        "print(x)\n",
        "print(y)\n",
        "'''\n",
        "#Find all Postive integers from a list\n",
        "'''\n",
        "n1 = [10,20,-30,56,-40,-75]\n",
        "r1 = list(filter(lambda x : x>0,n1))\n",
        "print(r1)\n",
        "r2 = list(filter(lambda x : x<0,n1))\n",
        "print(r2)\n",
        "'''\n",
        "#Find words whose length is greater than 3\n",
        "'''\n",
        "n2 = [\"hello\",\"world\",\"codegnan\",\"pfs\"]\n",
        "r2 = list(filter(lambda word : len(word)>3,n2))\n",
        "print(r2)\n",
        "'''\n",
        "#Find words that starts with \"A\"\n",
        "'''\n",
        "n3 = [\"Alice\",\"Bob\",\"Charlie\",\"Arun\"]\n",
        "r3 = list(filter(lambda word : word.startswith(\"A\") ,n3))\n",
        "print(r3)\n",
        "'''\n",
        "#Find all the multiples of 3\n",
        "'''\n",
        "n4 = [10,11,12,13,14,15,16,17,18,19,20]\n",
        "r4 = list(filter(lambda x : x%3==0,n4))\n",
        "print(r4)\n",
        "'''\n",
        "\n",
        "#Find palindrome strings from below list\n",
        "'''\n",
        "n5 = [\"madam\",\"sos\",\"abc\",\"mom\",\"word\",\"codegnan\"]\n",
        "r5 =  list(filter(lambda word : word == word[::-1],n5))\n",
        "print(r5)\n",
        "'''\n",
        "#Find all the words with only upper case letters\n",
        "'''\n",
        "n6 = [\"ABC\",\"abc\",\"XYZ\",\"mNo\",\"AbC\",\"Sai\",\"CodeGNAN\"]\n",
        "r6 = list(filter(lambda word : word.isupper(),n6))\n",
        "print(r6)\n",
        "'''\n",
        "#filter all the mails of codegnan employees\n",
        "'''\n",
        "n6 = [\"u1@gmail.com\",\"u2@codegnan.com\",\"u3@yahoo.com\",\"u3@codegnan.com\"]\n",
        "r6 = list(filter(lambda word : word.endswith(\"@codegnan.com\"),n6))\n",
        "print(r6)\n",
        "'''"
      ],
      "metadata": {
        "id": "23yiXBoR4LPc",
        "colab": {
          "base_uri": "https://localhost:8080/"
        },
        "outputId": "6ebd28ba-6a90-4f89-9953-852d66394e35"
      },
      "execution_count": 36,
      "outputs": [
        {
          "output_type": "stream",
          "name": "stdout",
          "text": [
            "['u2@codegnan.com', 'u3@codegnan.com']\n"
          ]
        }
      ]
    },
    {
      "cell_type": "markdown",
      "source": [
        "#**Lambda with Map**\n",
        "    1. Applies a function to each item in am iterable and returing a new iterable with the results.\n",
        "    2. Allows us to create an easy way of transformation of elements\n",
        "    Syntax:\n",
        "        fun_name = map(lambda parameters : operations,iterable)\n",
        "        "
      ],
      "metadata": {
        "id": "sqm2SKBO4Lr6"
      }
    },
    {
      "cell_type": "code",
      "source": [
        "'''\n",
        "a = [1,2,3,4,5]\n",
        "b = []\n",
        "for i in a:\n",
        "  b.append(i*10)\n",
        "print(b)\n",
        "\n",
        "x = list(map(lambda u : u*10,a))\n",
        "print(x)\n",
        "'''\n",
        "#Square each item in a list\n",
        "'''\n",
        "n1 = [2,4,5,3]\n",
        "r1 = list(map(lambda x : x**2,n1))\n",
        "print(r1)\n",
        "'''\n",
        "#celsius to Fahrenheit = (temp* 9/5)+32\n",
        "'''\n",
        "n2 = [0,10,20,30,40]\n",
        "r2 = list(map(lambda temp : (temp*9/5)+32,n2))\n",
        "print(r2)\n",
        "'''\n",
        "#Convert all strings into upper case\n",
        "'''\n",
        "n3 = [\"hello\",\"abc\",\"xyz\",\"code\",\"Python\"]\n",
        "r3 = list(map(lambda word : word.upper(),n3))\n",
        "print(r3)\n",
        "'''\n",
        "#find length of each word in a list\n",
        "'''\n",
        "n4 = [\"hello\",\"abc\",\"xyz\",\"code\",\"Python\"]\n",
        "r4 = list(map(lambda word : len(word),n4))\n",
        "print(r4)\n",
        "'''\n",
        "#Define types of each and every element\n",
        "'''\n",
        "n5 = [10,\"hello\",\"abc\",45.67,True]\n",
        "r5 = list(map(lambda x : type(x),n5))\n",
        "print(r5)\n",
        "'''\n",
        "#Caluculate areas of a circles given radious\n",
        "'''\n",
        "n6 = [1,2,3,4]\n",
        "r6 = list(map(lambda radii : 3.14*radii**2,n6))\n",
        "print(r6)\n",
        "'''\n",
        "#find names from given below gmails\n",
        "'''\n",
        "n7 = [\"u1@gmail.com\",\"u2@gmail.com\",\"u3@gmail.com\",\"u4@gmail.com\"]\n",
        "r7 = list(map(lambda word : word.replace(\"@gmail.com\",\"\"),n7))\n",
        "print(r7)\n",
        "'''\n"
      ],
      "metadata": {
        "id": "ZWMhiiBp4uih",
        "colab": {
          "base_uri": "https://localhost:8080/"
        },
        "outputId": "bf10172a-d393-470f-a495-d1521bd37e23"
      },
      "execution_count": 35,
      "outputs": [
        {
          "output_type": "stream",
          "name": "stdout",
          "text": [
            "['u1', 'u2', 'u3', 'u4']\n"
          ]
        }
      ]
    }
  ]
}