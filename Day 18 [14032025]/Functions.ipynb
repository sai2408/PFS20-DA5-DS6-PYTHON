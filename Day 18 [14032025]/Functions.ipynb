{
  "nbformat": 4,
  "nbformat_minor": 0,
  "metadata": {
    "colab": {
      "provenance": []
    },
    "kernelspec": {
      "name": "python3",
      "display_name": "Python 3"
    },
    "language_info": {
      "name": "python"
    }
  },
  "cells": [
    {
      "cell_type": "markdown",
      "source": [
        "#**Functions**\n",
        "    A function in Python is a block of reusable code that performs a specific task.\n",
        "    Functions help improve code reusability.\n",
        "\n",
        "#**Types of Functions**\n",
        "    1. Builtin Functions\n",
        "    2. User Defined Functions\n",
        "    3. Lambda Functions"
      ],
      "metadata": {
        "id": "xb7zWUjI0B1b"
      }
    },
    {
      "cell_type": "markdown",
      "source": [
        "#**Builtin functions**\n",
        "    1. abs()\n",
        "    2. chr()\n",
        "    3. ord()\n",
        "    4. eval()\n",
        "    5. bin()\n",
        "    6. hex()\n",
        "    7. oct()\n"
      ],
      "metadata": {
        "id": "DzExNQrM0kWg"
      }
    },
    {
      "cell_type": "code",
      "execution_count": 25,
      "metadata": {
        "id": "MDwq0OFcz8lo",
        "colab": {
          "base_uri": "https://localhost:8080/"
        },
        "outputId": "325c75e9-6b77-4dc2-a08b-f4c1ca4495f3"
      },
      "outputs": [
        {
          "output_type": "stream",
          "name": "stdout",
          "text": [
            "0b1010\n",
            "0b10100\n",
            "0b10000\n",
            "0x10\n",
            "0o20\n"
          ]
        }
      ],
      "source": [
        "'''\n",
        "x = -10\n",
        "y = abs(x)\n",
        "print(x)\n",
        "print(y)\n",
        "a = 10\n",
        "print(a)\n",
        "b = abs(a)\n",
        "print(b)\n",
        "'''\n",
        "'''\n",
        "print(chr(77))\n",
        "print(chr(65))\n",
        "print(chr(66))\n",
        "print(chr(51))\n",
        "print(chr(97))\n",
        "print(chr(98))\n",
        "'''\n",
        "'''\n",
        "print(ord(\"A\"))\n",
        "print(ord(\"a\"))\n",
        "print(ord(\"1\"))\n",
        "print(ord(\",\"))\n",
        "'''\n",
        "'''\n",
        "x = \"10+20-10\"\n",
        "print(x)\n",
        "print(eval(x))\n",
        "x1 = \"10*(5+2)\"\n",
        "print(eval(x1))\n",
        "'''\n",
        "'''\n",
        "x = 10\n",
        "print(bin(x))\n",
        "print(bin(20))\n",
        "print(bin(16))\n",
        "print(hex(16))\n",
        "print(oct(16))\n",
        "'''"
      ]
    },
    {
      "cell_type": "markdown",
      "source": [
        "#**User Defined Functions**\n",
        "    1. With Parameters With Return Types\n",
        "    2. With Parameters Without Return Types\n",
        "    3. Without Parameters With Return Types\n",
        "    4. Without Parameters Without Return Types\n",
        "    5. Recursive Functions"
      ],
      "metadata": {
        "id": "mEPlnVC01qeH"
      }
    },
    {
      "cell_type": "code",
      "source": [
        "'''\n",
        "a = int(input())\n",
        "b = int(input())\n",
        "print(a+b)\n",
        "'''\n",
        "#WPWR\n",
        "'''\n",
        "def abc(a,b):\n",
        "  c = a+b\n",
        "  return c\n",
        "x = int(input())\n",
        "y = int(input())\n",
        "x1 = abc(x,y)\n",
        "print(x1)\n",
        "'''\n",
        "#WPWOR\n",
        "'''\n",
        "def abc(a,b):\n",
        "  c = a + b\n",
        "  print(c)\n",
        "x = int(input())\n",
        "y = int(input())\n",
        "x1 = abc(x,y)\n",
        "print(x1)\n",
        "'''\n",
        "#WOPWR\n",
        "'''\n",
        "def abc():\n",
        "  a = int(input())\n",
        "  b = int(input())\n",
        "  c = a + b\n",
        "  return c\n",
        "x1 = abc()\n",
        "print(x1)\n",
        "'''\n",
        "#WOPWOR\n",
        "'''\n",
        "def abc():\n",
        "  a = int(input())\n",
        "  b = int(input())\n",
        "  c = a + b\n",
        "  print(c)\n",
        "abc()\n",
        "'''\n",
        "#Problem - 1 [WPWR]\n",
        "'''\n",
        "def hello(v1,v2,v3):\n",
        "  c1 = v1 + v2\n",
        "  c2 = v1 + v3\n",
        "  return c1,c2\n",
        "x1 = int(input())\n",
        "x2 = int(input())\n",
        "x3 = int(input())\n",
        "res1,res2 = hello(x1,x2,x3)\n",
        "print(res1)\n",
        "print(res2)\n",
        "'''\n",
        "#Problem - 2\n",
        "'''\n",
        "t = int(input())\n",
        "for _ in range(t):\n",
        "    n = int(input())\n",
        "    if n > 98:\n",
        "        print(\"Yes\")\n",
        "    else:\n",
        "        print(\"No\")\n",
        "'''\n",
        "#WPWR\n",
        "'''\n",
        "def hello1(a):\n",
        "    if a > 98:\n",
        "        return \"YES\"\n",
        "    else:\n",
        "        return \"NO\"\n",
        "'''\n",
        "#WPWOR\n",
        "'''\n",
        "def hello2(a):\n",
        "    if a > 98:\n",
        "        print(\"Yes\")\n",
        "    else:\n",
        "        print(\"No\")\n",
        "'''\n",
        "#WOPWR\n",
        "'''\n",
        "def hello3():\n",
        "    n = int(input())\n",
        "    if n > 98:\n",
        "        return \"Yes\"\n",
        "    else:\n",
        "        return \"No\"\n",
        "'''\n",
        "#WOPWOR\n",
        "'''\n",
        "def hello4():\n",
        "    n = int(input())\n",
        "    if n > 98:\n",
        "        print(\"YEs\")\n",
        "    else:\n",
        "        print(\"No\")\n",
        "'''\n",
        "'''\n",
        "t = int(input())\n",
        "for _ in range(t):\n",
        "    hello4()\n",
        "'''"
      ],
      "metadata": {
        "colab": {
          "base_uri": "https://localhost:8080/"
        },
        "id": "6qZVDxT09A4M",
        "outputId": "771d7041-d73e-44c6-e547-5fb2aab1914a"
      },
      "execution_count": 37,
      "outputs": [
        {
          "output_type": "stream",
          "name": "stdout",
          "text": [
            "10\n",
            "20\n",
            "30\n",
            "30\n",
            "40\n"
          ]
        }
      ]
    },
    {
      "cell_type": "markdown",
      "source": [
        "#**Pass By Reference**\n",
        "    All parameters (arguments) in python language are passed by reference\n",
        "    It means when we change a parameter within a function the change will reflects in main object\n"
      ],
      "metadata": {
        "id": "a2Hog2Dc193M"
      }
    },
    {
      "cell_type": "code",
      "source": [],
      "metadata": {
        "id": "jGSJYROl2hqf"
      },
      "execution_count": null,
      "outputs": []
    },
    {
      "cell_type": "markdown",
      "source": [
        "#**Function Arguments**\n",
        "    1. Default Arguments\n",
        "    2. Required Arguments\n",
        "    3. Keyword Arguments\n",
        "    4. Variable number of arguments"
      ],
      "metadata": {
        "id": "cOlc7zJ_2mOw"
      }
    },
    {
      "cell_type": "code",
      "source": [],
      "metadata": {
        "id": "5Vqeuvfz25bB"
      },
      "execution_count": null,
      "outputs": []
    },
    {
      "cell_type": "markdown",
      "source": [
        "#**Scope of the variables**\n",
        "    1. Local Variable\n",
        "    2. Global Variable"
      ],
      "metadata": {
        "id": "DndZUGab25xy"
      }
    },
    {
      "cell_type": "code",
      "source": [],
      "metadata": {
        "id": "rj6JOEen3Bje"
      },
      "execution_count": null,
      "outputs": []
    },
    {
      "cell_type": "markdown",
      "source": [
        "#**Lambda Functions (Anonymous Functions)**\n",
        "    syntax :\n",
        "        fun_name = lambda parameters : operations"
      ],
      "metadata": {
        "id": "gA1GqLWS3ECL"
      }
    },
    {
      "cell_type": "code",
      "source": [],
      "metadata": {
        "id": "ajwF4mCE3Qo9"
      },
      "execution_count": null,
      "outputs": []
    },
    {
      "cell_type": "markdown",
      "source": [
        "#**Lambda With Filter**\n",
        "    1. Filters an iterable based on a function\n",
        "    2. Allows us to create a easy way of filtering elements\n",
        "    Syntax:\n",
        "        fun_name = filter(lambda parameters : operations, iterable)\n",
        "  "
      ],
      "metadata": {
        "id": "c-f3D-Gg3wxc"
      }
    },
    {
      "cell_type": "code",
      "source": [],
      "metadata": {
        "id": "23yiXBoR4LPc"
      },
      "execution_count": null,
      "outputs": []
    },
    {
      "cell_type": "markdown",
      "source": [
        "#**Lambda with Map**\n",
        "    1. Applies a function to each item in am iterable and returing a new iterable with the results.\n",
        "    2. Allows us to create an easy way of transformation of elements\n",
        "    Syntax:\n",
        "        fun_name = map(lambda parameters : operations,iterable)\n",
        "        "
      ],
      "metadata": {
        "id": "sqm2SKBO4Lr6"
      }
    },
    {
      "cell_type": "code",
      "source": [],
      "metadata": {
        "id": "ZWMhiiBp4uih"
      },
      "execution_count": null,
      "outputs": []
    }
  ]
}