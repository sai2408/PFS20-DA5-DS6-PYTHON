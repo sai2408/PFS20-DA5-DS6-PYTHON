{
  "nbformat": 4,
  "nbformat_minor": 0,
  "metadata": {
    "colab": {
      "provenance": []
    },
    "kernelspec": {
      "name": "python3",
      "display_name": "Python 3"
    },
    "language_info": {
      "name": "python"
    }
  },
  "cells": [
    {
      "cell_type": "markdown",
      "source": [
        "#Problem Solving Steps\n",
        "    1. Algorithm Developement\n",
        "        Step by Step Process\n",
        "    2. Flow Chart Design\n",
        "        Graphical representation of Process\n",
        "    3. Pseudo Code\n",
        "        Semi code of Process\n",
        "    4. Source Code\n",
        "        Complete Code"
      ],
      "metadata": {
        "id": "gdAgoF23io2W"
      }
    },
    {
      "cell_type": "markdown",
      "source": [
        "#Translator\n",
        "    The machine converts high level language to machine level language\n",
        "\n",
        "    Types of Translators:\n",
        "        1. Compiler\n",
        "        2. Assembler\n",
        "        3. Interpreter"
      ],
      "metadata": {
        "id": "lg5tlMgqjRGP"
      }
    },
    {
      "cell_type": "markdown",
      "source": [
        "#PYTHON"
      ],
      "metadata": {
        "id": "mQmRN-sDjHSi"
      }
    },
    {
      "cell_type": "markdown",
      "source": [
        "#History of Python\n",
        "    Python is an object-oriented and open-source language developed in the 1980s by Dutchman\n",
        "    Guido van Rossum.\n",
        "\n",
        "    Inception And Development : In the early 1980s Van Rossum used to work at CWI (Centrum voor\n",
        "    Wiskunde en Informatica) as an implementer of the programming language called ABC.\n",
        "\n",
        "    Later at CWI in the late 1980s, while working on a new distributed operating system called\n",
        "    AMOEBA, Van Rossum started looking for a scripting language with a syntax like ABC\n",
        "\n",
        "    Behind the name : Back in the 1970s, there was a popular BBC comedy tv show called Monty\n",
        "    Python’s Fly Circus and Van Rossum happened to be the big fan of that show.\n"
      ],
      "metadata": {
        "id": "O8Frrknsh1Hu"
      }
    },
    {
      "cell_type": "markdown",
      "source": [
        "#Variables\n",
        "    1. Varibale Naming Rules\n",
        "    2. Assignment\n",
        "    3. Reassignment\n",
        "    4. Multiple Assignment\n",
        "    5. Swapping\n",
        "    6. Deleting"
      ],
      "metadata": {
        "id": "SBenWSCgj1xs"
      }
    },
    {
      "cell_type": "code",
      "source": [
        "a = 10\n",
        "b = 34.56\n",
        "x123 = 45\n",
        "print(a)\n",
        "print(x123)\n",
        "\n",
        "_x1 = 10\n",
        "print(_x1)\n",
        "__x2 = 20\n",
        "print(__x2)\n",
        "___x3 = 30\n",
        "print(___x3)\n"
      ],
      "metadata": {
        "id": "j_xhBA4nm6J-",
        "colab": {
          "base_uri": "https://localhost:8080/",
          "height": 106
        },
        "outputId": "1492e86c-519f-4e59-fd46-858bccc812e6"
      },
      "execution_count": 21,
      "outputs": [
        {
          "output_type": "error",
          "ename": "SyntaxError",
          "evalue": "invalid syntax. Maybe you meant '==' or ':=' instead of '='? (<ipython-input-21-87bd827ab25b>, line 14)",
          "traceback": [
            "\u001b[0;36m  File \u001b[0;32m\"<ipython-input-21-87bd827ab25b>\"\u001b[0;36m, line \u001b[0;32m14\u001b[0m\n\u001b[0;31m    @x = 40\u001b[0m\n\u001b[0m     ^\u001b[0m\n\u001b[0;31mSyntaxError\u001b[0m\u001b[0;31m:\u001b[0m invalid syntax. Maybe you meant '==' or ':=' instead of '='?\n"
          ]
        }
      ]
    },
    {
      "cell_type": "code",
      "source": [
        "a = 10\n",
        "print(a)\n",
        "a = 15\n",
        "print(a)\n",
        "a = 20\n",
        "print(a)\n"
      ],
      "metadata": {
        "colab": {
          "base_uri": "https://localhost:8080/"
        },
        "id": "90yJUP64QPxU",
        "outputId": "b8658cf0-cc9c-4b1b-81e8-28a4a319d469"
      },
      "execution_count": 8,
      "outputs": [
        {
          "output_type": "stream",
          "name": "stdout",
          "text": [
            "10\n",
            "15\n",
            "20\n"
          ]
        }
      ]
    },
    {
      "cell_type": "code",
      "source": [
        "x = 10\n",
        "y = 10\n",
        "z = 10\n",
        "print(x)\n",
        "print(y)\n",
        "print(z)\n",
        "x1=y1=z1=10\n",
        "print(x1)\n",
        "print(y1)\n",
        "print(z1)\n"
      ],
      "metadata": {
        "colab": {
          "base_uri": "https://localhost:8080/"
        },
        "id": "inwezmAtQ9ng",
        "outputId": "d13dbd67-60c1-44ab-d019-d583877d6c22"
      },
      "execution_count": 10,
      "outputs": [
        {
          "output_type": "stream",
          "name": "stdout",
          "text": [
            "10\n",
            "10\n",
            "10\n",
            "10\n",
            "10\n",
            "10\n"
          ]
        }
      ]
    },
    {
      "cell_type": "code",
      "source": [
        "a1 = 123\n",
        "b1 = 456\n",
        "print(a1)\n",
        "print(b1)\n",
        "a1,b1 = b1,a1\n",
        "print(a1)\n",
        "print(b1)\n",
        "\n",
        "print(b1)\n",
        "print(a1)"
      ],
      "metadata": {
        "colab": {
          "base_uri": "https://localhost:8080/"
        },
        "id": "_IAj5Q0LSJxK",
        "outputId": "981d873e-4b69-4920-fa82-fde612ec70cb"
      },
      "execution_count": 15,
      "outputs": [
        {
          "output_type": "stream",
          "name": "stdout",
          "text": [
            "123\n",
            "456\n",
            "456\n",
            "123\n",
            "123\n",
            "456\n"
          ]
        }
      ]
    },
    {
      "cell_type": "code",
      "source": [
        "a = 10\n",
        "b = 20\n",
        "c = 30\n",
        "print(a)\n",
        "print(b)\n",
        "print(c)\n",
        "a,b,c = 10,20,30\n",
        "print(a)\n",
        "print(b)\n",
        "print(c)"
      ],
      "metadata": {
        "colab": {
          "base_uri": "https://localhost:8080/"
        },
        "id": "mvmOjP4FRsQz",
        "outputId": "34537012-6a1f-41b9-8313-7611460c8beb"
      },
      "execution_count": 12,
      "outputs": [
        {
          "output_type": "stream",
          "name": "stdout",
          "text": [
            "10\n",
            "20\n",
            "30\n",
            "10\n",
            "20\n",
            "30\n"
          ]
        }
      ]
    },
    {
      "cell_type": "code",
      "source": [
        "a1 = 120\n",
        "print(a1)\n",
        "del a1\n",
        "print(a1)"
      ],
      "metadata": {
        "colab": {
          "base_uri": "https://localhost:8080/",
          "height": 193
        },
        "id": "DEA8iGPkT509",
        "outputId": "af264ecf-9439-4f25-91da-9fb1f36bc563"
      },
      "execution_count": 17,
      "outputs": [
        {
          "output_type": "stream",
          "name": "stdout",
          "text": [
            "120\n"
          ]
        },
        {
          "output_type": "error",
          "ename": "NameError",
          "evalue": "name 'a1' is not defined",
          "traceback": [
            "\u001b[0;31m---------------------------------------------------------------------------\u001b[0m",
            "\u001b[0;31mNameError\u001b[0m                                 Traceback (most recent call last)",
            "\u001b[0;32m<ipython-input-17-cb6a6effdb54>\u001b[0m in \u001b[0;36m<cell line: 0>\u001b[0;34m()\u001b[0m\n\u001b[1;32m      2\u001b[0m \u001b[0mprint\u001b[0m\u001b[0;34m(\u001b[0m\u001b[0ma1\u001b[0m\u001b[0;34m)\u001b[0m\u001b[0;34m\u001b[0m\u001b[0;34m\u001b[0m\u001b[0m\n\u001b[1;32m      3\u001b[0m \u001b[0;32mdel\u001b[0m \u001b[0ma1\u001b[0m\u001b[0;34m\u001b[0m\u001b[0;34m\u001b[0m\u001b[0m\n\u001b[0;32m----> 4\u001b[0;31m \u001b[0mprint\u001b[0m\u001b[0;34m(\u001b[0m\u001b[0ma1\u001b[0m\u001b[0;34m)\u001b[0m\u001b[0;34m\u001b[0m\u001b[0;34m\u001b[0m\u001b[0m\n\u001b[0m",
            "\u001b[0;31mNameError\u001b[0m: name 'a1' is not defined"
          ]
        }
      ]
    },
    {
      "cell_type": "markdown",
      "source": [
        "#Comments\n",
        "    Single line Comments\n",
        "        # content\n",
        "    Multi line Comments\n",
        "        ''' content\n",
        "            content\n",
        "            content '''\n",
        "\n",
        "              (or)\n",
        "        \"\"\" content\n",
        "            content\n",
        "            content \"\"\""
      ],
      "metadata": {
        "id": "3l4NxYftQcTl"
      }
    },
    {
      "cell_type": "code",
      "source": [
        "print(10)\n",
        "'''\n",
        "#print(20)\n",
        "#print(30)\n",
        "#print(40)\n",
        "'''\n",
        "print(50)\n",
        "print(10)\n",
        "\"\"\"\n",
        "print(20)\n",
        "print(30)\n",
        "print(40)\n",
        "\"\"\"\n",
        "print(50)"
      ],
      "metadata": {
        "id": "43axifcTQ0DT",
        "colab": {
          "base_uri": "https://localhost:8080/"
        },
        "outputId": "4574b012-0926-4c29-cbc7-bd21b9525b8b"
      },
      "execution_count": 27,
      "outputs": [
        {
          "output_type": "stream",
          "name": "stdout",
          "text": [
            "10\n",
            "50\n",
            "10\n",
            "50\n"
          ]
        }
      ]
    },
    {
      "cell_type": "markdown",
      "source": [
        "#Data Types\n",
        "    1. Numeric Types:\n",
        "        int\n",
        "        flaot\n",
        "        complex\n",
        "    2. Sequence Types:\n",
        "        list\n",
        "        tuple\n",
        "    3. Mapping Types:\n",
        "        dict\n",
        "    4. Set types\n",
        "        sets\n",
        "        frozensets\n",
        "    5. Boolean Types\n",
        "        bool [ True / False ]\n",
        "    6. Text Type:\n",
        "        Strings"
      ],
      "metadata": {
        "id": "KBUZUrBIEHlq"
      }
    },
    {
      "cell_type": "markdown",
      "source": [
        "#Numeric\n",
        "    1. Int\n",
        "    2. Float\n",
        "    3. Complex"
      ],
      "metadata": {
        "id": "SZmTwTwkEW-y"
      }
    },
    {
      "cell_type": "code",
      "source": [],
      "metadata": {
        "id": "P1Ppy-9WEX2J"
      },
      "execution_count": null,
      "outputs": []
    }
  ]
}