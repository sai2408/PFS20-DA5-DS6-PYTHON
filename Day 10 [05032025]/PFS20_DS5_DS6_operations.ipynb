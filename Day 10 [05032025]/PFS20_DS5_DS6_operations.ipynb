{
  "nbformat": 4,
  "nbformat_minor": 0,
  "metadata": {
    "colab": {
      "provenance": []
    },
    "kernelspec": {
      "name": "python3",
      "display_name": "Python 3"
    },
    "language_info": {
      "name": "python"
    }
  },
  "cells": [
    {
      "cell_type": "markdown",
      "source": [
        "#INPUT OPERATIONS\n",
        "    input() [ Value will be considered as String ]"
      ],
      "metadata": {
        "id": "PLcuwK7rhMbU"
      }
    },
    {
      "cell_type": "code",
      "execution_count": 3,
      "metadata": {
        "id": "5j_B-8kfhJlb",
        "colab": {
          "base_uri": "https://localhost:8080/"
        },
        "outputId": "ef3302fd-07d1-485b-9a48-6baa309dbb0a"
      },
      "outputs": [
        {
          "output_type": "stream",
          "name": "stdout",
          "text": [
            "True\n",
            "True\n",
            "<class 'str'>\n"
          ]
        }
      ],
      "source": [
        "x = input()\n",
        "print(x)\n",
        "print(type(x))"
      ]
    },
    {
      "cell_type": "markdown",
      "source": [
        "#Taking Inputs of integer"
      ],
      "metadata": {
        "id": "gwSekB-YhbV4"
      }
    },
    {
      "cell_type": "code",
      "source": [
        "'''\n",
        "x = input()\n",
        "print(x)\n",
        "print(type(x))\n",
        "x = int(x)\n",
        "print(x)\n",
        "print(type(x))\n",
        "'''\n",
        "'''\n",
        "z = int(input(\"Enter a value: \"))\n",
        "print(z)\n",
        "print(type(z))\n",
        "'''\n",
        "'''\n",
        "x=int(input())\n",
        "y = int(input())\n",
        "print(x)\n",
        "print(y)\n",
        "'''\n",
        "'''\n",
        "x,y = input().split(\",\")\n",
        "print(x)\n",
        "print(type(x))\n",
        "print(y)\n",
        "print(type(y))\n",
        "'''\n",
        "'''\n",
        "x,y = map(int,input().split())\n",
        "print(x)\n",
        "print(type(x))\n",
        "print(y)\n",
        "print(type(y))\n",
        "'''\n",
        "x,y = map(int,input().split(\"$\"))\n",
        "print(x)\n",
        "print(type(x))\n",
        "print(y)\n",
        "print(type(y))"
      ],
      "metadata": {
        "id": "RyuzIFRphhc8",
        "colab": {
          "base_uri": "https://localhost:8080/"
        },
        "outputId": "d494421f-f29b-4594-a47a-0af9e64237d5"
      },
      "execution_count": 17,
      "outputs": [
        {
          "output_type": "stream",
          "name": "stdout",
          "text": [
            "1101$1056\n",
            "1101\n",
            "<class 'int'>\n",
            "1056\n",
            "<class 'int'>\n"
          ]
        }
      ]
    },
    {
      "cell_type": "markdown",
      "source": [
        "#Taking inputs Of float"
      ],
      "metadata": {
        "id": "OIFAd0Cohhtv"
      }
    },
    {
      "cell_type": "code",
      "source": [
        "'''\n",
        "a = float(input())\n",
        "print(a)\n",
        "print(type(a))\n",
        "'''\n",
        "'''\n",
        "a,b = map(float,input().split(\",\"))\n",
        "print(a)\n",
        "print(type(a))\n",
        "print(b)\n",
        "print(type(b))\n",
        "'''"
      ],
      "metadata": {
        "id": "3QyFocULhlbi",
        "colab": {
          "base_uri": "https://localhost:8080/"
        },
        "outputId": "1c8f9975-1987-482d-ad01-94f02968e22b"
      },
      "execution_count": 22,
      "outputs": [
        {
          "output_type": "stream",
          "name": "stdout",
          "text": [
            "123.456,67.890\n",
            "123.456\n",
            "<class 'float'>\n",
            "67.89\n",
            "<class 'float'>\n"
          ]
        }
      ]
    },
    {
      "cell_type": "markdown",
      "source": [
        "#Taking inputs of list"
      ],
      "metadata": {
        "id": "lovmA31zhkys"
      }
    },
    {
      "cell_type": "code",
      "source": [
        "'''\n",
        "a = input().split()\n",
        "print(a)\n",
        "'''\n",
        "'''\n",
        "a = list(map(int,input().split()))\n",
        "print(a)\n",
        "'''\n",
        "'''\n",
        "a = list(map(float,input().split()))\n",
        "print(a)\n",
        "'''\n",
        "'''\n",
        "a = list(map(int,input().split()))\n",
        "print(a)\n",
        "'''\n",
        "\n"
      ],
      "metadata": {
        "id": "brovwn3Mhqr9",
        "colab": {
          "base_uri": "https://localhost:8080/",
          "height": 211
        },
        "outputId": "9345b0c2-1cf0-4ab1-ab76-07eabad3c35a"
      },
      "execution_count": 34,
      "outputs": [
        {
          "name": "stdout",
          "output_type": "stream",
          "text": [
            "10 20 309\n"
          ]
        },
        {
          "output_type": "error",
          "ename": "TypeError",
          "evalue": "list expected at most 1 argument, got 2",
          "traceback": [
            "\u001b[0;31m---------------------------------------------------------------------------\u001b[0m",
            "\u001b[0;31mTypeError\u001b[0m                                 Traceback (most recent call last)",
            "\u001b[0;32m<ipython-input-34-a9fc340258ba>\u001b[0m in \u001b[0;36m<cell line: 0>\u001b[0;34m()\u001b[0m\n\u001b[1;32m     15\u001b[0m \u001b[0mprint\u001b[0m\u001b[0;34m(\u001b[0m\u001b[0ma\u001b[0m\u001b[0;34m)\u001b[0m\u001b[0;34m\u001b[0m\u001b[0;34m\u001b[0m\u001b[0m\n\u001b[1;32m     16\u001b[0m '''\n\u001b[0;32m---> 17\u001b[0;31m \u001b[0ma\u001b[0m \u001b[0;34m=\u001b[0m \u001b[0mlist\u001b[0m\u001b[0;34m(\u001b[0m\u001b[0mint\u001b[0m\u001b[0;34m,\u001b[0m\u001b[0minput\u001b[0m\u001b[0;34m(\u001b[0m\u001b[0;34m)\u001b[0m\u001b[0;34m.\u001b[0m\u001b[0msplit\u001b[0m\u001b[0;34m(\u001b[0m\u001b[0;34m)\u001b[0m\u001b[0;34m)\u001b[0m\u001b[0;34m\u001b[0m\u001b[0;34m\u001b[0m\u001b[0m\n\u001b[0m\u001b[1;32m     18\u001b[0m \u001b[0mprint\u001b[0m\u001b[0;34m(\u001b[0m\u001b[0ma\u001b[0m\u001b[0;34m)\u001b[0m\u001b[0;34m\u001b[0m\u001b[0;34m\u001b[0m\u001b[0m\n",
            "\u001b[0;31mTypeError\u001b[0m: list expected at most 1 argument, got 2"
          ]
        }
      ]
    },
    {
      "cell_type": "markdown",
      "source": [
        "#Taking inputs of Tuple"
      ],
      "metadata": {
        "id": "8EoWtXdehrD3"
      }
    },
    {
      "cell_type": "code",
      "source": [
        "'''\n",
        "a = tuple(map(int,input().split(\"&\")))\n",
        "print(a)\n",
        "print(type(a))\n",
        "'''\n",
        "a = tuple(map(float,input().split()))\n",
        "print(a)\n",
        "print(type(a))"
      ],
      "metadata": {
        "id": "IufSSOkshuvv",
        "colab": {
          "base_uri": "https://localhost:8080/"
        },
        "outputId": "194f40d1-4ea9-416c-bb73-e2203b7fed13"
      },
      "execution_count": 41,
      "outputs": [
        {
          "output_type": "stream",
          "name": "stdout",
          "text": [
            "10.45 67.89\n",
            "10.45\n",
            "67.89\n",
            "<class 'float'>\n"
          ]
        }
      ]
    },
    {
      "cell_type": "markdown",
      "source": [
        "#Taking inputs of sets"
      ],
      "metadata": {
        "id": "F3IKRMgqhvIL"
      }
    },
    {
      "cell_type": "code",
      "source": [
        "s1 = set(map(int,input().split()))\n",
        "print(s1)\n",
        "print(type(s1))"
      ],
      "metadata": {
        "id": "kiMbTOCkhySv",
        "colab": {
          "base_uri": "https://localhost:8080/"
        },
        "outputId": "17e548ce-fbfb-44bf-a300-8a0a9fd94f2d"
      },
      "execution_count": 42,
      "outputs": [
        {
          "output_type": "stream",
          "name": "stdout",
          "text": [
            "10 34 56 34 23\n",
            "{56, 10, 34, 23}\n",
            "<class 'set'>\n"
          ]
        }
      ]
    },
    {
      "cell_type": "markdown",
      "source": [
        "#Taking inputs of dictionaries"
      ],
      "metadata": {
        "id": "MIDe26XehyoJ"
      }
    },
    {
      "cell_type": "code",
      "source": [
        "x = list(map(int,input().split()))\n",
        "y = list(map(int,input().split()))\n",
        "res = dict(zip(x,y))\n",
        "print(res)\n",
        "x1 = set(res)\n",
        "print(x1)"
      ],
      "metadata": {
        "id": "d75LoNzXh2a-",
        "colab": {
          "base_uri": "https://localhost:8080/"
        },
        "outputId": "fc241e57-a764-47c7-bb61-e2d05149b80b"
      },
      "execution_count": 44,
      "outputs": [
        {
          "output_type": "stream",
          "name": "stdout",
          "text": [
            "1 2 3 4\n",
            "10 20 30 40\n",
            "{1: 10, 2: 20, 3: 30, 4: 40}\n",
            "{1, 2, 3, 4}\n"
          ]
        }
      ]
    },
    {
      "cell_type": "code",
      "source": [
        "#Problem - 1\n",
        "'''\n",
        "a,b = map(int,input().split())\n",
        "print(a*b)\n",
        "'''\n",
        "#Problem - 2\n",
        "'''\n",
        "a,b,c = map(int,input().split())\n",
        "print((a+b)>c and (b+c)>a and (a+c)>b)\n",
        "'''\n",
        "#Problem - 3\n",
        "#approach - 1\n",
        "'''\n",
        "s1 = set(map(int,input().split()))\n",
        "s2 = {1,2,3,4,5}\n",
        "print(s2-s1)\n",
        "'''\n",
        "#Approach - 2\n",
        "'''\n",
        "n = 100\n",
        "a = list(map(int,input().split()))\n",
        "r1 = sum(a)\n",
        "r2 = n * (n + 1) // 2\n",
        "print(r2-r1)\n",
        "'''"
      ],
      "metadata": {
        "colab": {
          "base_uri": "https://localhost:8080/"
        },
        "id": "gg3qcOj8qcts",
        "outputId": "c740f67a-7e59-4230-92b1-a54875998e37"
      },
      "execution_count": 53,
      "outputs": [
        {
          "output_type": "stream",
          "name": "stdout",
          "text": [
            "12 15 9 1 71 77 81 29 70 19 11 83 56 2 57 53 68 99 82 100 22 10 51 40 34 98 80 38 39 89 94 4 26 64 45 8 90 24 93 33 21 7 49 88 5 28 55 67 65 50 32 58 6 37 46 42 20 44 41 3 78 76 73 16 31 85 91 54 60 47 97 43 84 17 35 69 13 30 61 79 72 48 23 66 52 27 62 87 63 18 75 96 14 86 95 74 25 59 36\n",
            "92\n"
          ]
        }
      ]
    },
    {
      "cell_type": "markdown",
      "source": [
        "#OUTPUT OPERATIONS\n",
        "    print() [ Prints values given as a parameters ]\n",
        "#Types of Output Operations\n",
        "    1. Using Normal Method\n",
        "    2. Using Modulo Operator\n",
        "    3. Using F - Format\n",
        "    4. Using Dot Format"
      ],
      "metadata": {
        "id": "zE54bfXyh42e"
      }
    },
    {
      "cell_type": "code",
      "source": [],
      "metadata": {
        "id": "pMtqBQNYiLU6"
      },
      "execution_count": null,
      "outputs": []
    },
    {
      "cell_type": "markdown",
      "source": [
        "#USING NORMAL METHOD"
      ],
      "metadata": {
        "id": "r-Jd-HoQiLpZ"
      }
    },
    {
      "cell_type": "code",
      "source": [],
      "metadata": {
        "id": "nlnCVa30im78"
      },
      "execution_count": null,
      "outputs": []
    },
    {
      "cell_type": "markdown",
      "source": [
        "#USING MODULO OPERATOR\n",
        "    %d - For Integers\n",
        "    %f - For Floats\n",
        "    %s - For Strings"
      ],
      "metadata": {
        "id": "1O_RqI6AinO9"
      }
    },
    {
      "cell_type": "code",
      "source": [],
      "metadata": {
        "id": "HLVfqpEqiyxp"
      },
      "execution_count": null,
      "outputs": []
    },
    {
      "cell_type": "markdown",
      "source": [
        "#USING F - FORMAT"
      ],
      "metadata": {
        "id": "eH5WQtduizLT"
      }
    },
    {
      "cell_type": "code",
      "source": [],
      "metadata": {
        "id": "ZOJUkxwHi1GG"
      },
      "execution_count": null,
      "outputs": []
    },
    {
      "cell_type": "markdown",
      "source": [
        "#USING DOT FORMAT"
      ],
      "metadata": {
        "id": "rVUi9xgmi1i7"
      }
    },
    {
      "cell_type": "code",
      "source": [],
      "metadata": {
        "id": "cmaMDZFji4uc"
      },
      "execution_count": null,
      "outputs": []
    }
  ]
}