{
  "cells": [
    {
      "cell_type": "markdown",
      "source": [
        "#Regular Expression"
      ],
      "metadata": {
        "id": "xwHyW6LIQrbf"
      },
      "id": "xwHyW6LIQrbf"
    },
    {
      "cell_type": "markdown",
      "id": "e35544a9",
      "metadata": {
        "id": "e35544a9"
      },
      "source": [
        "\\d: Matches any digit (0-9). Example: \\d will match any single digit in a string.\n",
        "\n",
        "\\D: Matches any non-digit. Example: \\D will match any character that is not a digit.\n",
        "\n",
        "\\s: Matches any whitespace character (spaces, tabs, newlines). Example: \\s will match any space character.\n",
        "\n",
        "\\S: Matches any non-whitespace character. Example: \\S will match any character that is not a space.\n",
        "\n",
        "\\w: Matches any word character (alphanumeric + underscore). Example: \\w+ will match one or more word characters.\n",
        "\n",
        "\\W: Matches any non-word character. Example: \\W will match any character that is not a word character.\n",
        "\n",
        "\\A: Anchors the match at the start of the string. Example: \\A\\d will match a digit at the beginning of the string.\n",
        "\n",
        "\\b: Represents a word boundary. Example: \\bword\\b will match the word \"word\" as a whole word.\n",
        "\n",
        "\\B: Represents a non-word boundary. Example: \\Bword\\B will match the word \"word\" only if it's within another word.\n",
        "\n",
        "\\Z: Anchors the match at the end of the string. Example: pattern\\z will match \"pattern\" only at the end of the string."
      ]
    },
    {
      "cell_type": "markdown",
      "source": [
        "#Syntax\n",
        "\n",
        "```\n",
        "import re\n",
        "pattern = <Pattern>\n",
        "text = <Text>\n",
        "matches = re.<method_name>(pattern,text)\n",
        "print(matchers)\n",
        "```\n",
        "\n"
      ],
      "metadata": {
        "id": "FkLJRj-LPCJl"
      },
      "id": "FkLJRj-LPCJl"
    },
    {
      "cell_type": "code",
      "execution_count": 3,
      "id": "88fe95ff",
      "metadata": {
        "id": "88fe95ff",
        "outputId": "6fef6571-565f-482f-9baa-265ea1e4f625",
        "colab": {
          "base_uri": "https://localhost:8080/"
        }
      },
      "outputs": [
        {
          "output_type": "stream",
          "name": "stdout",
          "text": [
            "['6', '2', '5', '6', '7']\n"
          ]
        }
      ],
      "source": [
        "# \\d - Matches any digit (0-9)\n",
        "\n",
        "import re\n",
        "\n",
        "pattern = r'\\d'\n",
        "text = 'The 6 price is 25 Rupees 67'\n",
        "\n",
        "matches = re.findall(pattern,text)\n",
        "print(matches)"
      ]
    },
    {
      "cell_type": "code",
      "execution_count": 4,
      "id": "0cff1e86",
      "metadata": {
        "id": "0cff1e86",
        "outputId": "0171eda8-c550-49aa-e5cb-9c9c45724885",
        "colab": {
          "base_uri": "https://localhost:8080/"
        }
      },
      "outputs": [
        {
          "output_type": "stream",
          "name": "stdout",
          "text": [
            "['T', 'h', 'e', ' ', 'p', 'r', 'i', 'c', 'e', ' ', 'i', 's', ' ', ' ', 'R', 'u', 'p', 'e', 'e', 's']\n"
          ]
        }
      ],
      "source": [
        "# \\D - Matches any non digit\n",
        "import re\n",
        "\n",
        "pattern = r'\\D'\n",
        "text = 'The price is 25 Rupees'\n",
        "\n",
        "matches = re.findall(pattern,text)\n",
        "print(matches)"
      ]
    },
    {
      "cell_type": "code",
      "execution_count": 5,
      "id": "9d5b8337",
      "metadata": {
        "id": "9d5b8337",
        "outputId": "b9adfa61-4c81-4a3b-a180-a31cb762f39f",
        "colab": {
          "base_uri": "https://localhost:8080/"
        }
      },
      "outputs": [
        {
          "output_type": "stream",
          "name": "stdout",
          "text": [
            "[' ', ' ', ' ', ' ']\n"
          ]
        }
      ],
      "source": [
        "# \\s - Matches any white space character\n",
        "\n",
        "pattern = r'\\s'\n",
        "text = 'The price is 25 Rupees'\n",
        "\n",
        "matches = re.findall(pattern,text)\n",
        "print(matches)"
      ]
    },
    {
      "cell_type": "code",
      "execution_count": 7,
      "id": "e226a94f",
      "metadata": {
        "id": "e226a94f",
        "outputId": "f86e3036-a09b-49f5-e25c-7c310b19bc1e",
        "colab": {
          "base_uri": "https://localhost:8080/"
        }
      },
      "outputs": [
        {
          "output_type": "stream",
          "name": "stdout",
          "text": [
            "['T', 'h', 'e', 'p', 'r', 'i', 'c', 'e', 'i', 's', '2', '5', 'R', 'u', 'p', 'e', 'e', 's', '%']\n"
          ]
        }
      ],
      "source": [
        "# \\S - Matches any non - white space character\n",
        "\n",
        "pattern = r'\\S'\n",
        "text = 'The price is 25 Rupees %'\n",
        "\n",
        "matches = re.findall(pattern,text)\n",
        "print(matches)"
      ]
    },
    {
      "cell_type": "code",
      "execution_count": 8,
      "id": "ba6fa8cb",
      "metadata": {
        "id": "ba6fa8cb",
        "outputId": "520c5f32-22a1-4b2b-c492-3cbfb9c047f2",
        "colab": {
          "base_uri": "https://localhost:8080/"
        }
      },
      "outputs": [
        {
          "output_type": "stream",
          "name": "stdout",
          "text": [
            "['_', 'T', 'h', 'e', 'p', 'r', 'i', 'c', 'e', 'i', 's', '2', '5', 'R', 'u', 'p', 'e', 'e', 's']\n"
          ]
        }
      ],
      "source": [
        "# \\w - Matches any word character(alphanumeric + underscore)\n",
        "import re\n",
        "pattern = r'\\w'\n",
        "text = '_The price, is 25 Rupees $.'\n",
        "\n",
        "matches = re.findall(pattern,text)\n",
        "print(matches)"
      ]
    },
    {
      "cell_type": "code",
      "execution_count": 9,
      "id": "7f820f2c",
      "metadata": {
        "id": "7f820f2c",
        "outputId": "cd406f54-8882-4b78-fa82-7ba2e50d231b",
        "colab": {
          "base_uri": "https://localhost:8080/"
        }
      },
      "outputs": [
        {
          "output_type": "stream",
          "name": "stdout",
          "text": [
            "[' ', ' ', ' ', ' ', ',', ' ', ' ', ' ', ' ', '#', ':']\n"
          ]
        }
      ],
      "source": [
        "# \\W - Matches any non word character\n",
        "\n",
        "pattern = r'\\W'\n",
        "text = '_The price is 25 Rupees, purchased by john_doe123 #:'\n",
        "\n",
        "matches = re.findall(pattern,text)\n",
        "print(matches)"
      ]
    },
    {
      "cell_type": "code",
      "execution_count": 12,
      "id": "f74389ab",
      "metadata": {
        "id": "f74389ab",
        "outputId": "4cb0bdee-1051-4250-b10d-818e3c2e35f5",
        "colab": {
          "base_uri": "https://localhost:8080/"
        }
      },
      "outputs": [
        {
          "output_type": "stream",
          "name": "stdout",
          "text": [
            "['Hello']\n"
          ]
        }
      ],
      "source": [
        "# \\A: Anchors the match at the start of the string\n",
        "\n",
        "pattern = r'\\AHello'\n",
        "text = 'Hello world'\n",
        "\n",
        "matches = re.findall(pattern,text)\n",
        "print(matches)"
      ]
    },
    {
      "cell_type": "code",
      "execution_count": 16,
      "id": "1b504c4e",
      "metadata": {
        "id": "1b504c4e",
        "outputId": "e06cbdba-a0f5-4af1-8ca1-410d418e210e",
        "colab": {
          "base_uri": "https://localhost:8080/"
        }
      },
      "outputs": [
        {
          "output_type": "stream",
          "name": "stdout",
          "text": [
            "['price', 'price']\n"
          ]
        }
      ],
      "source": [
        "# \\b: Represents a word boundary.\n",
        "\n",
        "pattern = r'\\bprice\\b'\n",
        "text = 'The price is 25 Rupees price prices'\n",
        "\n",
        "matches = re.findall(pattern,text)\n",
        "print(matches)"
      ]
    },
    {
      "cell_type": "code",
      "execution_count": 22,
      "id": "b1a03834",
      "metadata": {
        "id": "b1a03834",
        "outputId": "d86c58ff-aa9c-48c7-d571-8990c6ecef10",
        "colab": {
          "base_uri": "https://localhost:8080/"
        }
      },
      "outputs": [
        {
          "output_type": "stream",
          "name": "stdout",
          "text": [
            "['over', 'over']\n"
          ]
        }
      ],
      "source": [
        "# \\B: Represents a non word boundary.\n",
        "import re\n",
        "pattern = r'\\Bover'\n",
        "text = 'the over cover is covered'\n",
        "\n",
        "matches = re.findall(pattern,text)\n",
        "print(matches)"
      ]
    },
    {
      "cell_type": "code",
      "execution_count": 25,
      "id": "56895e83",
      "metadata": {
        "id": "56895e83",
        "outputId": "da72af7c-26f5-4ed8-a33a-39df881f144a",
        "colab": {
          "base_uri": "https://localhost:8080/"
        }
      },
      "outputs": [
        {
          "output_type": "stream",
          "name": "stdout",
          "text": [
            "['end']\n"
          ]
        }
      ],
      "source": [
        "# \\Z: Anchors the match at the end of the string\n",
        "\n",
        "pattern = r'end\\Z'\n",
        "text = 'This is the end'\n",
        "\n",
        "matches = re.findall(pattern,text)\n",
        "print(matches)"
      ]
    },
    {
      "cell_type": "code",
      "execution_count": null,
      "id": "6e9601b0",
      "metadata": {
        "id": "6e9601b0"
      },
      "outputs": [],
      "source": []
    },
    {
      "cell_type": "raw",
      "id": "ca921b09",
      "metadata": {
        "id": "ca921b09"
      },
      "source": [
        "# Meta Characters\n",
        "\n",
        ". (Dot):\n",
        "Matches any character except the newline character.\n",
        "\n",
        "^ (Caret):\n",
        "Matches the pattern only at the start of the string, indicating a \"Starts With\" condition.\n",
        "\n",
        "$ (Dollar):\n",
        "Matches the pattern only at the end of the string before the newline character, indicating an \"Ends With\" condition.\n",
        "\n",
        "* (Asterisk):\n",
        "Matches zero or more occurrences of the preceding pattern.\n",
        "\n",
        "+ (Plus):\n",
        "Matches one or more occurrences of the preceding pattern.\n",
        "\n",
        "? (Question mark):\n",
        "Matches zero or one occurrence of the preceding pattern.\n",
        "\n",
        "{} (Curly Braces):\n",
        "Matches the exactly specified number of occurrences of the preceding pattern.\n",
        "\n",
        "[] (Bracket):\n",
        "Defines a set of characters, and the pattern matches any one of the characters within the set.\n",
        "\n",
        "| (Pipe):\n",
        "Acts as an OR operator, allowing the pattern to match either of the defined patterns."
      ]
    },
    {
      "cell_type": "code",
      "execution_count": 29,
      "id": "7fea38b7",
      "metadata": {
        "id": "7fea38b7",
        "outputId": "dfe33f68-e171-4fc7-be80-b7d06a72266f",
        "colab": {
          "base_uri": "https://localhost:8080/"
        }
      },
      "outputs": [
        {
          "output_type": "stream",
          "name": "stdout",
          "text": [
            "['haat']\n"
          ]
        }
      ],
      "source": [
        "# Dot(.)\n",
        "\n",
        "pattern = r'h..t'\n",
        "text = 'hat, pot, hit, h@t  hmt, h t haat'\n",
        "\n",
        "matches = re.findall(pattern,text)\n",
        "print(matches)"
      ]
    },
    {
      "cell_type": "code",
      "execution_count": 31,
      "id": "8eebb85d",
      "metadata": {
        "id": "8eebb85d",
        "outputId": "e9458ced-dccd-42de-d9b7-1f962ffe7b53",
        "colab": {
          "base_uri": "https://localhost:8080/"
        }
      },
      "outputs": [
        {
          "output_type": "stream",
          "name": "stdout",
          "text": [
            "[]\n"
          ]
        }
      ],
      "source": [
        "# Caret(^)\n",
        "\n",
        "pattern = r'^The'\n",
        "text = 'The price is 25 Rupees'\n",
        "\n",
        "matches = re.findall(pattern,text)\n",
        "print(matches)"
      ]
    },
    {
      "cell_type": "code",
      "execution_count": 32,
      "id": "68dbf178",
      "metadata": {
        "id": "68dbf178",
        "outputId": "8dcb66e3-b4ef-481f-c701-23ae394cd1a8",
        "colab": {
          "base_uri": "https://localhost:8080/"
        }
      },
      "outputs": [
        {
          "output_type": "stream",
          "name": "stdout",
          "text": [
            "['Rupees']\n"
          ]
        }
      ],
      "source": [
        "# $ (Dollar)\n",
        "\n",
        "pattern = r'Rupees$'\n",
        "text = 'The price is 25 Rupees'\n",
        "\n",
        "matches = re.findall(pattern,text)\n",
        "print(matches)"
      ]
    },
    {
      "cell_type": "code",
      "execution_count": 33,
      "id": "cf5a6a57",
      "metadata": {
        "id": "cf5a6a57",
        "outputId": "04cb6bd5-6428-40f0-b619-affc2457b08f",
        "colab": {
          "base_uri": "https://localhost:8080/"
        }
      },
      "outputs": [
        {
          "output_type": "stream",
          "name": "stdout",
          "text": [
            "['ac', 'abc', 'abbc']\n"
          ]
        }
      ],
      "source": [
        "# * (Asterisk)\n",
        "\n",
        "pattern = r'ab*c'\n",
        "text = 'ac, abc, abbc, abd'\n",
        "\n",
        "matches = re.findall(pattern,text)\n",
        "print(matches)"
      ]
    },
    {
      "cell_type": "code",
      "execution_count": 34,
      "id": "a7d08ceb",
      "metadata": {
        "id": "a7d08ceb",
        "outputId": "1681d577-737e-4d7a-c607-92fe2ffb126e",
        "colab": {
          "base_uri": "https://localhost:8080/"
        }
      },
      "outputs": [
        {
          "output_type": "stream",
          "name": "stdout",
          "text": [
            "['abc', 'abbc']\n"
          ]
        }
      ],
      "source": [
        "# + (Plus):\n",
        "\n",
        "pattern = r'ab+c'\n",
        "text = 'ac, abc, abbc, abd'\n",
        "\n",
        "matches = re.findall(pattern,text)\n",
        "print(matches)"
      ]
    },
    {
      "cell_type": "code",
      "execution_count": 39,
      "id": "7d9c168a",
      "metadata": {
        "id": "7d9c168a",
        "outputId": "6b413d41-6a3e-45d6-91e1-72ebc6dc4d8c",
        "colab": {
          "base_uri": "https://localhost:8080/"
        }
      },
      "outputs": [
        {
          "output_type": "stream",
          "name": "stdout",
          "text": [
            "['color', 'colors']\n"
          ]
        }
      ],
      "source": [
        "# ?(Question mark)\n",
        "\n",
        "pattern = r'colors?'\n",
        "text = 'abc, color colors'\n",
        "\n",
        "matches = re.findall(pattern,text)\n",
        "print(matches)"
      ]
    },
    {
      "cell_type": "code",
      "execution_count": 45,
      "id": "132f3463",
      "metadata": {
        "id": "132f3463",
        "outputId": "d8b39f2f-fedc-46ef-b526-7462fc2f8833",
        "colab": {
          "base_uri": "https://localhost:8080/"
        }
      },
      "outputs": [
        {
          "output_type": "stream",
          "name": "stdout",
          "text": [
            "['00:10']\n"
          ]
        }
      ],
      "source": [
        "# {} (Curly Braces)\n",
        "\n",
        "pattern = r'\\d{2}:\\d{2}'\n",
        "text = 'The time is 10:10'\n",
        "\n",
        "matches = re.findall(pattern,text)\n",
        "print(matches)"
      ]
    },
    {
      "cell_type": "code",
      "execution_count": 48,
      "id": "81fb063b",
      "metadata": {
        "id": "81fb063b",
        "outputId": "8baef6f6-39ca-4bc3-e504-6717fdf179f0",
        "colab": {
          "base_uri": "https://localhost:8080/"
        }
      },
      "outputs": [
        {
          "output_type": "stream",
          "name": "stdout",
          "text": [
            "['cat', 'hat']\n"
          ]
        }
      ],
      "source": [
        "# [] (Bracket)\n",
        "\n",
        "pattern = r'[ch]at'\n",
        "text = 'The cat wears hat bat'\n",
        "\n",
        "matches = re.findall(pattern,text)\n",
        "print(matches)"
      ]
    },
    {
      "cell_type": "code",
      "execution_count": 52,
      "id": "b16b5eaf",
      "metadata": {
        "id": "b16b5eaf",
        "outputId": "377a40e1-333f-4b88-ec63-eee57cfc2804",
        "colab": {
          "base_uri": "https://localhost:8080/"
        }
      },
      "outputs": [
        {
          "output_type": "stream",
          "name": "stdout",
          "text": [
            "['cat', 'hat']\n"
          ]
        }
      ],
      "source": [
        "# | (Pipe)\n",
        "\n",
        "pattern = r'cat|hat'\n",
        "text = 'The cat wears hat'\n",
        "\n",
        "matches = re.findall(pattern,text)\n",
        "print(matches)"
      ]
    },
    {
      "cell_type": "markdown",
      "id": "fd66217f",
      "metadata": {
        "id": "fd66217f"
      },
      "source": [
        "### Regex Functions\n",
        "\n",
        "re.compile(pattern, flags=0): Compiles a regular expression pattern into a regex object for efficient reuse.\n",
        "\n",
        "re.search(pattern, string, flags=0): Searches for the first occurrence of the pattern in the string and returns a match object.\n",
        "\n",
        "re.match(pattern, string, flags=0): Checks if the pattern matches at the beginning of the string and returns a match object.\n",
        "\n",
        "re.fullmatch(pattern, string, flags=0): Checks if the entire string matches the pattern and returns a match object.\n",
        "\n",
        "re.split(pattern, string, maxsplit=0, flags=0): Splits the string at occurrences of the pattern and returns a list of substrings.\n",
        "\n",
        "re.findall(pattern, string, flags=0): Finds all occurrences of the pattern in the string and returns a list of matches.\n",
        "\n",
        "re.sub(pattern, repl, string, count=0, flags=0): Substitutes occurrences of the pattern with the replacement string in the input string.\n",
        "\n",
        "re.subn(pattern, repl, string, count=0, flags=0): Similar to re.sub, but also returns the number of substitutions made.\n",
        "\n",
        "\n"
      ]
    },
    {
      "cell_type": "code",
      "execution_count": null,
      "id": "3e03586d",
      "metadata": {
        "id": "3e03586d"
      },
      "outputs": [],
      "source": [
        "# re.compile\n",
        "\n",
        "pattern = re.compile(r'\\d+')\n",
        "text = 'There are 123 apples and 456 oranges'\n",
        "\n",
        "matches = re.findall(pattern,text)\n",
        "print(matches)"
      ]
    },
    {
      "cell_type": "code",
      "execution_count": null,
      "id": "ab65562d",
      "metadata": {
        "id": "ab65562d"
      },
      "outputs": [],
      "source": [
        "# re.search\n",
        "\n",
        "pattern = re.compile(r'\\d+')\n",
        "text = 'There are 123 apples and 456 oranges'\n",
        "\n",
        "matches = pattern.search(text)\n",
        "print(matches.group())"
      ]
    },
    {
      "cell_type": "code",
      "execution_count": null,
      "id": "a5501c14",
      "metadata": {
        "id": "a5501c14"
      },
      "outputs": [],
      "source": [
        "# re.match\n",
        "\n",
        "pattern = re.compile(r'\\d+')\n",
        "text = '123 apples and 456 oranges'\n",
        "\n",
        "matches = pattern.match(text)\n",
        "print(matches.group())"
      ]
    },
    {
      "cell_type": "code",
      "execution_count": null,
      "id": "3b4678c9",
      "metadata": {
        "id": "3b4678c9"
      },
      "outputs": [],
      "source": [
        "# re.fullmatch\n",
        "\n",
        "pattern = re.compile(r'\\d+')\n",
        "text = '123456'\n",
        "\n",
        "matches = pattern.fullmatch(text)\n",
        "print(matches.group())"
      ]
    },
    {
      "cell_type": "code",
      "execution_count": null,
      "id": "f8020522",
      "metadata": {
        "id": "f8020522"
      },
      "outputs": [],
      "source": [
        "# re.split\n",
        "\n",
        "pattern = re.compile(r'\\s+')\n",
        "text = 'The price of apple is 25 Rupees'\n",
        "\n",
        "matches = pattern.split(text)\n",
        "print(matches)"
      ]
    },
    {
      "cell_type": "code",
      "execution_count": null,
      "id": "10655f9f",
      "metadata": {
        "id": "10655f9f"
      },
      "outputs": [],
      "source": [
        "# re.findall\n",
        "\n",
        "pattern = re.compile(r'\\d+')\n",
        "text = 'There are 123 apples and 456 oranges'\n",
        "\n",
        "matches = re.findall(pattern,text)\n",
        "print(matches)"
      ]
    },
    {
      "cell_type": "code",
      "execution_count": null,
      "id": "e25ea89e",
      "metadata": {
        "id": "e25ea89e"
      },
      "outputs": [],
      "source": [
        "# re.sub\n",
        "\n",
        "pattern = re.compile(r'\\d+')\n",
        "text = 'The price of apple is 25 Rupees and Orange is 50 Rupees'\n",
        "\n",
        "matches = pattern.sub(\"A\", text)\n",
        "print(matches)"
      ]
    },
    {
      "cell_type": "code",
      "execution_count": null,
      "id": "a8b741e5",
      "metadata": {
        "id": "a8b741e5"
      },
      "outputs": [],
      "source": [
        "# re.subn\n",
        "\n",
        "pattern = re.compile(r'\\d+')\n",
        "text = 'The price of apple is 25 Rupees and Orange is 50 Rupees'\n",
        "\n",
        "replaced_text, num_substitutions = pattern.subn(\"A\",text)\n",
        "print(replaced_text)\n",
        "print(num_substitutions)"
      ]
    }
  ],
  "metadata": {
    "kernelspec": {
      "display_name": "Python 3 (ipykernel)",
      "language": "python",
      "name": "python3"
    },
    "language_info": {
      "codemirror_mode": {
        "name": "ipython",
        "version": 3
      },
      "file_extension": ".py",
      "mimetype": "text/x-python",
      "name": "python",
      "nbconvert_exporter": "python",
      "pygments_lexer": "ipython3",
      "version": "3.9.7"
    },
    "colab": {
      "provenance": []
    }
  },
  "nbformat": 4,
  "nbformat_minor": 5
}