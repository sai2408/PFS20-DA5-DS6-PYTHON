{
  "nbformat": 4,
  "nbformat_minor": 0,
  "metadata": {
    "colab": {
      "provenance": []
    },
    "kernelspec": {
      "name": "python3",
      "display_name": "Python 3"
    },
    "language_info": {
      "name": "python"
    }
  },
  "cells": [
    {
      "cell_type": "markdown",
      "source": [
        "#Frozen Sets\n",
        "    1. A Frozen Set is an unordered collection data type that is iterable, immutable and has no duplicate elements.\n",
        "    2. Frozen Set is majorly used to perform mathematical set operations like union,difference,intersection etc,..\n",
        "    \n",
        "    Operations on Frozen Sets:\n",
        "        1. Creation\n",
        "        2. Accessing"
      ],
      "metadata": {
        "id": "5jFbLszhKXW3"
      }
    },
    {
      "cell_type": "markdown",
      "source": [
        "#Creation\n",
        "    Creation of an Empty Frozen Set\n",
        "    Creation of Frozen Set with Single Element\n",
        "    Creation of Frozen Set with multiple Elements\n",
        "    Creation of Frozen Set with user Inputs"
      ],
      "metadata": {
        "id": "qTyiXAooLOVO"
      }
    },
    {
      "cell_type": "code",
      "execution_count": 5,
      "metadata": {
        "id": "JiBrxaZyKNVb",
        "colab": {
          "base_uri": "https://localhost:8080/"
        },
        "outputId": "a0d1bb01-e867-4d96-e4ee-6436c2880637"
      },
      "outputs": [
        {
          "output_type": "stream",
          "name": "stdout",
          "text": [
            "<class 'frozenset'>\n",
            "<class 'frozenset'>\n",
            "frozenset({1, 2, 3})\n",
            "frozenset({1})\n"
          ]
        }
      ],
      "source": [
        "s1 = frozenset()\n",
        "print(type(s1))\n",
        "\n",
        "s2 = frozenset([1,2,3])\n",
        "print(type(s2))\n",
        "print(s2)\n",
        "\n",
        "s3 = frozenset([1])\n",
        "print(s3)"
      ]
    },
    {
      "cell_type": "markdown",
      "source": [
        "#Accessing\n",
        "    Looping\n",
        "        For Loop without range\n",
        "    Methods\n",
        "        copy()"
      ],
      "metadata": {
        "id": "gbPUIldLLcs0"
      }
    },
    {
      "cell_type": "code",
      "source": [],
      "metadata": {
        "id": "wYAYEnILLxiG"
      },
      "execution_count": null,
      "outputs": []
    },
    {
      "cell_type": "markdown",
      "source": [
        "#Built-in functions\n",
        "    1. len()\n",
        "    2. max()\n",
        "    3. min()\n",
        "    4. sum()\n",
        "    5. sorted()"
      ],
      "metadata": {
        "id": "6IJg_FrsMVi1"
      }
    },
    {
      "cell_type": "code",
      "source": [],
      "metadata": {
        "id": "Mbl4BrlAMt3W"
      },
      "execution_count": null,
      "outputs": []
    },
    {
      "cell_type": "markdown",
      "source": [
        "#Mathematical set operations\n",
        "    1. union()\n",
        "        union() or  |\n",
        "    2. intersection\n",
        "        intersection() or &\n",
        "    3. difference\n",
        "        difference() or -\n",
        "    4. symmetric difference\n",
        "        symmetric_differnece() or ^\n",
        "    5. isdisjoint()\n",
        "    6. issubset()\n",
        "    7. issuperset()"
      ],
      "metadata": {
        "id": "n0i6W3ETMxE1"
      }
    },
    {
      "cell_type": "code",
      "source": [],
      "metadata": {
        "id": "NiEOVatdNsDn"
      },
      "execution_count": null,
      "outputs": []
    }
  ]
}