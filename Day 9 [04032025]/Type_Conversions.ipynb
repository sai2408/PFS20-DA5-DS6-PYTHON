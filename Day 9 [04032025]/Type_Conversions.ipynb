{
  "nbformat": 4,
  "nbformat_minor": 0,
  "metadata": {
    "colab": {
      "provenance": []
    },
    "kernelspec": {
      "name": "python3",
      "display_name": "Python 3"
    },
    "language_info": {
      "name": "python"
    }
  },
  "cells": [
    {
      "cell_type": "markdown",
      "source": [
        "#Type Convertions\n",
        "    Int : String, Float,\n",
        "    Float : String, Interger,\n",
        "    String : Integer, Float, List and tuple,\n",
        "    List : String, Tuple and Dictionary,\n",
        "    Tuple : String and Lists,"
      ],
      "metadata": {
        "id": "UZSNx05afKY8"
      }
    },
    {
      "cell_type": "markdown",
      "source": [
        "#Interger\n",
        "    Strings\n",
        "    Float"
      ],
      "metadata": {
        "id": "lm2qfrKgfvAR"
      }
    },
    {
      "cell_type": "code",
      "execution_count": 3,
      "metadata": {
        "id": "PqFN12a-fHBv",
        "colab": {
          "base_uri": "https://localhost:8080/"
        },
        "outputId": "8c10ae4a-e53b-4504-f287-c34c13b32e39"
      },
      "outputs": [
        {
          "output_type": "stream",
          "name": "stdout",
          "text": [
            "10\n",
            "<class 'int'>\n",
            "10\n",
            "<class 'str'>\n",
            "10.0\n",
            "<class 'float'>\n"
          ]
        }
      ],
      "source": [
        "x = 10\n",
        "print(x)\n",
        "print(type(x))\n",
        "\n",
        "x1 = str(x)\n",
        "print(x1)\n",
        "print(type(x1))\n",
        "\n",
        "x2 = float(x)\n",
        "print(x2)\n",
        "print(type(x2))"
      ]
    },
    {
      "cell_type": "markdown",
      "source": [
        "#Float\n",
        "    String\n",
        "    Integer"
      ],
      "metadata": {
        "id": "65bxKi61f0MU"
      }
    },
    {
      "cell_type": "code",
      "source": [
        "x = 10.9\n",
        "print(x)\n",
        "print(type(x))\n",
        "\n",
        "x1 = str(x)\n",
        "print(x1)\n",
        "print(type(x1))\n",
        "print(x1[3])\n",
        "print(x1[2])\n",
        "\n",
        "x2 = int(x)\n",
        "print(x2)\n",
        "print(type(x2))"
      ],
      "metadata": {
        "id": "hINC8ji9f6Q9",
        "colab": {
          "base_uri": "https://localhost:8080/"
        },
        "outputId": "3a69b53a-8850-41a0-d4b5-2c35c35473ce"
      },
      "execution_count": 13,
      "outputs": [
        {
          "output_type": "stream",
          "name": "stdout",
          "text": [
            "10.9\n",
            "<class 'float'>\n",
            "10.9\n",
            "<class 'str'>\n",
            "9\n",
            ".\n",
            "10\n",
            "<class 'int'>\n"
          ]
        }
      ]
    },
    {
      "cell_type": "markdown",
      "source": [
        "#Strings\n",
        "    Integer\n",
        "    Float\n",
        "    list\n",
        "    tuple"
      ],
      "metadata": {
        "id": "R1f3q0QKf6dp"
      }
    },
    {
      "cell_type": "code",
      "source": [
        "x = \"hello\"\n",
        "y = \"10\"\n",
        "z = \"10.456\"\n",
        "print(x)\n",
        "print(type(x))\n",
        "print(y)\n",
        "print(type(y))\n",
        "\n",
        "x1 = int(y)\n",
        "print(x1)\n",
        "print(type(x1))\n",
        "\n",
        "y1 = float(z)\n",
        "print(y1)\n",
        "print(type(y1))\n",
        "\n",
        "x3 = list(x)\n",
        "print(x3)\n",
        "print(type(x3))\n",
        "x33 = list(y)\n",
        "print(x33)\n",
        "print(type(x33))\n",
        "\n",
        "x4 = tuple(x)\n",
        "print(x4)\n",
        "print(type(x4))\n",
        "\n",
        "print(x33)\n",
        "x333 = list(map(int,x33))\n",
        "print(x333)\n",
        "\n",
        "x5 = \"10\"\n",
        "x6 = int(x5)\n",
        "x7 = [x6]\n",
        "print(type(x7))\n",
        "print(x7)"
      ],
      "metadata": {
        "id": "e9XAAIj7gBNa",
        "colab": {
          "base_uri": "https://localhost:8080/"
        },
        "outputId": "9c419db2-96ba-40a4-ba2a-27795ed0a468"
      },
      "execution_count": 39,
      "outputs": [
        {
          "output_type": "stream",
          "name": "stdout",
          "text": [
            "hello\n",
            "<class 'str'>\n",
            "10\n",
            "<class 'str'>\n",
            "10\n",
            "<class 'int'>\n",
            "10.456\n",
            "<class 'float'>\n",
            "['h', 'e', 'l', 'l', 'o']\n",
            "<class 'list'>\n",
            "['1', '0']\n",
            "<class 'list'>\n",
            "('h', 'e', 'l', 'l', 'o')\n",
            "<class 'tuple'>\n",
            "['1', '0']\n",
            "[1, 0]\n",
            "<class 'list'>\n",
            "[10]\n"
          ]
        }
      ]
    },
    {
      "cell_type": "markdown",
      "source": [
        "#List\n",
        "    String\n",
        "    Tuple"
      ],
      "metadata": {
        "id": "uPHgKyRpgBfi"
      }
    },
    {
      "cell_type": "code",
      "source": [
        "a = [10,20,30,40]\n",
        "a1 = str(a)\n",
        "print(a1)\n",
        "print(type(a1))\n",
        "print(a1[0])\n",
        "print(a1[1])\n",
        "\n",
        "a2 = tuple(a)\n",
        "print(a2)\n",
        "print(type(a2))\n"
      ],
      "metadata": {
        "id": "c5BO_p41gHJ_",
        "colab": {
          "base_uri": "https://localhost:8080/"
        },
        "outputId": "811fbc7f-6728-4794-fdb5-03a72bdf56bb"
      },
      "execution_count": 44,
      "outputs": [
        {
          "output_type": "stream",
          "name": "stdout",
          "text": [
            "[10, 20, 30, 40]\n",
            "<class 'str'>\n",
            "[\n",
            "1\n",
            "(10, 20, 30, 40)\n",
            "<class 'tuple'>\n",
            "10\n",
            "10\n"
          ]
        }
      ]
    },
    {
      "cell_type": "markdown",
      "source": [
        "#Tuple\n",
        "    String\n",
        "    List"
      ],
      "metadata": {
        "id": "eXIVGV6ZhBGo"
      }
    },
    {
      "cell_type": "code",
      "source": [
        "b = (1,2,3,4)\n",
        "print(b)\n",
        "print(type(b))\n",
        "\n",
        "b1 = str(b)\n",
        "print(b1)\n",
        "print(type(b1))\n",
        "\n",
        "print(b[0])\n",
        "print(b1[0])"
      ],
      "metadata": {
        "id": "uqh7QCNHhEBB",
        "colab": {
          "base_uri": "https://localhost:8080/"
        },
        "outputId": "f355a3b3-ed2d-4326-f589-01a3338c17c9"
      },
      "execution_count": 49,
      "outputs": [
        {
          "output_type": "stream",
          "name": "stdout",
          "text": [
            "(1, 2, 3, 4)\n",
            "<class 'tuple'>\n",
            "(1, 2, 3, 4)\n",
            "<class 'str'>\n",
            "1\n",
            "(\n"
          ]
        }
      ]
    },
    {
      "cell_type": "code",
      "source": [
        "x1 = (1,2,3,4)\n",
        "x2 = (10,20,30,40)\n",
        "res = zip(x1,x2)\n",
        "print(res)\n",
        "res1 = dict(res)\n",
        "print(res1)"
      ],
      "metadata": {
        "colab": {
          "base_uri": "https://localhost:8080/"
        },
        "id": "L_bVdMl7djgi",
        "outputId": "5d610488-8774-4cda-80ec-0319015af35c"
      },
      "execution_count": 56,
      "outputs": [
        {
          "output_type": "stream",
          "name": "stdout",
          "text": [
            "<zip object at 0x7f3f9752d180>\n",
            "{1: 10, 2: 20, 3: 30, 4: 40}\n"
          ]
        }
      ]
    },
    {
      "cell_type": "code",
      "source": [
        "s1 = {1,2,3,4,5}\n",
        "print(s1)\n",
        "print(type(s1))\n",
        "\n",
        "s2 = frozenset(s1)\n",
        "print(s2)\n",
        "print(type(s2))\n",
        "\n",
        "s3 = set(s2)\n",
        "print(s3)\n",
        "print(type(s3))"
      ],
      "metadata": {
        "colab": {
          "base_uri": "https://localhost:8080/"
        },
        "id": "gmk_Ju-Bd3-t",
        "outputId": "7d3fb322-6074-4a80-cd10-95bf3ccf88de"
      },
      "execution_count": 54,
      "outputs": [
        {
          "output_type": "stream",
          "name": "stdout",
          "text": [
            "{1, 2, 3, 4, 5}\n",
            "<class 'set'>\n",
            "frozenset({1, 2, 3, 4, 5})\n",
            "<class 'frozenset'>\n",
            "{1, 2, 3, 4, 5}\n",
            "<class 'set'>\n"
          ]
        }
      ]
    }
  ]
}