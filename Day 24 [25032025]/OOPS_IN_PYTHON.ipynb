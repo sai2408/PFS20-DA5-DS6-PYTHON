{
  "nbformat": 4,
  "nbformat_minor": 0,
  "metadata": {
    "colab": {
      "provenance": []
    },
    "kernelspec": {
      "name": "python3",
      "display_name": "Python 3"
    },
    "language_info": {
      "name": "python"
    }
  },
  "cells": [
    {
      "cell_type": "markdown",
      "source": [
        "#OOPS IN PYTHON\n",
        "    1. Class\n",
        "    2. Object\n",
        "    3. Attributes\n",
        "    4. Methods\n",
        "    5. Constructors"
      ],
      "metadata": {
        "id": "ogHMnCf9J05C"
      }
    },
    {
      "cell_type": "code",
      "source": [
        "a = 30\n",
        "class abc:\n",
        "  a = 10\n",
        "class xy:\n",
        "  a = 20\n",
        "print(a)\n",
        "print(abc.a)\n",
        "print(xy.a)"
      ],
      "metadata": {
        "colab": {
          "base_uri": "https://localhost:8080/"
        },
        "id": "YsKr28KtlYOL",
        "outputId": "4508a54b-d81e-468c-f612-8a35601246bd"
      },
      "execution_count": 4,
      "outputs": [
        {
          "output_type": "stream",
          "name": "stdout",
          "text": [
            "30\n",
            "10\n",
            "20\n"
          ]
        }
      ]
    },
    {
      "cell_type": "code",
      "source": [
        "class hello:\n",
        "  a = 10\n",
        "  b = 20\n",
        "class hi:\n",
        "  a = 10\n",
        "  b = 40\n",
        "ob1 = hello()\n",
        "print(ob1.a)\n",
        "print(ob1.b)\n",
        "\n",
        "ob2 = hi()\n",
        "print(ob2.a)\n",
        "print(ob2.b)"
      ],
      "metadata": {
        "colab": {
          "base_uri": "https://localhost:8080/"
        },
        "id": "L1vrJCKPl4jU",
        "outputId": "7c00327a-6cf1-4b76-a9a7-6642d2b7c54e"
      },
      "execution_count": 6,
      "outputs": [
        {
          "output_type": "stream",
          "name": "stdout",
          "text": [
            "10\n",
            "20\n",
            "10\n",
            "40\n"
          ]
        }
      ]
    },
    {
      "cell_type": "code",
      "source": [
        "class hello:\n",
        "  a = 1000\n",
        "  def abc(self):\n",
        "    print(\"Hello Class\")\n",
        "  def xyz(self,a,b):\n",
        "    print(a+b)\n",
        "ob = hello()\n",
        "ob.abc()\n",
        "ob.xyz(10,20)\n",
        "print(ob.a)"
      ],
      "metadata": {
        "colab": {
          "base_uri": "https://localhost:8080/"
        },
        "id": "neKcj89XmNb0",
        "outputId": "7335d179-f699-48cc-c8f8-caf9bc3321b1"
      },
      "execution_count": 12,
      "outputs": [
        {
          "output_type": "stream",
          "name": "stdout",
          "text": [
            "Hello Class\n",
            "30\n",
            "1000\n"
          ]
        }
      ]
    },
    {
      "cell_type": "code",
      "source": [
        "'''\n",
        "class Rectangle:\n",
        "  def perimeter(self,l,b):\n",
        "    print(2*(l+b))\n",
        "  def area(self,l,b):\n",
        "    print(l*b)\n",
        "r1 = Rectangle()\n",
        "r1.perimeter(10,20)\n",
        "r1.area(10,20)\n",
        "'''\n",
        "'''\n",
        "class Rectangle:\n",
        "  def __init__(self,l,b):\n",
        "    self.l = l\n",
        "    self.b = b\n",
        "  def perimeter(self):\n",
        "    print(2*(self.l+self.b))\n",
        "  def area(self):\n",
        "    print(self.l*self.b)\n",
        "r1 = Rectangle(10,20)\n",
        "r1.perimeter()\n",
        "r1.area()\n",
        "\n",
        "r2 = Rectangle(2,5)\n",
        "r2.perimeter()\n",
        "r2.area()\n",
        "'''\n"
      ],
      "metadata": {
        "colab": {
          "base_uri": "https://localhost:8080/"
        },
        "id": "BvoGlsY9myIr",
        "outputId": "abe9564e-3c48-4dea-a1d5-24c863282184"
      },
      "execution_count": 28,
      "outputs": [
        {
          "output_type": "stream",
          "name": "stdout",
          "text": [
            "60\n",
            "200\n",
            "14\n",
            "10\n"
          ]
        }
      ]
    },
    {
      "cell_type": "code",
      "source": [
        "class sample:\n",
        "  a = 10\n",
        "  b = 20\n",
        "  def hello1(self):\n",
        "    print(\"Hello All\")\n",
        "  def hello2(self):\n",
        "    print(\"Hello All 2\")\n",
        "ob = sample()\n",
        "print(ob.a)\n",
        "print(ob.b)\n",
        "ob.hello1()\n",
        "ob.hello2()"
      ],
      "metadata": {
        "colab": {
          "base_uri": "https://localhost:8080/"
        },
        "id": "12fg4T7hrWBo",
        "outputId": "62836ae8-18c7-48f7-9fee-88a48dabdf86"
      },
      "execution_count": 31,
      "outputs": [
        {
          "output_type": "stream",
          "name": "stdout",
          "text": [
            "10\n",
            "20\n",
            "Hello All\n",
            "Hello All 2\n"
          ]
        }
      ]
    },
    {
      "cell_type": "code",
      "source": [
        "class Codegnan:\n",
        "  def __init__(self,a,b):\n",
        "    self.a = a\n",
        "    self.b = b\n",
        "  def hello1(self):\n",
        "    print(self.a + self.b)\n",
        "  def hello2(self):\n",
        "    return self.a * self.b\n",
        "ob1 = Codegnan(10,20)\n",
        "ob1.hello1()\n",
        "print(ob1.hello2())"
      ],
      "metadata": {
        "colab": {
          "base_uri": "https://localhost:8080/"
        },
        "id": "xnGcLvdPubrk",
        "outputId": "2c5763db-14d8-42ee-e710-a9eae56e7fa6"
      },
      "execution_count": 32,
      "outputs": [
        {
          "output_type": "stream",
          "name": "stdout",
          "text": [
            "30\n",
            "200\n"
          ]
        }
      ]
    },
    {
      "cell_type": "markdown",
      "source": [
        "#Access Specifiers\n",
        "    1. Public\n",
        "    2. Private"
      ],
      "metadata": {
        "id": "OsTk6AipKL8_"
      }
    },
    {
      "cell_type": "markdown",
      "source": [
        "#4 PILLERS OF OOPS\n",
        "    1. Encapsulation\n",
        "    2. Inheritance\n",
        "    3. Polymorphism\n",
        "    3. Abstraction"
      ],
      "metadata": {
        "id": "Ia_IMFSxKCnw"
      }
    },
    {
      "cell_type": "markdown",
      "source": [
        "#1. Encapsulation\n",
        "    Encapsulation is one of the core concepts of Object-Oriented Programming (OOP).\n",
        "    It is the mechanism of restricting direct access to some components of an object while still allowing controlled interaction.\n",
        "    In Python, encapsulation helps in data hiding and ensures that the internal state of an object is not directly modified from outside the class."
      ],
      "metadata": {
        "id": "TQxczYS9LbSr"
      }
    },
    {
      "cell_type": "markdown",
      "source": [
        "#2. Inheritance\n",
        "    Inheritance is a fundamental concept of Object-Oriented Programming (OOP) that allows a child class (or subclass) to inherit properties\n",
        "    and behaviors (methods) from a parent class (or superclass). This promotes code reusability and\n",
        "    establishes a hierarchical relationship between classes.\n",
        "\n",
        "    1. Single Inheritance\n",
        "        One child class inherits from one parent class.\n",
        "    2. Multiple Inheritance\n",
        "        A child class inherits from more than one parent class.\n",
        "    3. Multi Level Inheritance\n",
        "        A child class inherits from a parent class, and another class inherits from that child class.\n",
        "    4. Hierarchical Inheritance\n",
        "        Multiple child classes inherit from a single parent class.\n",
        "    5. Hybrid Inheritance\n",
        "        Combination of two or more types of inheritance."
      ],
      "metadata": {
        "id": "KEhv_M50Kyqv"
      }
    },
    {
      "cell_type": "markdown",
      "source": [
        "#Super Method\n",
        "    The super() function in Python is used to give access to methods and properties of a parent (or superclass) from a child (or subclass).\n",
        "    It is commonly used in inheritance to call methods from the parent class without directly referring to the parent class name."
      ],
      "metadata": {
        "id": "xtWsj_MqLJWt"
      }
    },
    {
      "cell_type": "markdown",
      "source": [
        "#3. Polymorphism\n",
        "    Polymorphism is a core concept of Object-Oriented Programming (OOP) that allows objects of different classes to be treated\n",
        "    as objects of a common super class.\n",
        "    It enables a single function, method, or operator to behave differently based on the object it is acting upon.\n",
        "\n",
        "    The word polymorphism comes from the Greek words \"poly\" (many) and \"morph\" (forms), meaning \"many forms\".\n",
        "\n",
        "    Types of Polymorphism\n",
        "    1. Duck Typing (Dynamic Polymorphism)\n",
        "        In Python, if an object behaves like a particular type, it is that type — \"If it walks like a duck and quacks like a duck, it's a duck.\"\n",
        "\n",
        "    2. Method Overriding\n",
        "        In inheritance, a child class can provide a specific implementation of a method already defined in its parent class.\n",
        "\n",
        "    3. Method Overloading\n",
        "        Python doesn't support traditional method overloading. However, it can be achieved using default arguments or *args and **args.\n",
        "\n",
        "    4. Operator Overloading\n",
        "        Python allows operators to have different meanings based on the context, by using magic methods (dunder methods).\n"
      ],
      "metadata": {
        "id": "uX0rzRvALLj2"
      }
    },
    {
      "cell_type": "markdown",
      "source": [
        "#4. Abstraction"
      ],
      "metadata": {
        "id": "NsQun5QcN83t"
      }
    },
    {
      "cell_type": "code",
      "source": [],
      "metadata": {
        "id": "eiB1k9DZODB5"
      },
      "execution_count": null,
      "outputs": []
    },
    {
      "cell_type": "markdown",
      "source": [
        "#Exception Handling\n",
        "    Exception Handling in Python is a mechanism to gracefully handle runtime errors, ensuring that the program doesn't crash unexpectedly.\n",
        "    It allows you to detect errors, handle them properly, and continue program execution.\n",
        "\n",
        "    An exception is an event that occurs during the execution of a program that disrupts its normal flow. Common examples include\n",
        "    ZeroDivisionError, FileNotFoundError, and ValueError.\n",
        "\n",
        "    Key Points:\n",
        "        1. Try [ Code that might raise an exception. ]\n",
        "        2. Except [ Handles the exception ]\n",
        "        3. Else [ Executes if no exceptions occur ]\n",
        "        4. Finally [ Executes code regardless of an exception ]"
      ],
      "metadata": {
        "id": "V5DQWXKU0-Vy"
      }
    },
    {
      "cell_type": "code",
      "source": [],
      "metadata": {
        "id": "PtIImlX0Phd4"
      },
      "execution_count": null,
      "outputs": []
    }
  ]
}