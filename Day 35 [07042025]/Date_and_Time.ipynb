{
  "nbformat": 4,
  "nbformat_minor": 0,
  "metadata": {
    "colab": {
      "provenance": []
    },
    "kernelspec": {
      "name": "python3",
      "display_name": "Python 3"
    },
    "language_info": {
      "name": "python"
    }
  },
  "cells": [
    {
      "cell_type": "markdown",
      "source": [
        "#DATE & TIME\n",
        "    1. date\n",
        "    2. time\n",
        "    3. datetime\n",
        "    4. timedelta"
      ],
      "metadata": {
        "id": "G3rzKDyYQ7Vj"
      }
    },
    {
      "cell_type": "markdown",
      "source": [
        "#date\n",
        "    1. today()\n",
        "        1.1. today().year\n",
        "        1.2. today().month\n",
        "        1.3. today().day\n",
        "    2. date(yyyy,mm,dd)\n",
        "\n"
      ],
      "metadata": {
        "id": "dCRayrouTq8V"
      }
    },
    {
      "cell_type": "code",
      "source": [
        "#Format -> (yyyy,mm,dd)\n",
        "from datetime import date\n",
        "\n",
        "#Specific Date\n",
        "sd1 = date(2024,8,24)\n",
        "print(sd1)\n",
        "\n",
        "'''\n",
        "sd2 = date(8,2023,5)\n",
        "print(sd2)\n",
        "'''\n",
        "sd3 = date(2023,9,30)\n",
        "print(sd3)\n",
        "\n",
        "sd4 = date(2023,3,21)\n",
        "print(sd4)\n",
        "\n",
        "#Extact Date,Year and Month\n",
        "print(sd4.year)\n",
        "print(sd4.month)\n",
        "print(sd4.day)\n",
        "\n",
        "print(sd3.year)\n",
        "print(sd3.month)\n",
        "print(sd3.day)\n",
        "\n",
        "#Current Date\n",
        "cd = date.today()\n",
        "print(cd)\n",
        "print(cd.year)\n",
        "print(cd.month)\n",
        "print(cd.day)\n",
        "\n",
        "import datetime\n",
        "print(datetime.date.today())"
      ],
      "metadata": {
        "id": "K_sCghrKTvdY",
        "colab": {
          "base_uri": "https://localhost:8080/"
        },
        "outputId": "8e3e4f0e-4edc-4ef7-bef0-6c59f450d37b"
      },
      "execution_count": 24,
      "outputs": [
        {
          "output_type": "stream",
          "name": "stdout",
          "text": [
            "2024-08-24\n",
            "2023-09-30\n",
            "2023-03-21\n",
            "2023\n",
            "3\n",
            "21\n",
            "2023\n",
            "9\n",
            "30\n",
            "2025-04-07\n",
            "2025\n",
            "4\n",
            "7\n",
            "2025-04-07\n"
          ]
        }
      ]
    },
    {
      "cell_type": "markdown",
      "source": [
        "#time\n",
        "    1. time(hh,mm,ss)\n",
        "        1.1. time(hh,mm,ss).hour\n",
        "        1.2. time(hh,mm,ss).minute\n",
        "        1.3. time(hh,mm,ss).second\n",
        "    2."
      ],
      "metadata": {
        "id": "ZiHiJYnZTstO"
      }
    },
    {
      "cell_type": "code",
      "source": [
        "#Format -> (hh,mm,ss)\n",
        "from datetime import time\n",
        "\n",
        "st1 = time(11,11,11)\n",
        "print(st1)\n",
        "\n",
        "st2 = time(12,12,12)\n",
        "print(st2)\n",
        "\n",
        "st3 = time(12,19,45)\n",
        "print(st3)\n",
        "\n",
        "st4 = time(23,12,10)\n",
        "print(st4)\n",
        "\n",
        "#Extact Hour, Minute and Seconds\n",
        "print(st4.hour)\n",
        "print(st4.minute)\n",
        "print(st4.second)"
      ],
      "metadata": {
        "id": "Hv5G135kT_l_",
        "colab": {
          "base_uri": "https://localhost:8080/"
        },
        "outputId": "5402b924-884d-4113-827f-1c4e20ee1ce3"
      },
      "execution_count": 42,
      "outputs": [
        {
          "output_type": "stream",
          "name": "stdout",
          "text": [
            "11:11:11\n",
            "12:12:12\n",
            "12:19:45\n",
            "23:12:10\n",
            "23\n",
            "12\n",
            "10\n"
          ]
        }
      ]
    },
    {
      "cell_type": "markdown",
      "source": [
        "#datetime\n",
        "    1. datetime.now()\n",
        "    2. datetime.today()"
      ],
      "metadata": {
        "id": "X-VobpGdTtk1"
      }
    },
    {
      "cell_type": "code",
      "source": [
        "from datetime import datetime\n",
        "\n",
        "x1 = datetime.now()\n",
        "print(x1)\n",
        "\n",
        "x2 = datetime.today()\n",
        "print(x2)\n",
        "\n",
        "print(x2.year)\n",
        "print(x2.month)\n",
        "print(x2.day)\n",
        "print(x2.hour)\n",
        "print(x2.minute)\n",
        "print(x2.second)"
      ],
      "metadata": {
        "id": "aBeSzQRhT3hd",
        "colab": {
          "base_uri": "https://localhost:8080/"
        },
        "outputId": "b813576d-2d53-409e-8cc4-c8dde791d28e"
      },
      "execution_count": 48,
      "outputs": [
        {
          "output_type": "stream",
          "name": "stdout",
          "text": [
            "2025-04-07 04:47:42.056947\n",
            "2025-04-07 04:47:42.057119\n",
            "2025\n",
            "4\n",
            "7\n",
            "4\n",
            "47\n",
            "42\n"
          ]
        }
      ]
    },
    {
      "cell_type": "markdown",
      "source": [
        "#Formatting Date and Time\n",
        "    1. now.strftime(<format>)\n",
        "        %Y - Year\n",
        "        %m - Month\n",
        "        %d - day\n",
        "        %H - Hour\n",
        "        %M - Minute\n",
        "        %S - Second\n",
        "    2. datetime.strptime(<date string>,<format>)"
      ],
      "metadata": {
        "id": "Iy5kGuB2UF1a"
      }
    },
    {
      "cell_type": "code",
      "source": [
        "from datetime import datetime\n",
        "\n",
        "ex = datetime.now()\n",
        "print(ex)\n",
        "\n",
        "ex1 = ex.strftime(\"<%d-%m-%Y> <%S:%M:%H>\")\n",
        "print(ex1)\n",
        "\n",
        "ctime = ex.strftime(\"%H:%M:%S\")\n",
        "print(ctime)\n"
      ],
      "metadata": {
        "id": "oKUqSD5kUIC6",
        "colab": {
          "base_uri": "https://localhost:8080/"
        },
        "outputId": "1b223604-8554-4715-e358-bfe83a8bd17a"
      },
      "execution_count": 56,
      "outputs": [
        {
          "output_type": "stream",
          "name": "stdout",
          "text": [
            "2025-04-07 04:58:29.218790\n",
            "<07-04-2025> <29:58:04>\n",
            "04:58:29\n"
          ]
        }
      ]
    },
    {
      "cell_type": "markdown",
      "source": [
        "#Performing Date Arithmetic\n"
      ],
      "metadata": {
        "id": "SpU717BGUMN8"
      }
    },
    {
      "cell_type": "code",
      "source": [
        "from datetime import timedelta\n",
        "from datetime import datetime\n",
        "a1 = datetime.now()\n",
        "print(a1)\n",
        "\n",
        "print(a1+timedelta(days=25))\n",
        "print(a1-timedelta(days=10))\n",
        "\n",
        "a2 = datetime.strptime(\"2024-12-20 10:10:10\",\"%Y-%m-%d %H:%M:%S\")\n",
        "print(a2)\n",
        "print(a2-timedelta(days=20))\n",
        "print(a2+timedelta(days=20))\n",
        "\n",
        "print(a1)\n",
        "print(a2)\n",
        "print(a1-a2)\n",
        "x = a1-a2\n",
        "print(x.days)"
      ],
      "metadata": {
        "id": "wD91EtczUNr8",
        "colab": {
          "base_uri": "https://localhost:8080/"
        },
        "outputId": "ee802b56-aa3f-480c-9682-ae342abebeb8"
      },
      "execution_count": 85,
      "outputs": [
        {
          "output_type": "stream",
          "name": "stdout",
          "text": [
            "2025-04-07 05:21:32.692468\n",
            "2025-05-02 05:21:32.692468\n",
            "2025-03-28 05:21:32.692468\n",
            "2024-12-20 10:10:10\n",
            "2024-11-30 10:10:10\n",
            "2025-01-09 10:10:10\n",
            "2025-04-07 05:21:32.692468\n",
            "2024-12-20 10:10:10\n",
            "107 days, 19:11:22.692468\n",
            "107\n"
          ]
        }
      ]
    },
    {
      "cell_type": "markdown",
      "source": [
        "#Time Module\n",
        "    1. time.time()\n",
        "    2. time.sleep(<value>)"
      ],
      "metadata": {
        "id": "beRhyrohUX2q"
      }
    },
    {
      "cell_type": "code",
      "source": [
        "import time\n",
        "for i in range(5):\n",
        "  time.sleep(5)\n",
        "  print(\"Hello World\")"
      ],
      "metadata": {
        "id": "-a_seNmQUXVh",
        "colab": {
          "base_uri": "https://localhost:8080/"
        },
        "outputId": "fe1b14b5-155f-49bb-b63d-a2b0760ce557"
      },
      "execution_count": 90,
      "outputs": [
        {
          "output_type": "stream",
          "name": "stdout",
          "text": [
            "Hello World\n",
            "Hello World\n",
            "Hello World\n",
            "Hello World\n",
            "Hello World\n"
          ]
        }
      ]
    }
  ]
}