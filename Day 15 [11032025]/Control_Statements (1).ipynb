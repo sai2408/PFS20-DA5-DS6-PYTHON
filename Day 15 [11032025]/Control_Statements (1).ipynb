{
  "nbformat": 4,
  "nbformat_minor": 0,
  "metadata": {
    "colab": {
      "provenance": []
    },
    "kernelspec": {
      "name": "python3",
      "display_name": "Python 3"
    },
    "language_info": {
      "name": "python"
    }
  },
  "cells": [
    {
      "cell_type": "markdown",
      "source": [
        "#**CONTROL STATEMENTS**\n",
        "    Loops are traditionally used when you have a block of code which we want to repeat a fixed number of times.\n",
        "#**Types of Control Statements**\n",
        "    While\n",
        "    For\n",
        "    Nested control Statements\n"
      ],
      "metadata": {
        "id": "q59hQg2J2hNL"
      }
    },
    {
      "cell_type": "markdown",
      "source": [
        "#**WHILE LOOP**\n",
        "\n",
        "#SYNTAX\n",
        "    while condition:\n",
        "        while statement 1\n",
        "        while statement 2\n",
        "        .\n",
        "        .\n",
        "        ."
      ],
      "metadata": {
        "id": "HFUwY--33irX"
      }
    },
    {
      "cell_type": "code",
      "execution_count": null,
      "metadata": {
        "id": "0z7Gyakd1sn2",
        "colab": {
          "base_uri": "https://localhost:8080/"
        },
        "outputId": "5ac86e7a-d996-4238-f676-1a87285bab56"
      },
      "outputs": [
        {
          "output_type": "stream",
          "name": "stdout",
          "text": [
            "5\n",
            "4\n",
            "3\n",
            "Outside while\n"
          ]
        }
      ],
      "source": [
        "x = 5\n",
        "while x >= 3:\n",
        "    print(x)\n",
        "    x = x - 1\n",
        "print(\"Outside while\")"
      ]
    },
    {
      "cell_type": "markdown",
      "source": [
        "#**FOR LOOP**\n",
        "\n",
        "#SYNTAX\n",
        "    for variable in sequence:\n",
        "        for statement 1\n",
        "        for statement 2\n",
        "        .\n",
        "        .\n",
        "        ."
      ],
      "metadata": {
        "id": "qfa9R2WA3qw9"
      }
    },
    {
      "cell_type": "code",
      "source": [
        "'''\n",
        "for x in range(2,7,2):\n",
        "    print(x)\n",
        "'''\n",
        "'''\n",
        "x = \"abcde\"\n",
        "n = len(x)\n",
        "print(n)\n",
        "'''\n",
        "'''\n",
        "for i in range(n):\n",
        "    print(x[i])\n",
        "'''\n",
        "'''\n",
        "for i in x:\n",
        "  print(i)\n",
        "'''\n",
        "'''\n",
        "for i in range(n):\n",
        "  print(x[i],end=\",\")\n",
        "'''\n",
        "'''\n",
        "for i in x:\n",
        "  print(i,end=\"%\")\n",
        "'''\n",
        "'''\n",
        "print(*x,sep=\",\")\n",
        "'''\n",
        "'''\n",
        "x1 = [10,20,30,40,50]\n",
        "print(x1)\n",
        "for i in range(len(x1)):\n",
        "  print(x1[i])\n",
        "for i in x1:\n",
        "  print(i)\n",
        "'''\n",
        "'''\n",
        "x2 = (1,2,3,4,5)\n",
        "print(x2)\n",
        "for i in range(len(x2)):\n",
        "  print(x2[i])\n",
        "for i in x2:\n",
        "  print(i)\n",
        "'''\n",
        "'''\n",
        "d1 = {1:10,2:20,3:30}\n",
        "print(d1)\n",
        "for i in d1:\n",
        "  print(i)\n",
        "for i in d1:\n",
        "  print(d1[i])\n",
        "'''\n",
        "'''\n",
        "s1 = {10,20,30,4}\n",
        "print(s1)\n",
        "for u in s1:\n",
        "  print(u)\n",
        "'''\n",
        "'''\n",
        "x1 = [10,11,12,13,14,15]\n",
        "res = 0\n",
        "for i in range(len(x1)):\n",
        "  if x1[i]%2==0:\n",
        "    res = res + x1[i]\n",
        "print(res)\n",
        "'''\n",
        "'''\n",
        "x1 = [10,11,12,13,14,15]\n",
        "res = 0\n",
        "for i in x1:\n",
        "  if i%2==0:\n",
        "    res = res + i\n",
        "print(res)\n",
        "'''"
      ],
      "metadata": {
        "id": "0kTMYpDM3tI1",
        "colab": {
          "base_uri": "https://localhost:8080/"
        },
        "outputId": "2dbf9c0d-0801-426f-fb81-c39b9aaafbd8"
      },
      "execution_count": null,
      "outputs": [
        {
          "output_type": "stream",
          "name": "stdout",
          "text": [
            "36\n"
          ]
        }
      ]
    },
    {
      "cell_type": "markdown",
      "source": [
        "#**NESTED CONTROL STATEMENTS**\n",
        "\n",
        "#Types:\n",
        "    1. For in For\n",
        "    2. For in while\n",
        "    3. While in while\n",
        "    4. For in for"
      ],
      "metadata": {
        "id": "9irtNmxX3taM"
      }
    },
    {
      "cell_type": "code",
      "source": [
        "#Pattern - 1\n",
        "'''\n",
        "for i in range(3):\n",
        "  for j in range(3):\n",
        "    print(f\"*\",end=\" \")\n",
        "  print()\n",
        "'''\n",
        "#Pattern - 2\n",
        "'''\n",
        "for i in range(4):\n",
        "  for j in range(4):\n",
        "    if (i>=j):\n",
        "        print(\"*\",end=\" \")\n",
        "  print()\n",
        "'''\n",
        "#Pattern - 3\n",
        "'''\n",
        "for i in range(4):\n",
        "  for j in range(4):\n",
        "    if (i>=j):\n",
        "      print(\"*\",end=\" \")\n",
        "    else:\n",
        "      print(\"#\",end=\" \")\n",
        "  print()\n",
        "'''\n",
        "#Pattern - 4\n",
        "'''\n",
        "temp = 1\n",
        "for i in range(4):\n",
        "  for j in range(4):\n",
        "    print(f\"{temp}\",end=\" \")\n",
        "  print()\n",
        "  temp = temp + 1\n",
        "'''\n",
        "#Pattern - 5\n",
        "'''\n",
        "for i in range(5):\n",
        "  temp = 1\n",
        "  for j in range(5):\n",
        "    print(f\"{temp}\",end=\" \")\n",
        "    temp = temp + 1\n",
        "  print()\n",
        "'''\n",
        "#Pattern - 6\n",
        "'''\n",
        "for i in range(5):\n",
        "  if i%2 == 0:\n",
        "    for j in range(5):\n",
        "      print(\"1\",end= \" \")\n",
        "  else:\n",
        "    for j in range(5):\n",
        "      print(\"0\",end=\" \")\n",
        "  print()\n",
        "'''\n",
        "#Pattern - 7\n",
        "'''\n",
        "for i in range(5):\n",
        "  for j in range(5):\n",
        "    if j%2 == 0:\n",
        "      print(\"1\",end= \" \")\n",
        "    else:\n",
        "      print(\"0\",end=\" \")\n",
        "  print()\n",
        "'''\n",
        "#Pattern - 8\n",
        "'''\n",
        "for i in range(4):\n",
        "  temp = 1\n",
        "  for j in range(4):\n",
        "    if (i>=j):\n",
        "      print(f\"{temp}\",end=\" \")\n",
        "      temp = temp + 1\n",
        "  print(\"\")\n",
        "'''\n",
        "#Pattern - 9\n",
        "'''\n",
        "for i in range(5):\n",
        "  for j in range(5):\n",
        "    print(f\"{i+1}\",end= \" \")\n",
        "  print()\n",
        "'''\n",
        "#Pattern - 10\n",
        "'''\n",
        "for i in range(5):\n",
        "  for j in range(5):\n",
        "    print(f\"{j+1}\",end= \" \")\n",
        "  print()\n",
        "'''\n",
        "#Pattern - 11\n",
        "'''\n",
        "for i in range(5):\n",
        "  for j in range(5):\n",
        "    if (i == 0 or i==4 or j == 0 or j==4):\n",
        "      print(f\"*\",end=\" \")\n",
        "    else:\n",
        "      print(f\" \",end=\" \")\n",
        "  print()\n",
        "'''\n",
        "#Pattern -12\n",
        "'''\n",
        "r = int(input())\n",
        "c = int(input())\n",
        "for i in range(r):\n",
        "  for j in range(c):\n",
        "    if (i == 0 or i==r-1 or j == 0 or j==c-1):\n",
        "      print(f\"*\",end=\" \")\n",
        "    else:\n",
        "      print(f\" \",end=\" \")\n",
        "  print()\n",
        "'''\n",
        "#Pattern - 13\n",
        "'''\n",
        "temp = 1\n",
        "for i in range(4):\n",
        "  if i%2==0:\n",
        "    for j in range(4):\n",
        "      print(\"*\",end= \" \")\n",
        "  else:\n",
        "    for j in range(4):\n",
        "      print(f\"{temp}\",end= \" \")\n",
        "  temp = temp + 1\n",
        "  print()\n",
        "'''\n",
        "#Example - 1\n",
        "'''\n",
        "for i in range(3):\n",
        "  print(\"Outer\")\n",
        "  for j in range(3):\n",
        "    print(\"Inner\")\n",
        "'''\n",
        "#Example - 2\n",
        "'''\n",
        "for i in range(3):\n",
        "  print(\"Outer\")\n",
        "  temp = 1\n",
        "  while temp <= 3:\n",
        "    print(\"Inner\")\n",
        "    temp = temp + 1\n",
        "'''\n",
        "#Example-  3\n",
        "'''\n",
        "temp1 = 1\n",
        "while temp1 <= 3:\n",
        "  print(\"Outer\")\n",
        "  temp2 = 1\n",
        "  while temp2<=3:\n",
        "    print(\"Inner\")\n",
        "    temp2= temp2 + 1\n",
        "  temp1 = temp1 + 1\n",
        "'''\n",
        "#Example - 4\n",
        "'''\n",
        "temp = 1\n",
        "while temp <= 3:\n",
        "  print(\"Outer\")\n",
        "  for j in range(3):\n",
        "    print(\"Inner\")\n",
        "  temp = temp + 1\n",
        "'''"
      ],
      "metadata": {
        "id": "yAcHVaWW3wvc",
        "colab": {
          "base_uri": "https://localhost:8080/"
        },
        "outputId": "38d22f97-b081-4671-aa55-c9270f094faf"
      },
      "execution_count": 62,
      "outputs": [
        {
          "output_type": "stream",
          "name": "stdout",
          "text": [
            "Outer\n",
            "Inner\n",
            "Inner\n",
            "Inner\n",
            "Outer\n",
            "Inner\n",
            "Inner\n",
            "Inner\n",
            "Outer\n",
            "Inner\n",
            "Inner\n",
            "Inner\n"
          ]
        }
      ]
    },
    {
      "cell_type": "markdown",
      "source": [
        "#**LOOP CONTROLLED STATEMENTS**\n",
        "    Break\n",
        "    Continue\n",
        "    Pass"
      ],
      "metadata": {
        "id": "u6JC7LCE5uSy"
      }
    },
    {
      "cell_type": "code",
      "source": [
        "'''\n",
        "for i in range(10):\n",
        "  if i == 5:\n",
        "    print(\"hello break\")\n",
        "    break\n",
        "  print(i)\n",
        "print(\"end of loop\")\n",
        "'''\n",
        "'''\n",
        "for i in range(10):\n",
        "  if i == 5:\n",
        "    print(\"Hello 1\")\n",
        "    print(\"Hello 2\")\n",
        "    continue\n",
        "    print(\"Hello 3\")\n",
        "    print(\"Hello 4\")\n",
        "  print(i)\n",
        "print(\"Out of loop\")\n",
        "'''"
      ],
      "metadata": {
        "id": "BS2zlHhM55rV",
        "colab": {
          "base_uri": "https://localhost:8080/"
        },
        "outputId": "8d20d13a-f981-4d81-e9b3-6c1f44811ede"
      },
      "execution_count": null,
      "outputs": [
        {
          "output_type": "stream",
          "name": "stdout",
          "text": [
            "0\n",
            "1\n",
            "2\n",
            "3\n",
            "4\n",
            "Hello 1\n",
            "Hello 2\n",
            "6\n",
            "7\n",
            "8\n",
            "9\n",
            "Out of loop\n"
          ]
        }
      ]
    },
    {
      "cell_type": "markdown",
      "source": [
        "#**Clauses**\n",
        "    Else with while\n",
        "    Else with For"
      ],
      "metadata": {
        "id": "ytCNxhC55-gs"
      }
    },
    {
      "cell_type": "code",
      "source": [
        "'''\n",
        "for i in range(5):\n",
        "  if i == 3:\n",
        "    break\n",
        "  print(\"Hello\")\n",
        "else:\n",
        "  print(\"else Part\")\n",
        "'''\n",
        "'''\n",
        "x = 1\n",
        "while x <= 10:\n",
        "  if x == 5:\n",
        "    break\n",
        "  print(x)\n",
        "  x = x + 1\n",
        "else:\n",
        "  print(\"else part\")\n",
        "'''"
      ],
      "metadata": {
        "id": "DVMfcVlf6DZG",
        "colab": {
          "base_uri": "https://localhost:8080/",
          "height": 106
        },
        "outputId": "8b31ebba-ba34-441f-9edc-8b5efcaa5c07"
      },
      "execution_count": null,
      "outputs": [
        {
          "output_type": "error",
          "ename": "SyntaxError",
          "evalue": "incomplete input (<ipython-input-59-d1ff4b5bd0c3>, line 9)",
          "traceback": [
            "\u001b[0;36m  File \u001b[0;32m\"<ipython-input-59-d1ff4b5bd0c3>\"\u001b[0;36m, line \u001b[0;32m9\u001b[0m\n\u001b[0;31m    '''\u001b[0m\n\u001b[0m    ^\u001b[0m\n\u001b[0;31mSyntaxError\u001b[0m\u001b[0;31m:\u001b[0m incomplete input\n"
          ]
        }
      ]
    },
    {
      "cell_type": "markdown",
      "source": [
        "#**Accessing Elements of Lists**\n",
        "    For With Range\n",
        "    For Without Range"
      ],
      "metadata": {
        "id": "8Y_XlF-1g00o"
      }
    },
    {
      "cell_type": "code",
      "source": [],
      "metadata": {
        "id": "c1gHD_1wg64I"
      },
      "execution_count": null,
      "outputs": []
    },
    {
      "cell_type": "markdown",
      "source": [
        "#**Accessing Elements of Tuple**\n",
        "    For With Range\n",
        "    For Without Range"
      ],
      "metadata": {
        "id": "qyJxJTDcg7-S"
      }
    },
    {
      "cell_type": "code",
      "source": [],
      "metadata": {
        "id": "2DYWUYCug_7N"
      },
      "execution_count": null,
      "outputs": []
    },
    {
      "cell_type": "markdown",
      "source": [
        "#**Accessing Elements of Sets**\n",
        "    For Without Range"
      ],
      "metadata": {
        "id": "8tHhRqZ8g_Xo"
      }
    },
    {
      "cell_type": "code",
      "source": [],
      "metadata": {
        "id": "PnfzQ2jlhDU5"
      },
      "execution_count": null,
      "outputs": []
    },
    {
      "cell_type": "markdown",
      "source": [
        "#**Accessing Elements of Dictionary**\n",
        "    For Without Range"
      ],
      "metadata": {
        "id": "ylXz_7Z9hDxp"
      }
    },
    {
      "cell_type": "code",
      "source": [],
      "metadata": {
        "id": "C7DFoCf6hHaq"
      },
      "execution_count": null,
      "outputs": []
    }
  ]
}