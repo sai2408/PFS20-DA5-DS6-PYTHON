{
  "nbformat": 4,
  "nbformat_minor": 0,
  "metadata": {
    "colab": {
      "provenance": []
    },
    "kernelspec": {
      "name": "python3",
      "display_name": "Python 3"
    },
    "language_info": {
      "name": "python"
    }
  },
  "cells": [
    {
      "cell_type": "markdown",
      "source": [
        "#**Generators**\n",
        "    In Python, Generators are special functions that acts as iterators\n",
        "    They allows us to create a sequence of values on demand, rather than storing the\n",
        "    entire sequence in a memory at once.\n",
        "#**Generator Functions**\n",
        "    We can define generator function using the def keyword, similar to regular function.\n",
        "    Instead of using return keyword to produce a single value, we use yield keyword to\n",
        "    generate sequence of values one at a time.\n",
        "#**Yield Statement**\n",
        "    Yield statement pauses the execution of the generator function and returns the current value.\n",
        "    When we iterate over the generator object agin, the function resumes execution from the point\n",
        "    where it left off, calculating the next value.\n",
        "    The process continues until there are no more values to yield, at which point a StopIteraion\n",
        "    Exception is raised."
      ],
      "metadata": {
        "id": "aU2sr7Ii2UxZ"
      }
    },
    {
      "cell_type": "code",
      "execution_count": null,
      "metadata": {
        "id": "lQ02IAdVlqnb",
        "colab": {
          "base_uri": "https://localhost:8080/"
        },
        "outputId": "9ae8cd31-da1a-4757-dade-30a2f6531787"
      },
      "outputs": [
        {
          "output_type": "stream",
          "name": "stdout",
          "text": [
            "[1, 2, 3, 4, 5]\n",
            "<generator object <genexpr> at 0x7aa9e829e0c0>\n"
          ]
        }
      ],
      "source": [
        "'''\n",
        "def hello(n):\n",
        "  for i in range(2,n+1,2):\n",
        "    yield i\n",
        "x = hello(10)\n",
        "print(x)\n",
        "print(next(x))\n",
        "print(next(x))\n",
        "print(next(x))\n",
        "print(next(x))\n",
        "print(next(x))\n",
        "print(next(x))\n",
        "'''\n",
        "'''\n",
        "def hello():\n",
        "  x = 2\n",
        "  while True:\n",
        "    yield x\n",
        "    x = x + 2\n",
        "res = hello()\n",
        "'''\n",
        "'''\n",
        "print(res)\n",
        "print(next(res))\n",
        "print(next(res))\n",
        "print(next(res))\n",
        "'''\n",
        "'''\n",
        "for i in range(50):\n",
        "  print(next(res))\n",
        "'''\n",
        "'''\n",
        "def hello(n):\n",
        "  for i in range(2,n+1,2):\n",
        "    yield i\n",
        "x = hello(10)\n",
        "print(x)\n",
        "print(next(x))\n",
        "print(next(x))\n",
        "print(next(x))\n",
        "print(next(x))\n",
        "print(next(x))\n",
        "'''\n",
        "'''\n",
        "def hello():\n",
        "  x = 1111\n",
        "  while True:\n",
        "    yield x\n",
        "    x = x + 1\n",
        "res = hello()\n",
        "u1 = next(res)\n",
        "print(u1)\n",
        "u2 = next(res)\n",
        "print(u2)\n",
        "'''\n",
        "res1 = [i for i in range(1,6)]\n",
        "print(res1)\n",
        "gen1 = (i for i in range(1,6))\n",
        "print(gen1)"
      ]
    },
    {
      "cell_type": "markdown",
      "source": [
        "\n",
        "#**Next() in Generator**\n",
        "    It is a function used to retrive the next value produced by the generator, advancing its execution\n",
        "    to the next yield statement."
      ],
      "metadata": {
        "id": "ha8vIAsg3uc7"
      }
    },
    {
      "cell_type": "code",
      "source": [
        "'''\n",
        "gen1 = (i for i in range(1,6))\n",
        "print(gen1)\n",
        "print(next(gen1))\n",
        "print(next(gen1))\n",
        "print(next(gen1))\n",
        "print(next(gen1))\n",
        "print(next(gen1))\n",
        "'''\n",
        "'''\n",
        "def hello():\n",
        "  yield 10\n",
        "  yield \"Hello\"\n",
        "  yield 29.99\n",
        "res = hello()\n",
        "print(res)\n",
        "print(next(res))\n",
        "print(next(res))\n",
        "print(next(res))\n",
        "'''\n",
        "#Problem - 1\n",
        "#Approach - 1\n",
        "'''\n",
        "a = 0\n",
        "b = 1\n",
        "n = 10\n",
        "print(a)\n",
        "print(b)\n",
        "n = n - 2\n",
        "for i in range(n):\n",
        "  a,b = b,a+b\n",
        "  print(b)\n",
        "'''\n",
        "#Approach - 2\n",
        "'''\n",
        "a = 0\n",
        "b = 1\n",
        "n = 10\n",
        "while n >= 1:\n",
        "  print(a)\n",
        "  a,b = b,a+b\n",
        "  n = n - 1\n",
        "'''\n",
        "#Approach - 3\n",
        "'''\n",
        "def hello():\n",
        "  a,b = 0,1\n",
        "  while True:\n",
        "    yield a\n",
        "    a,b = b,a+b\n",
        "\n",
        "res = hello()\n",
        "n = 10\n",
        "for i in range(n):\n",
        "  print(next(res))\n",
        "'''\n",
        "'''\n",
        "print(next(res))\n",
        "print(next(res))\n",
        "print(next(res))\n",
        "print(next(res))\n",
        "print(next(res))\n",
        "print(next(res))\n",
        "'''\n",
        "#Problem - 3\n",
        "arr = [2,5,3,4,87,24,67]\n",
        "def hello(x):\n",
        "  for i in x:\n",
        "    if i%2==0:\n",
        "      yield i\n",
        "res = hello(arr)\n",
        "print(next(res))\n",
        "print(next(res))\n",
        "print(next(res))\n"
      ],
      "metadata": {
        "id": "XLiet-Je39Hs",
        "colab": {
          "base_uri": "https://localhost:8080/"
        },
        "outputId": "8b797e15-d0cb-4bb1-aa60-34a2e0a0bf51"
      },
      "execution_count": null,
      "outputs": [
        {
          "output_type": "stream",
          "name": "stdout",
          "text": [
            "2\n",
            "4\n",
            "24\n"
          ]
        }
      ]
    },
    {
      "cell_type": "markdown",
      "source": [
        "#**Modules in Python**\n",
        "    A module is a Python object with arbitrarily named attributes that we can bind and reference.\n",
        "    Modules are Python .py files that consist of Python code. Any Python file can be referenced as a module.\n",
        "    A module can define functions, classes and variablest  hat can then be utilized in other Python programs.\n",
        "#**Types of Modules**\n",
        "    1. Built in Modules\n",
        "    2. User Defined Modules\n",
        "#**Syntax to Access Properties**\n",
        "    1. module_name.variable_name\n",
        "    2. modulen_ame.function_name(parameters)\n",
        "#**Importing Types**\n",
        "    1. import module_name\n",
        "    2.  module_name import *\n",
        "    3. from module_name import properties_required\n"
      ],
      "metadata": {
        "id": "rJS096H539iO"
      }
    },
    {
      "cell_type": "code",
      "source": [
        "import math"
      ],
      "metadata": {
        "id": "YSSnnPso4ks8"
      },
      "execution_count": 1,
      "outputs": []
    },
    {
      "cell_type": "code",
      "source": [
        "pip install flask"
      ],
      "metadata": {
        "colab": {
          "base_uri": "https://localhost:8080/"
        },
        "id": "zO4eUL769et2",
        "outputId": "9ab16467-dc9c-4493-a4af-7e7ecbccef36"
      },
      "execution_count": 2,
      "outputs": [
        {
          "output_type": "stream",
          "name": "stdout",
          "text": [
            "Requirement already satisfied: flask in /usr/local/lib/python3.11/dist-packages (3.1.0)\n",
            "Requirement already satisfied: Werkzeug>=3.1 in /usr/local/lib/python3.11/dist-packages (from flask) (3.1.3)\n",
            "Requirement already satisfied: Jinja2>=3.1.2 in /usr/local/lib/python3.11/dist-packages (from flask) (3.1.6)\n",
            "Requirement already satisfied: itsdangerous>=2.2 in /usr/local/lib/python3.11/dist-packages (from flask) (2.2.0)\n",
            "Requirement already satisfied: click>=8.1.3 in /usr/local/lib/python3.11/dist-packages (from flask) (8.1.8)\n",
            "Requirement already satisfied: blinker>=1.9 in /usr/local/lib/python3.11/dist-packages (from flask) (1.9.0)\n",
            "Requirement already satisfied: MarkupSafe>=2.0 in /usr/local/lib/python3.11/dist-packages (from Jinja2>=3.1.2->flask) (3.0.2)\n"
          ]
        }
      ]
    },
    {
      "cell_type": "code",
      "source": [
        "import flask"
      ],
      "metadata": {
        "id": "VTwqPR8k96IW"
      },
      "execution_count": 3,
      "outputs": []
    },
    {
      "cell_type": "code",
      "source": [
        "print(math.pi)"
      ],
      "metadata": {
        "colab": {
          "base_uri": "https://localhost:8080/"
        },
        "id": "uHX1gllj-NGJ",
        "outputId": "e7fbe802-3636-435c-8d96-b47252671e39"
      },
      "execution_count": 4,
      "outputs": [
        {
          "output_type": "stream",
          "name": "stdout",
          "text": [
            "3.141592653589793\n"
          ]
        }
      ]
    },
    {
      "cell_type": "code",
      "source": [
        "print(math.factorial(5))\n",
        "print(math.log(10))"
      ],
      "metadata": {
        "colab": {
          "base_uri": "https://localhost:8080/"
        },
        "id": "s7h2VQW0-YCZ",
        "outputId": "0d6a8b94-860c-4307-a1f2-e6179f11516c"
      },
      "execution_count": 21,
      "outputs": [
        {
          "output_type": "stream",
          "name": "stdout",
          "text": [
            "120\n",
            "2.302585092994046\n"
          ]
        }
      ]
    },
    {
      "cell_type": "code",
      "source": [
        "import random"
      ],
      "metadata": {
        "id": "HNwtaSGC-_YD"
      },
      "execution_count": 8,
      "outputs": []
    },
    {
      "cell_type": "code",
      "source": [
        "print(random.randint(1,15))\n",
        "print(random.randint(1111,9999))"
      ],
      "metadata": {
        "colab": {
          "base_uri": "https://localhost:8080/"
        },
        "id": "Qqt96vN7-ypo",
        "outputId": "ec5011ed-0ef4-4faf-c89b-3020ae0ccb62"
      },
      "execution_count": 20,
      "outputs": [
        {
          "output_type": "stream",
          "name": "stdout",
          "text": [
            "3\n",
            "9751\n"
          ]
        }
      ]
    },
    {
      "cell_type": "code",
      "source": [
        "import abc\n",
        "print(abc.a)"
      ],
      "metadata": {
        "colab": {
          "base_uri": "https://localhost:8080/",
          "height": 159
        },
        "id": "gzH74PqR_cL-",
        "outputId": "ea494f23-150c-4199-cf31-ec27e80a2f0d"
      },
      "execution_count": 26,
      "outputs": [
        {
          "output_type": "error",
          "ename": "AttributeError",
          "evalue": "module 'abc' has no attribute 'a'",
          "traceback": [
            "\u001b[0;31m---------------------------------------------------------------------------\u001b[0m",
            "\u001b[0;31mAttributeError\u001b[0m                            Traceback (most recent call last)",
            "\u001b[0;32m<ipython-input-26-539e7c4ce330>\u001b[0m in \u001b[0;36m<cell line: 0>\u001b[0;34m()\u001b[0m\n\u001b[1;32m      1\u001b[0m \u001b[0;32mimport\u001b[0m \u001b[0mabc\u001b[0m\u001b[0;34m\u001b[0m\u001b[0;34m\u001b[0m\u001b[0m\n\u001b[0;32m----> 2\u001b[0;31m \u001b[0mprint\u001b[0m\u001b[0;34m(\u001b[0m\u001b[0mabc\u001b[0m\u001b[0;34m.\u001b[0m\u001b[0ma\u001b[0m\u001b[0;34m)\u001b[0m\u001b[0;34m\u001b[0m\u001b[0;34m\u001b[0m\u001b[0m\n\u001b[0m",
            "\u001b[0;31mAttributeError\u001b[0m: module 'abc' has no attribute 'a'"
          ]
        }
      ]
    }
  ]
}