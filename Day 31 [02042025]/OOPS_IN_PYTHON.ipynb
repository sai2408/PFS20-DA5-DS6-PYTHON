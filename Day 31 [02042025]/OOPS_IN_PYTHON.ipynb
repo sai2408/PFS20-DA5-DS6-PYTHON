{
  "nbformat": 4,
  "nbformat_minor": 0,
  "metadata": {
    "colab": {
      "provenance": []
    },
    "kernelspec": {
      "name": "python3",
      "display_name": "Python 3"
    },
    "language_info": {
      "name": "python"
    }
  },
  "cells": [
    {
      "cell_type": "markdown",
      "source": [
        "#OOPS IN PYTHON\n",
        "    1. Class\n",
        "    2. Object\n",
        "    3. Attributes\n",
        "    4. Methods\n",
        "    5. Constructors"
      ],
      "metadata": {
        "id": "ogHMnCf9J05C"
      }
    },
    {
      "cell_type": "code",
      "source": [
        "a = 30\n",
        "class abc:\n",
        "  a = 10\n",
        "class xy:\n",
        "  a = 20\n",
        "print(a)\n",
        "print(abc.a)\n",
        "print(xy.a)"
      ],
      "metadata": {
        "colab": {
          "base_uri": "https://localhost:8080/"
        },
        "id": "YsKr28KtlYOL",
        "outputId": "4508a54b-d81e-468c-f612-8a35601246bd"
      },
      "execution_count": null,
      "outputs": [
        {
          "output_type": "stream",
          "name": "stdout",
          "text": [
            "30\n",
            "10\n",
            "20\n"
          ]
        }
      ]
    },
    {
      "cell_type": "code",
      "source": [
        "class hello:\n",
        "  a = 10\n",
        "  b = 20\n",
        "class hi:\n",
        "  a = 10\n",
        "  b = 40\n",
        "ob1 = hello()\n",
        "print(ob1.a)\n",
        "print(ob1.b)\n",
        "\n",
        "ob2 = hi()\n",
        "print(ob2.a)\n",
        "print(ob2.b)"
      ],
      "metadata": {
        "colab": {
          "base_uri": "https://localhost:8080/"
        },
        "id": "L1vrJCKPl4jU",
        "outputId": "7c00327a-6cf1-4b76-a9a7-6642d2b7c54e"
      },
      "execution_count": null,
      "outputs": [
        {
          "output_type": "stream",
          "name": "stdout",
          "text": [
            "10\n",
            "20\n",
            "10\n",
            "40\n"
          ]
        }
      ]
    },
    {
      "cell_type": "code",
      "source": [
        "class hello:\n",
        "  a = 1000\n",
        "  def abc(self):\n",
        "    print(\"Hello Class\")\n",
        "  def xyz(self,a,b):\n",
        "    print(a+b)\n",
        "ob = hello()\n",
        "ob.abc()\n",
        "ob.xyz(10,20)\n",
        "print(ob.a)"
      ],
      "metadata": {
        "colab": {
          "base_uri": "https://localhost:8080/"
        },
        "id": "neKcj89XmNb0",
        "outputId": "7335d179-f699-48cc-c8f8-caf9bc3321b1"
      },
      "execution_count": null,
      "outputs": [
        {
          "output_type": "stream",
          "name": "stdout",
          "text": [
            "Hello Class\n",
            "30\n",
            "1000\n"
          ]
        }
      ]
    },
    {
      "cell_type": "code",
      "source": [
        "'''\n",
        "class Rectangle:\n",
        "  def perimeter(self,l,b):\n",
        "    print(2*(l+b))\n",
        "  def area(self,l,b):\n",
        "    print(l*b)\n",
        "r1 = Rectangle()\n",
        "r1.perimeter(10,20)\n",
        "r1.area(10,20)\n",
        "'''\n",
        "'''\n",
        "class Rectangle:\n",
        "  def __init__(self,l,b):\n",
        "    self.l = l\n",
        "    self.b = b\n",
        "  def perimeter(self):\n",
        "    print(2*(self.l+self.b))\n",
        "  def area(self):\n",
        "    print(self.l*self.b)\n",
        "r1 = Rectangle(10,20)\n",
        "r1.perimeter()\n",
        "r1.area()\n",
        "\n",
        "r2 = Rectangle(2,5)\n",
        "r2.perimeter()\n",
        "r2.area()\n",
        "'''\n"
      ],
      "metadata": {
        "colab": {
          "base_uri": "https://localhost:8080/"
        },
        "id": "BvoGlsY9myIr",
        "outputId": "abe9564e-3c48-4dea-a1d5-24c863282184"
      },
      "execution_count": null,
      "outputs": [
        {
          "output_type": "stream",
          "name": "stdout",
          "text": [
            "60\n",
            "200\n",
            "14\n",
            "10\n"
          ]
        }
      ]
    },
    {
      "cell_type": "code",
      "source": [
        "class sample:\n",
        "  a = 10\n",
        "  b = 20\n",
        "  def hello1(self):\n",
        "    print(\"Hello All\")\n",
        "  def hello2(self):\n",
        "    print(\"Hello All 2\")\n",
        "ob = sample()\n",
        "print(ob.a)\n",
        "print(ob.b)\n",
        "ob.hello1()\n",
        "ob.hello2()"
      ],
      "metadata": {
        "colab": {
          "base_uri": "https://localhost:8080/"
        },
        "id": "12fg4T7hrWBo",
        "outputId": "62836ae8-18c7-48f7-9fee-88a48dabdf86"
      },
      "execution_count": null,
      "outputs": [
        {
          "output_type": "stream",
          "name": "stdout",
          "text": [
            "10\n",
            "20\n",
            "Hello All\n",
            "Hello All 2\n"
          ]
        }
      ]
    },
    {
      "cell_type": "code",
      "source": [
        "class Codegnan:\n",
        "  def __init__(self,a,b):\n",
        "    self.a = a\n",
        "    self.b = b\n",
        "  def hello1(self):\n",
        "    print(self.a + self.b)\n",
        "  def hello2(self):\n",
        "    return self.a * self.b\n",
        "ob1 = Codegnan(10,20)\n",
        "ob1.hello1()\n",
        "print(ob1.hello2())"
      ],
      "metadata": {
        "colab": {
          "base_uri": "https://localhost:8080/"
        },
        "id": "xnGcLvdPubrk",
        "outputId": "2c5763db-14d8-42ee-e710-a9eae56e7fa6"
      },
      "execution_count": null,
      "outputs": [
        {
          "output_type": "stream",
          "name": "stdout",
          "text": [
            "30\n",
            "200\n"
          ]
        }
      ]
    },
    {
      "cell_type": "markdown",
      "source": [
        "#Access Specifiers\n",
        "    1. Public\n",
        "    2. Private"
      ],
      "metadata": {
        "id": "OsTk6AipKL8_"
      }
    },
    {
      "cell_type": "code",
      "source": [
        "#Public\n",
        "'''\n",
        "class hello:\n",
        "  def __init__(self):\n",
        "    self.a = 10\n",
        "  def hello1(self):\n",
        "    self.a = 100\n",
        "  def hello2(self):\n",
        "    print(self.a)\n",
        "ob1 = hello()\n",
        "ob1.hello1()\n",
        "ob1.hello2()\n",
        "ob1.a = 1000\n",
        "ob1.hello2()\n",
        "'''\n",
        "#Private\n",
        "'''\n",
        "class hello:\n",
        "  def __init__(self):\n",
        "    self.__a = 10\n",
        "  def hello1(self):\n",
        "    self.__a = 100\n",
        "  def hello2(self):\n",
        "    print(self.__a)\n",
        "ob2 = hello()\n",
        "ob2.hello1()\n",
        "ob2.hello2()\n",
        "ob2.__a = 1000\n",
        "ob2.hello2()\n",
        "'''\n",
        "#Encapsulation\n",
        "'''\n",
        "class hello:\n",
        "  def __init__(self,a):\n",
        "    self.a = a\n",
        "ob1 = hello(10)\n",
        "print(ob1.a)\n",
        "ob2 = hello(20)\n",
        "print(ob2.a)\n",
        "'''\n",
        "\n",
        "\n"
      ],
      "metadata": {
        "colab": {
          "base_uri": "https://localhost:8080/"
        },
        "id": "j5vNZSfPq0z8",
        "outputId": "ee01cc6b-b684-4e8a-a191-01629725bec4"
      },
      "execution_count": null,
      "outputs": [
        {
          "output_type": "stream",
          "name": "stdout",
          "text": [
            "10\n",
            "20\n"
          ]
        }
      ]
    },
    {
      "cell_type": "markdown",
      "source": [
        "#4 PILLERS OF OOPS\n",
        "    1. Encapsulation\n",
        "    2. Inheritance\n",
        "    3. Polymorphism\n",
        "    3. Abstraction"
      ],
      "metadata": {
        "id": "Ia_IMFSxKCnw"
      }
    },
    {
      "cell_type": "markdown",
      "source": [
        "#1. Encapsulation\n",
        "    Encapsulation is one of the core concepts of Object-Oriented Programming (OOP).\n",
        "    It is the mechanism of restricting direct access to some components of an object while still allowing controlled interaction.\n",
        "    In Python, encapsulation helps in data hiding and ensures that the internal state of an object is not directly modified from outside the class."
      ],
      "metadata": {
        "id": "TQxczYS9LbSr"
      }
    },
    {
      "cell_type": "markdown",
      "source": [
        "#2. Inheritance\n",
        "    Inheritance is a fundamental concept of Object-Oriented Programming (OOP) that allows a child class (or subclass) to inherit properties\n",
        "    and behaviors (methods) from a parent class (or superclass). This promotes code reusability and\n",
        "    establishes a hierarchical relationship between classes.\n",
        "\n",
        "    1. Single Inheritance\n",
        "        One child class inherits from one parent class.\n",
        "    2. Multiple Inheritance\n",
        "        A child class inherits from more than one parent class.\n",
        "    3. Multi Level Inheritance\n",
        "        A child class inherits from a parent class, and another class inherits from that child class.\n",
        "    4. Hierarchical Inheritance\n",
        "        Multiple child classes inherit from a single parent class.\n",
        "    5. Hybrid Inheritance\n",
        "        Combination of two or more types of inheritance."
      ],
      "metadata": {
        "id": "KEhv_M50Kyqv"
      }
    },
    {
      "cell_type": "markdown",
      "source": [
        "#Super Method\n",
        "    The super() function in Python is used to give access to methods and properties of a parent (or superclass) from a child (or subclass).\n",
        "    It is commonly used in inheritance to call methods from the parent class without directly referring to the parent class name."
      ],
      "metadata": {
        "id": "xtWsj_MqLJWt"
      }
    },
    {
      "cell_type": "code",
      "source": [
        "#ExMple  - 1\n",
        "'''\n",
        "class a:\n",
        "  def hello(self):\n",
        "    print(\"Class A\")\n",
        "class b(a):\n",
        "  def __init__(self):\n",
        "    super().hello()\n",
        "  def hello(self):\n",
        "    print(\"Class B\")\n",
        "ob = b()\n",
        "ob.hello()\n",
        "'''\n",
        "#Example - 2\n",
        "'''\n",
        "class a:\n",
        "  def __init__(self):\n",
        "    print(\"A Constructor\")\n",
        "class b(a):\n",
        "  def __init__(self):\n",
        "    super().__init__()\n",
        "    print(\"B Constructor\")\n",
        "ob = b()\n",
        "'''\n",
        "#Example - 3\n",
        "'''\n",
        "class a:\n",
        "  def hello(self):\n",
        "    print(\"Hello 1\")\n",
        "class b(a):\n",
        "  def hello(self):\n",
        "    super().hello()\n",
        "    print(\"Hello 2\")\n",
        "ob = b()\n",
        "ob.hello()\n",
        "\n",
        "ob1 = a()\n",
        "ob1.hello()\n",
        "'''\n",
        "#Example - 4\n",
        "'''\n",
        "class a:\n",
        "  def hello1(self):\n",
        "    print(\"Hello 1\")\n",
        "  def hello2(self):\n",
        "    print(\"Hello 2\")\n",
        "class b(a):\n",
        "  def hello3(self):\n",
        "    print(\"Hello 3\")\n",
        "    super().hello1()\n",
        "  def hello4(self):\n",
        "    print(\"HEllo 4\")\n",
        "ob = b()\n",
        "ob.hello3()\n",
        "'''\n",
        "#Multiple\n",
        "'''\n",
        "class class1:\n",
        "  def hello1(self):\n",
        "    print(\"I am from class 1\")\n",
        "  def hello(self):\n",
        "    print(\"I am hello from class 1\")\n",
        "class class2:\n",
        "  def hello2(self):\n",
        "    print(\"I am from class 2\")\n",
        "  def hello(self):\n",
        "    print(\"I am hello from class 2\")\n",
        "class class3(class1,class2):\n",
        "  def hello3(self):\n",
        "    print(\"I am from class 3\")\n",
        "obj = class3()\n",
        "obj.hello3()\n",
        "obj.hello2()\n",
        "obj.hello1()\n",
        "obj.hello()\n",
        "'''\n",
        "#Hierarchical\n",
        "'''\n",
        "class head:\n",
        "  def brand(self):\n",
        "    print(\"codegnan\")\n",
        "class batch1(head):\n",
        "  def name(self):\n",
        "    print(\"PFS 20\")\n",
        "class batch2(head):\n",
        "  def name(self):\n",
        "    print(\"DA 5\")\n",
        "ob1 = batch2()\n",
        "ob1.name()\n",
        "ob1.brand()\n",
        "\n",
        "ob2 = batch1()\n",
        "ob2.name()\n",
        "ob1.brand()\n",
        "'''\n",
        "#Multi Level\n",
        "'''\n",
        "class school:\n",
        "  def name1(self):\n",
        "    print(\"School 1\")\n",
        "class college(school):\n",
        "  def name2(self):\n",
        "    print(\"College 1\")\n",
        "class university(college):\n",
        "  def name3(self):\n",
        "    print(\"Universiy 1\")\n",
        "ob = university()\n",
        "ob.name3()\n",
        "ob.name2()\n",
        "ob.name1()\n",
        "\n",
        "ob1 = college()\n",
        "ob1.name2()\n",
        "ob1.name1()\n",
        "\n",
        "ob3 = school()\n",
        "ob3.name1()\n",
        "'''\n",
        "#Hybrid\n",
        "'''\n",
        "class a:\n",
        "  def hello1(self):\n",
        "    print(\"a\")\n",
        "class b(a):\n",
        "  def hello2(self):\n",
        "    print(\"b\")\n",
        "class c(a):\n",
        "  def hello3(self):\n",
        "    print(\"c\")\n",
        "class d(c):\n",
        "  def hello4(self):\n",
        "    print(d)\n",
        "class e(d):\n",
        "  def hello5(self):\n",
        "    print(e)\n",
        "'''\n",
        "#MRO\n",
        "'''\n",
        "class A:\n",
        "  def hello(self):\n",
        "    print(\"A\")\n",
        "class B(A):\n",
        "  def hello(self):\n",
        "    print(\"B\")\n",
        "class c(B):\n",
        "  def hello(self):\n",
        "    print(\"C\")\n",
        "ob  = c()\n",
        "ob.hello()\n",
        "print(c.mro())\n",
        "'''\n",
        "class A:\n",
        "  pass\n",
        "class B:\n",
        "  pass\n",
        "class C(B,A):\n",
        "  pass\n",
        "print(C.mro())"
      ],
      "metadata": {
        "colab": {
          "base_uri": "https://localhost:8080/"
        },
        "id": "tjLlIwI32Gkn",
        "outputId": "0c4e20c3-99ce-488b-bd01-3a0ba8f6c757"
      },
      "execution_count": null,
      "outputs": [
        {
          "output_type": "stream",
          "name": "stdout",
          "text": [
            "[<class '__main__.C'>, <class '__main__.B'>, <class '__main__.A'>, <class 'object'>]\n"
          ]
        }
      ]
    },
    {
      "cell_type": "markdown",
      "source": [
        "#3. Polymorphism\n",
        "    Polymorphism is a core concept of Object-Oriented Programming (OOP) that allows objects of different classes to be treated\n",
        "    as objects of a common super class.\n",
        "    It enables a single function, method, or operator to behave differently based on the object it is acting upon.\n",
        "\n",
        "    The word polymorphism comes from the Greek words \"poly\" (many) and \"morph\" (forms), meaning \"many forms\".\n",
        "\n",
        "    Types of Polymorphism\n",
        "    1. Duck Typing (Dynamic Polymorphism)\n",
        "        In Python, if an object behaves like a particular type, it is that type — \"If it walks like a duck and quacks like a duck, it's a duck.\"\n",
        "\n",
        "    2. Method Overriding\n",
        "        In inheritance, a child class can provide a specific implementation of a method already defined in its parent class.\n",
        "\n",
        "    3. Method Overloading\n",
        "        Python doesn't support traditional method overloading. However, it can be achieved using default arguments or *args and **args.\n",
        "\n",
        "    4. Operator Overloading\n",
        "        Python allows operators to have different meanings based on the context, by using magic methods (dunder methods).\n"
      ],
      "metadata": {
        "id": "uX0rzRvALLj2"
      }
    },
    {
      "cell_type": "code",
      "source": [
        "#Method Overloading\n",
        "'''\n",
        "class abc:\n",
        "  def hello(self,a=0,b=0,c=0):\n",
        "    print(a+b+c)\n",
        "ob = abc()\n",
        "ob.hello(10,20)\n",
        "ob.hello(10,20,30)\n",
        "'''\n",
        "'''\n",
        "class abc:\n",
        "  def hello(self,*x):\n",
        "    res = 0\n",
        "    for i in x:\n",
        "      res = res + i\n",
        "    print(res)\n",
        "ob1 = abc()\n",
        "ob1.hello(10,20)\n",
        "ob1.hello(1,2,3,4,5)\n",
        "'''\n",
        "#Method Overriding\n",
        "'''\n",
        "class hello1:\n",
        "  def abc(self):\n",
        "    print(\"Hello 1 class\")\n",
        "class hello2(hello1):\n",
        "  def abc(self):\n",
        "    super().abc()\n",
        "    print(\"Hello 2 class\")\n",
        "ob = hello2()\n",
        "ob.abc()\n",
        "'''\n",
        "#Operator Overloading\n",
        "'''\n",
        "class hello:\n",
        "  def hello1(self,a,b):\n",
        "    print(a+b)\n",
        "ob = hello()\n",
        "ob.hello1(10,20)\n",
        "ob.hello1(\"10\",\"20\")\n",
        "'''\n",
        "#Abstraction\n",
        "'''\n",
        "from abc import ABC,abstractmethod\n",
        "class shape(ABC):\n",
        "  @abstractmethod\n",
        "  def area(self):\n",
        "    pass\n",
        "  @abstractmethod\n",
        "  def perimeter(self):\n",
        "    pass\n",
        "class rectangle(shape):\n",
        "  def __init__(self,a,b):\n",
        "    self.a = a\n",
        "    self.b = b\n",
        "  def area(self):\n",
        "    print(self.a * self.b)\n",
        "  def perimeter(self):\n",
        "    print(2 * (self.a + self.b))\n",
        "ob = rectangle(10,20)\n",
        "ob.area()\n",
        "ob.perimeter()\n",
        "'''\n",
        "from abc import ABC,abstractmethod\n",
        "class shape(ABC):\n",
        "  @abstractmethod\n",
        "  def area(self):\n",
        "    pass\n",
        "  @abstractmethod\n",
        "  def perimeter(self):\n",
        "    pass\n",
        "  def display(self):\n",
        "    print(\"I am shape\")\n",
        "class rectangle(shape):\n",
        "  def __init__(self,a,b):\n",
        "    self.a = a\n",
        "    self.b = b\n",
        "  def area(self):\n",
        "    print(self.a * self.b)\n",
        "  def perimeter(self):\n",
        "    print(2 * (self.a + self.b))\n",
        "ob = rectangle(10,20)\n",
        "ob.area()\n",
        "ob.perimeter()\n",
        "ob.display()"
      ],
      "metadata": {
        "colab": {
          "base_uri": "https://localhost:8080/"
        },
        "id": "hQVe-4CZImI9",
        "outputId": "ace645e7-4b43-41ce-fd3d-4264da84d780"
      },
      "execution_count": null,
      "outputs": [
        {
          "output_type": "stream",
          "name": "stdout",
          "text": [
            "200\n",
            "60\n",
            "I am shape\n"
          ]
        }
      ]
    },
    {
      "cell_type": "code",
      "source": [],
      "metadata": {
        "id": "IW_ZyvsSTi5I"
      },
      "execution_count": null,
      "outputs": []
    },
    {
      "cell_type": "markdown",
      "source": [
        "#4. Abstraction"
      ],
      "metadata": {
        "id": "NsQun5QcN83t"
      }
    },
    {
      "cell_type": "code",
      "source": [],
      "metadata": {
        "id": "6IlAe5ekM8ma"
      },
      "execution_count": null,
      "outputs": []
    },
    {
      "cell_type": "code",
      "source": [],
      "metadata": {
        "id": "eiB1k9DZODB5"
      },
      "execution_count": null,
      "outputs": []
    },
    {
      "cell_type": "markdown",
      "source": [
        "#Exception Handling\n",
        "    Exception Handling in Python is a mechanism to gracefully handle runtime errors, ensuring that the program doesn't crash unexpectedly.\n",
        "    It allows you to detect errors, handle them properly, and continue program execution.\n",
        "\n",
        "    An exception is an event that occurs during the execution of a program that disrupts its normal flow. Common examples include\n",
        "    ZeroDivisionError, FileNotFoundError, and ValueError.\n",
        "\n",
        "    Key Points:\n",
        "        1. Try [ Code that might raise an exception. ]\n",
        "        2. Except [ Handles the exception ]\n",
        "        3. Else [ Executes if no exceptions occur ]\n",
        "        4. Finally [ Executes code regardless of an exception ]"
      ],
      "metadata": {
        "id": "V5DQWXKU0-Vy"
      }
    },
    {
      "cell_type": "code",
      "source": [
        "try:\n",
        "  pass\n",
        "except:\n",
        "  pass\n",
        "else:\n",
        "  pass\n",
        "finally:\n",
        "  pass"
      ],
      "metadata": {
        "id": "PtIImlX0Phd4"
      },
      "execution_count": 2,
      "outputs": []
    },
    {
      "cell_type": "code",
      "source": [
        "try:\n",
        "  pass\n",
        "except:\n",
        "  pass\n",
        ""
      ],
      "metadata": {
        "id": "lULzfEF4v0pd"
      },
      "execution_count": 3,
      "outputs": []
    },
    {
      "cell_type": "code",
      "source": [
        "try:\n",
        "  pass\n",
        "except:\n",
        "  pass\n",
        "else:\n",
        "  pass\n"
      ],
      "metadata": {
        "id": "CN0Yh3ajv6Ah"
      },
      "execution_count": 7,
      "outputs": []
    },
    {
      "cell_type": "code",
      "source": [
        "try:\n",
        "  pass\n",
        "except:\n",
        "  pass\n",
        "finally:\n",
        "  pass\n"
      ],
      "metadata": {
        "id": "Gal07NSXwEXV"
      },
      "execution_count": 8,
      "outputs": []
    },
    {
      "cell_type": "code",
      "source": [
        "try:\n",
        "  pass\n",
        "except:\n",
        "  pass\n",
        "else:\n",
        "  pass\n",
        "finally:\n",
        "  print(\"Hello World\")"
      ],
      "metadata": {
        "colab": {
          "base_uri": "https://localhost:8080/"
        },
        "id": "_jBfVO3cwQSK",
        "outputId": "ba1d0133-8eb4-4266-c73e-b88461d9ca79"
      },
      "execution_count": 9,
      "outputs": [
        {
          "output_type": "stream",
          "name": "stdout",
          "text": [
            "Hello World\n"
          ]
        }
      ]
    },
    {
      "cell_type": "code",
      "source": [
        "try:\n",
        "  print(\"Hello World\")\n",
        "except:\n",
        "  print(\"Error Occured\")\n",
        "else:\n",
        "  print(\"No Error Occured\")\n",
        "finally:\n",
        "  print(\"Finally Block\")"
      ],
      "metadata": {
        "colab": {
          "base_uri": "https://localhost:8080/"
        },
        "id": "2J1mXMHNwlAj",
        "outputId": "9df6bcd6-d289-458f-8818-8067d3702377"
      },
      "execution_count": 13,
      "outputs": [
        {
          "output_type": "stream",
          "name": "stdout",
          "text": [
            "Hello World\n",
            "No Error Occured\n",
            "Finally Block\n"
          ]
        }
      ]
    },
    {
      "cell_type": "code",
      "source": [
        "a = 10\n",
        "b = 0\n",
        "print(a/b)"
      ],
      "metadata": {
        "colab": {
          "base_uri": "https://localhost:8080/",
          "height": 176
        },
        "id": "_ZBO7g3bwxxN",
        "outputId": "173163a6-15ba-433b-e8ee-a90eb7dcefce"
      },
      "execution_count": 16,
      "outputs": [
        {
          "output_type": "error",
          "ename": "ZeroDivisionError",
          "evalue": "division by zero",
          "traceback": [
            "\u001b[0;31m---------------------------------------------------------------------------\u001b[0m",
            "\u001b[0;31mZeroDivisionError\u001b[0m                         Traceback (most recent call last)",
            "\u001b[0;32m<ipython-input-16-0ca4df5e1f05>\u001b[0m in \u001b[0;36m<cell line: 0>\u001b[0;34m()\u001b[0m\n\u001b[1;32m      1\u001b[0m \u001b[0ma\u001b[0m \u001b[0;34m=\u001b[0m \u001b[0;36m10\u001b[0m\u001b[0;34m\u001b[0m\u001b[0;34m\u001b[0m\u001b[0m\n\u001b[1;32m      2\u001b[0m \u001b[0mb\u001b[0m \u001b[0;34m=\u001b[0m \u001b[0;36m0\u001b[0m\u001b[0;34m\u001b[0m\u001b[0;34m\u001b[0m\u001b[0m\n\u001b[0;32m----> 3\u001b[0;31m \u001b[0mprint\u001b[0m\u001b[0;34m(\u001b[0m\u001b[0ma\u001b[0m\u001b[0;34m/\u001b[0m\u001b[0mb\u001b[0m\u001b[0;34m)\u001b[0m\u001b[0;34m\u001b[0m\u001b[0;34m\u001b[0m\u001b[0m\n\u001b[0m",
            "\u001b[0;31mZeroDivisionError\u001b[0m: division by zero"
          ]
        }
      ]
    },
    {
      "cell_type": "code",
      "source": [
        "a = int(input())\n",
        "print(a)"
      ],
      "metadata": {
        "colab": {
          "base_uri": "https://localhost:8080/",
          "height": 176
        },
        "id": "Dy2zk_nGxQDb",
        "outputId": "a49a3477-de3c-430c-f6d1-ce4bf7fa4cf5"
      },
      "execution_count": 18,
      "outputs": [
        {
          "name": "stdout",
          "output_type": "stream",
          "text": [
            "sai\n"
          ]
        },
        {
          "output_type": "error",
          "ename": "ValueError",
          "evalue": "invalid literal for int() with base 10: 'sai'",
          "traceback": [
            "\u001b[0;31m---------------------------------------------------------------------------\u001b[0m",
            "\u001b[0;31mValueError\u001b[0m                                Traceback (most recent call last)",
            "\u001b[0;32m<ipython-input-18-1a387ada7cac>\u001b[0m in \u001b[0;36m<cell line: 0>\u001b[0;34m()\u001b[0m\n\u001b[0;32m----> 1\u001b[0;31m \u001b[0ma\u001b[0m \u001b[0;34m=\u001b[0m \u001b[0mint\u001b[0m\u001b[0;34m(\u001b[0m\u001b[0minput\u001b[0m\u001b[0;34m(\u001b[0m\u001b[0;34m)\u001b[0m\u001b[0;34m)\u001b[0m\u001b[0;34m\u001b[0m\u001b[0;34m\u001b[0m\u001b[0m\n\u001b[0m\u001b[1;32m      2\u001b[0m \u001b[0mprint\u001b[0m\u001b[0;34m(\u001b[0m\u001b[0ma\u001b[0m\u001b[0;34m)\u001b[0m\u001b[0;34m\u001b[0m\u001b[0;34m\u001b[0m\u001b[0m\n",
            "\u001b[0;31mValueError\u001b[0m: invalid literal for int() with base 10: 'sai'"
          ]
        }
      ]
    },
    {
      "cell_type": "code",
      "source": [
        "arr = [10,20,30,40]\n",
        "print(arr[20])"
      ],
      "metadata": {
        "colab": {
          "base_uri": "https://localhost:8080/",
          "height": 159
        },
        "id": "xFPehh_Mxasa",
        "outputId": "197ef424-2c66-4311-bc75-0749ac57c02f"
      },
      "execution_count": 20,
      "outputs": [
        {
          "output_type": "error",
          "ename": "IndexError",
          "evalue": "list index out of range",
          "traceback": [
            "\u001b[0;31m---------------------------------------------------------------------------\u001b[0m",
            "\u001b[0;31mIndexError\u001b[0m                                Traceback (most recent call last)",
            "\u001b[0;32m<ipython-input-20-b94c42b83e03>\u001b[0m in \u001b[0;36m<cell line: 0>\u001b[0;34m()\u001b[0m\n\u001b[1;32m      1\u001b[0m \u001b[0marr\u001b[0m \u001b[0;34m=\u001b[0m \u001b[0;34m[\u001b[0m\u001b[0;36m10\u001b[0m\u001b[0;34m,\u001b[0m\u001b[0;36m20\u001b[0m\u001b[0;34m,\u001b[0m\u001b[0;36m30\u001b[0m\u001b[0;34m,\u001b[0m\u001b[0;36m40\u001b[0m\u001b[0;34m]\u001b[0m\u001b[0;34m\u001b[0m\u001b[0;34m\u001b[0m\u001b[0m\n\u001b[0;32m----> 2\u001b[0;31m \u001b[0mprint\u001b[0m\u001b[0;34m(\u001b[0m\u001b[0marr\u001b[0m\u001b[0;34m[\u001b[0m\u001b[0;36m20\u001b[0m\u001b[0;34m]\u001b[0m\u001b[0;34m)\u001b[0m\u001b[0;34m\u001b[0m\u001b[0;34m\u001b[0m\u001b[0m\n\u001b[0m",
            "\u001b[0;31mIndexError\u001b[0m: list index out of range"
          ]
        }
      ]
    },
    {
      "cell_type": "code",
      "source": [
        "#Method 1\n",
        "try:\n",
        "  a = int(input())\n",
        "  b = int(input())\n",
        "  c = a/b\n",
        "except:\n",
        "  print(\"Some Error Occured\")\n",
        "else:\n",
        "  print(c)\n",
        "finally:\n",
        "  print(\"Operation Completed\")"
      ],
      "metadata": {
        "colab": {
          "base_uri": "https://localhost:8080/"
        },
        "id": "rN1zRVZ_xj0q",
        "outputId": "50006e89-7c3e-47b4-a8d9-11e1dba7d3b4"
      },
      "execution_count": 26,
      "outputs": [
        {
          "output_type": "stream",
          "name": "stdout",
          "text": [
            "sai\n",
            "Value should be only integer\n",
            "Operation completed\n"
          ]
        }
      ]
    },
    {
      "cell_type": "code",
      "source": [
        "#Method - 2\n",
        "try:\n",
        "  a = int(input())\n",
        "  b = int(input())\n",
        "  c = a/b\n",
        "except ZeroDivisionError:\n",
        "  print(\"Demoninator should not be Zero\")\n",
        "except ValueError:\n",
        "  print(\"Value should be only integer\")\n",
        "except:\n",
        "  print(\"Some other Error Occured\")\n",
        "else:\n",
        "  print(c)\n",
        "finally:\n",
        "  print(\"Operation completed\")"
      ],
      "metadata": {
        "id": "IHgtjHlozwuy"
      },
      "execution_count": null,
      "outputs": []
    },
    {
      "cell_type": "code",
      "source": [
        "#Method - 3\n",
        "try:\n",
        "  a = list(map(int,input(\"Enter List Values: \").split()))\n",
        "  b = int(input(\"Enter Index Value: \"))\n",
        "  c = a[b]\n",
        "except ValueError:\n",
        "  print(\"Value Should be an integer\")\n",
        "except Exception as e:\n",
        "  print(\"The Error is :\",e)\n",
        "else:\n",
        "  print(c)\n",
        "finally:\n",
        "  print(\"completed....\")\n"
      ],
      "metadata": {
        "colab": {
          "base_uri": "https://localhost:8080/"
        },
        "id": "dxM5d8py20gD",
        "outputId": "0fd3984e-52ab-4d13-97bb-5c8ade1b0392"
      },
      "execution_count": 31,
      "outputs": [
        {
          "output_type": "stream",
          "name": "stdout",
          "text": [
            "Enter List Values: 10 20 30\n",
            "Enter Index Value: 40\n",
            "The Error is : list index out of range\n",
            "completed....\n"
          ]
        }
      ]
    },
    {
      "cell_type": "code",
      "source": [
        "try:\n",
        "  d1 = {10:100,20:200,30:300,40:400}\n",
        "  k = int(input(\"Enter Key value: \"))\n",
        "  c = d1[k]\n",
        "except KeyError:\n",
        "  print(\"Key does not Exist\")\n",
        "except Exception as e:\n",
        "  print(e)\n",
        "else:\n",
        "  print(c)\n"
      ],
      "metadata": {
        "colab": {
          "base_uri": "https://localhost:8080/"
        },
        "id": "TFIBkk1R4639",
        "outputId": "59c8ab40-ad76-4278-ac49-23a0afce0fb9"
      },
      "execution_count": 36,
      "outputs": [
        {
          "output_type": "stream",
          "name": "stdout",
          "text": [
            "Enter Key value: hdfwhf\n",
            "invalid literal for int() with base 10: 'hdfwhf'\n"
          ]
        }
      ]
    }
  ]
}